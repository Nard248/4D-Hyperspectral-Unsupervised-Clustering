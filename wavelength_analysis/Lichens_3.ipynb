{
 "nbformat": 4,
 "nbformat_minor": 0,
 "metadata": {
  "colab": {
   "provenance": []
  },
  "kernelspec": {
   "name": "python3",
   "display_name": "Python 3"
  },
  "language_info": {
   "name": "python"
  }
 },
 "cells": [
  {
   "cell_type": "markdown",
   "source": [
    "# Installations"
   ],
   "metadata": {
    "id": "k4V_tp7o-ryD"
   }
  },
  {
   "cell_type": "code",
   "source": [
    "%%shell\n",
    "pip install pyimagej spectral -qqq\n",
    "\n",
    "# apt update # not always this is needed\n",
    "apt install -y maven > /dev/null"
   ],
   "metadata": {
    "colab": {
     "base_uri": "https://localhost:8080/"
    },
    "id": "tW6qmDo0-vQA",
    "outputId": "0d30a923-95d1-4de0-f58a-f514ae899021"
   },
   "outputs": [],
   "execution_count": null
  },
  {
   "cell_type": "markdown",
   "source": [
    "# Clone CubeExplore"
   ],
   "metadata": {
    "id": "Yo7VRUMQ-nn0"
   }
  },
  {
   "cell_type": "code",
   "metadata": {
    "colab": {
     "base_uri": "https://localhost:8080/"
    },
    "id": "bms10nFh7CBf",
    "outputId": "b373ddd2-8577-4e06-df19-5d3c6129d71d"
   },
   "source": [
    "!git clone -b development https://github.com/chilly-nk/CubeExplore.git\n",
    "%cd CubeExplore"
   ],
   "outputs": [],
   "execution_count": null
  },
  {
   "cell_type": "markdown",
   "source": [
    "# Imports"
   ],
   "metadata": {
    "id": "tCZ7ew0pGGLW"
   }
  },
  {
   "cell_type": "code",
   "source": [
    "# Import cubexplore and its functions or classes\n",
    "\n",
    "import cubexplore as cubex\n",
    "from cubexplore import Cubes"
   ],
   "metadata": {
    "id": "0UGK7V2w7hxk"
   },
   "outputs": [],
   "execution_count": null
  },
  {
   "cell_type": "code",
   "source": [
    "import os\n",
    "import numpy as np\n",
    "import pandas as pd\n",
    "import matplotlib.pyplot as plt\n",
    "import seaborn as sns\n",
    "import sklearn\n",
    "\n",
    "from pathlib import Path\n",
    "\n",
    "%config InlineBackend.figure_format = 'retina' # to make plots appear nicer on some screens"
   ],
   "metadata": {
    "id": "0P6naHc5GGLX"
   },
   "outputs": [],
   "execution_count": null
  },
  {
   "cell_type": "code",
   "source": [
    "print(sklearn.__version__)"
   ],
   "metadata": {
    "id": "KvYwKFL1Q8Jl",
    "outputId": "e3b645ff-15eb-4ef8-a545-d38c70ae2360",
    "colab": {
     "base_uri": "https://localhost:8080/"
    }
   },
   "outputs": [],
   "execution_count": null
  },
  {
   "cell_type": "code",
   "source": [
    "# Mount Drive\n",
    "from google.colab import drive\n",
    "drive.mount('/content/drive')"
   ],
   "metadata": {
    "colab": {
     "base_uri": "https://localhost:8080/"
    },
    "outputId": "1ccd66b4-4476-42ea-a575-c643ba713f9a",
    "id": "RL774gMNGGLX"
   },
   "outputs": [],
   "execution_count": null
  },
  {
   "cell_type": "code",
   "source": [
    "project = 'Lichens_3'\n",
    "project = Path(f'/content/drive/MyDrive/DATA/PROJECTS/{project}')\n",
    "sorted(project.iterdir())"
   ],
   "metadata": {
    "colab": {
     "base_uri": "https://localhost:8080/"
    },
    "id": "Vs6L2BjqM01J",
    "outputId": "681c2d18-19f8-42e0-8963-ee6c7d450cf3"
   },
   "outputs": [],
   "execution_count": null
  },
  {
   "cell_type": "markdown",
   "source": [
    "# Data"
   ],
   "metadata": {
    "id": "gyBS-zmHGGLY"
   }
  },
  {
   "cell_type": "code",
   "source": [
    "# Path of all HSI datasets\n",
    "hsi_datasets = '/content/drive/MyDrive/DATA/Datasets_HSI'"
   ],
   "metadata": {
    "id": "zZGyzbqgLmxC"
   },
   "outputs": [],
   "execution_count": null
  },
  {
   "cell_type": "code",
   "source": [
    "version = 'Raw' # decide which version of the dataset should be read\n",
    "\n",
    "experiment = '250707_4DHSI_Lichens_B3_Palette_NC_NAS' # decide experiment\n",
    "experiment_path = Path(hsi_datasets, version, experiment) # construct the path for that experiment\n",
    "\n",
    "# load mappings data\n",
    "mappings_path = Path(experiment_path, 'Mappings.csv')\n",
    "mappings = pd.read_csv(mappings_path).set_index('Sample_ID')\n",
    "mappings"
   ],
   "metadata": {
    "id": "XSLIvsEMMCUB",
    "colab": {
     "base_uri": "https://localhost:8080/",
     "height": 143
    },
    "outputId": "4a1bb150-356d-4743-90f1-04b6dd9d3278"
   },
   "outputs": [],
   "execution_count": null
  },
  {
   "cell_type": "code",
   "source": [
    "sample = 'ManualExposure' # decide on sample\n",
    "\n",
    "data_path = Path(experiment_path, mappings.loc[sample, 'HSI_Folder'])\n",
    "metadata_path = Path(experiment_path, mappings.loc[sample, 'Metadata_HSI'])\n",
    "os.listdir(data_path)"
   ],
   "metadata": {
    "id": "mS-ka9vpMV4Z",
    "colab": {
     "base_uri": "https://localhost:8080/"
    },
    "outputId": "ce621e9e-0541-494d-a7f8-b07df8272096"
   },
   "outputs": [],
   "execution_count": null
  },
  {
   "cell_type": "code",
   "source": [
    "cubes_to_analyse = ['310.tif',\n",
    "                    '325.tif',\n",
    "                    '340.tif',\n",
    "                    '365.tif',\n",
    "                    '385.tif',\n",
    "                    '400.tif',\n",
    "                    '415.tif',\n",
    "                    '430.tif',\n",
    "                    'WhiteLight.tif']"
   ],
   "metadata": {
    "id": "3HrLOQ3ySXuI"
   },
   "outputs": [],
   "execution_count": null
  },
  {
   "cell_type": "code",
   "source": [
    "cubes = Cubes(data_path, metadata_path, sample, cubes_to_analyse) # if you have .tif files\n",
    "# cubes = Cubes(data_path, metadata_path, sample, data_source='nuance') # if you want to load .im3 cubes"
   ],
   "metadata": {
    "colab": {
     "base_uri": "https://localhost:8080/"
    },
    "id": "7PpdDz9UNgkx",
    "outputId": "70cf968f-b822-4a59-ea26-00af4199c520"
   },
   "outputs": [],
   "execution_count": null
  },
  {
   "cell_type": "markdown",
   "source": [
    "### Save Cubes as Tiff"
   ],
   "metadata": {
    "id": "aRcaZaOJQlcQ"
   }
  },
  {
   "cell_type": "code",
   "source": [
    "data_path.name"
   ],
   "metadata": {
    "id": "Sg-JcvsUoP2Q",
    "outputId": "1a1f2475-8466-4c39-b152-70a69117a642",
    "colab": {
     "base_uri": "https://localhost:8080/",
     "height": 35
    }
   },
   "outputs": [],
   "execution_count": null
  },
  {
   "cell_type": "code",
   "source": [
    "# cubes.save_tiff(description=data_path.name)"
   ],
   "metadata": {
    "id": "jmKUJMa9QrOD"
   },
   "outputs": [],
   "execution_count": null
  },
  {
   "cell_type": "markdown",
   "source": [
    "## ROIs | View & Keep"
   ],
   "metadata": {
    "id": "ZLBHEU5Kw0Fq"
   }
  },
  {
   "cell_type": "code",
   "source": [
    "# Threshold bands for better RGB\n",
    "cubes.threshold_bands(cubes.names)"
   ],
   "metadata": {
    "colab": {
     "base_uri": "https://localhost:8080/"
    },
    "id": "O3K9bCumMb_2",
    "outputId": "4dd3946b-7333-4f40-bc21-9085342d36d3"
   },
   "outputs": [],
   "execution_count": null
  },
  {
   "cell_type": "code",
   "source": [
    "cubes.view('WhiteLight.tif', which_data='thresholded')\n",
    "cubes.roi((100, 870, 680, 1250))\n",
    "filepath = Path(project, f\"Samples_Cropping\")\n",
    "plt.savefig(filepath, bbox_inches='tight', dpi=200)"
   ],
   "metadata": {
    "colab": {
     "base_uri": "https://localhost:8080/",
     "height": 435
    },
    "id": "LHdwOxLcSBBv",
    "outputId": "e2344873-0b5c-45e9-b3e1-cd710f03343e"
   },
   "outputs": [],
   "execution_count": null
  },
  {
   "cell_type": "code",
   "source": [
    "cubes.crop()\n",
    "cubes.threshold_bands(cubes.names)\n",
    "cubes.view('WhiteLight.tif', which_data='thresholded')"
   ],
   "metadata": {
    "colab": {
     "base_uri": "https://localhost:8080/",
     "height": 609
    },
    "id": "11vGF3RLT_1K",
    "outputId": "50eac542-d575-4981-8272-0ff0a02ff406"
   },
   "outputs": [],
   "execution_count": null
  },
  {
   "cell_type": "code",
   "source": [
    "# Extract colors from a palette\n",
    "palette = sns.color_palette(\"deep\")\n",
    "\n",
    "# Get red, green, blue from the palette\n",
    "red   = palette[3]  # usually red is at index 3 in \"deep\"\n",
    "green = palette[2]  # green is often at index 2\n",
    "blue  = palette[0]  # blue is typically first"
   ],
   "metadata": {
    "id": "Ks2nIBdkcip2"
   },
   "outputs": [],
   "execution_count": null
  },
  {
   "cell_type": "code",
   "source": [
    "# approach = 'SinglePiece'\n",
    "\n",
    "cubename = 'WhiteLight.tif'\n",
    "cubes.view(cubename, 'thresholded')\n",
    "cubes.reset_rois()\n",
    "\n",
    "lw = 2.5\n",
    "\n",
    "# Extract colors from a palette\n",
    "palette = sns.color_palette(\"deep\")\n",
    "\n",
    "red   = palette[3]\n",
    "red = (1.0, 0.0, 0.0)\n",
    "\n",
    "green = palette[2]\n",
    "green = (0.0, 1.0, 0.0)\n",
    "\n",
    "blue  = palette[0]\n",
    "blue = (0.0, 0.0, 1.0)\n",
    "\n",
    "black = (0, 0, 0)\n",
    "\n",
    "specimen = 'B';\n",
    "cubes.roi((50, 140, 425, 515), keep=True, edgecolor=red, lw=lw, label=f\"{specimen}\")\n",
    "\n",
    "specimen = 'C';\n",
    "cubes.roi((50, 140, 225, 315), keep=True, edgecolor=green, lw=lw, label=f\"{specimen}\")\n",
    "\n",
    "specimen = 'A';\n",
    "cubes.roi((70, 160, 10, 100), keep=True, edgecolor=blue, lw=lw, label=f\"{specimen}\")\n",
    "\n",
    "# # specimen = 6;\n",
    "# # cubes.roi((), keep=True, edgecolor=next(sample_colors), lw=lw, label=f\"B3_s{specimen}\")\n",
    "\n",
    "# specimen = 'WhiteStandard';\n",
    "# cubes.roi((205, 350, 590, 640), keep=True, edgecolor=next(sample_colors), lw=lw, label=f\"{specimen}\")\n",
    "\n",
    "specimen = 'Background';\n",
    "cubes.roi((205, 350, 150, 200), keep=True, edgecolor=black, lw=lw, label=f\"{specimen}\")\n",
    "\n",
    "# specimen = 'Paper';\n",
    "# cubes.roi((), keep=True, edgecolor=next(bgr_colors), lw=lw, label=f\"{specimen}\")\n",
    "\n",
    "filename = f\"ROIs_{cubename.split('.')[0]}.png\"\n",
    "filepath = Path(project, filename)\n",
    "plt.savefig(filepath, bbox_inches='tight', dpi=200)"
   ],
   "metadata": {
    "colab": {
     "base_uri": "https://localhost:8080/",
     "height": 435
    },
    "id": "mDyMPew1Lmde",
    "outputId": "e2778e77-f81f-412c-87ec-067a45488a1d"
   },
   "outputs": [],
   "execution_count": null
  },
  {
   "cell_type": "code",
   "source": [
    "cubes.rois.set_index('label', inplace=True)\n",
    "cubes.rois"
   ],
   "metadata": {
    "id": "liKZmuoBfGbp",
    "colab": {
     "base_uri": "https://localhost:8080/",
     "height": 206
    },
    "outputId": "23a6e5a7-27ca-4a62-db48-1000b1d06467"
   },
   "outputs": [],
   "execution_count": null
  },
  {
   "cell_type": "code",
   "source": [
    "non_lichens = ['Tape', 'Paper', 'WS', 'WhiteStandard', 'Background']"
   ],
   "metadata": {
    "id": "Ru0lM2agtkhf"
   },
   "outputs": [],
   "execution_count": null
  },
  {
   "cell_type": "code",
   "source": [
    "class_labels = [177, 216, 100, 5] # took from Lichens_2\n",
    "\n",
    "# sample_colors = list(sns.color_palette())[:len(class_labels)-1]\n",
    "sample_colors = [red, green, blue]\n",
    "bgr_colors = [(0, 0, 0)]\n",
    "\n",
    "cubes.rois['class_label'] = class_labels\n",
    "cubes.rois['colors'] = sample_colors + bgr_colors\n",
    "cubes.rois"
   ],
   "metadata": {
    "colab": {
     "base_uri": "https://localhost:8080/",
     "height": 206
    },
    "id": "MYAN4yalYJpM",
    "outputId": "f96bfb55-9fed-46b7-ca90-db888cf5312c"
   },
   "outputs": [],
   "execution_count": null
  },
  {
   "cell_type": "code",
   "source": [
    "label_dict = cubes.rois.class_label.to_dict()\n",
    "value_dict = {val: key for key, val in label_dict.items()}\n",
    "color_dict = cubes.rois[['class_label', 'colors']].set_index('class_label').colors.to_dict()\n",
    "color_dict"
   ],
   "metadata": {
    "id": "37fLe02qp01e",
    "colab": {
     "base_uri": "https://localhost:8080/"
    },
    "outputId": "d12432b9-4517-4aae-9b3b-11880f58ad8a"
   },
   "outputs": [],
   "execution_count": null
  },
  {
   "cell_type": "code",
   "source": [
    "cubes.rois.to_csv(Path(project, f'ROIs.csv'))"
   ],
   "metadata": {
    "id": "uM8ReTGcWHXo"
   },
   "outputs": [],
   "execution_count": null
  },
  {
   "cell_type": "markdown",
   "source": [
    "# Preprocess\n",
    "\n",
    "1. First correction of all cubes by exposure time\n",
    "2. Then, will be using:\n",
    "  - Normalized cubes (to max)\n",
    "  - Normalized then concatenated spectra\n",
    "  - Concatenated then normalized spectra"
   ],
   "metadata": {
    "id": "9lpRY6wY7Hc4"
   }
  },
  {
   "cell_type": "code",
   "source": [
    "# Correct by exposure\n",
    "cubes.correct_by_exposure()\n",
    "starting_data = 'processed'\n",
    "print(starting_data)\n",
    "print(cubes.processed.keys())"
   ],
   "metadata": {
    "colab": {
     "base_uri": "https://localhost:8080/"
    },
    "id": "MZ9yAxuUNuGz",
    "outputId": "d57bb3df-a903-4b02-9e70-351ebaf0135e"
   },
   "outputs": [],
   "execution_count": null
  },
  {
   "cell_type": "code",
   "source": [
    "cubes.normalized.keys()"
   ],
   "metadata": {
    "colab": {
     "base_uri": "https://localhost:8080/"
    },
    "id": "zfagsezPM8CA",
    "outputId": "1f2b309a-2171-45ed-88f5-896e6fa75aa4"
   },
   "outputs": [],
   "execution_count": null
  },
  {
   "cell_type": "code",
   "source": [
    "cubes.combined.keys()"
   ],
   "metadata": {
    "colab": {
     "base_uri": "https://localhost:8080/"
    },
    "id": "KqlamjvEM-WB",
    "outputId": "f28f7870-488c-4ece-8b4b-06f5a772e1ee"
   },
   "outputs": [],
   "execution_count": null
  },
  {
   "cell_type": "markdown",
   "source": [
    "# kNN - GridSearchCV"
   ],
   "metadata": {
    "id": "mSGusNTwQCzB"
   }
  },
  {
   "cell_type": "code",
   "source": [
    "# scoring = 'roc_auc_ovr'\n",
    "scoring = 'balanced_accuracy'\n",
    "folder = os.path.join(project, f'CV_Results_kNN_{scoring}')\n",
    "os.makedirs(folder, exist_ok=True)"
   ],
   "metadata": {
    "id": "UkVFtPMMQFMi"
   },
   "outputs": [],
   "execution_count": null
  },
  {
   "cell_type": "code",
   "source": [
    "for cubename in cubes.names:\n",
    "  cube = cubes.processed[cubename]\n",
    "  print(cube.shape)"
   ],
   "metadata": {
    "colab": {
     "base_uri": "https://localhost:8080/"
    },
    "id": "ZZHG1CifVkmZ",
    "outputId": "518b0b3e-4837-4796-c16c-b341626c3631"
   },
   "outputs": [],
   "execution_count": null
  },
  {
   "cell_type": "code",
   "source": [
    "cube.shape[0] * cube.shape[1]"
   ],
   "metadata": {
    "colab": {
     "base_uri": "https://localhost:8080/"
    },
    "id": "XuQXssGaVzOA",
    "outputId": "967f86cd-38db-46a1-c907-53b7fd3d8173"
   },
   "outputs": [],
   "execution_count": null
  },
  {
   "cell_type": "markdown",
   "source": [
    "## CV | Normalized Cubes"
   ],
   "metadata": {
    "id": "QFwScEI0QC7m"
   }
  },
  {
   "cell_type": "code",
   "source": [
    "# Normalized\n",
    "cubes.normalize(which_data=starting_data, how='snv')\n",
    "cubes.spectra_from_rois(which_data='normalized')\n",
    "\n",
    "spectra = cubes.spectra.reset_index()\n",
    "\n",
    "# Include only lichen classes into training\n",
    "# Because paper and tape are usually classified well and they push the metrics up artificially obscuring real infromation about lichens\n",
    "samples = [\n",
    "    sample for sample in spectra.roi_name.unique()\n",
    "    if all(substr not in sample for substr in non_lichens)\n",
    "]\n",
    "spectra = spectra[spectra['roi_name'].isin(samples)]\n",
    "\n",
    "# Decide on max k-neighbors\n",
    "sizes = spectra.groupby('cubename').aggregate({'roi_name': 'count'}).roi_name.tolist()\n",
    "if all([sizes[i] == sizes[0] for i, size in enumerate(sizes)]):\n",
    "  n_samples = sizes[0]\n",
    "\n",
    "cv_train_size = n_samples * 0.8\n",
    "\n",
    "min_k = 5\n",
    "max_k = int(cv_train_size)\n",
    "max_k = 1000\n",
    "\n",
    "range_1 = list(range(10, 100, 10))\n",
    "range_2 = list(range(100, 501, 20))\n",
    "\n",
    "n_neighbors = np.linspace(min_k, max_k, num=50, dtype='int')\n",
    "# n_neighbors = [min_k] + list(range(10, max_k+1, 10))\n",
    "n_neighbors = [min_k] + range_1 + range_2\n",
    "\n",
    "print('ROIs to be used for training:')\n",
    "print(spectra.roi_name.unique())\n",
    "\n",
    "print(f\"Number of k-neighbors to be tested: (total of {len(n_neighbors)} variants)\")\n",
    "print(n_neighbors)"
   ],
   "metadata": {
    "colab": {
     "base_uri": "https://localhost:8080/"
    },
    "id": "z_QOqEJJoRh4",
    "outputId": "c3b2dc53-195c-47be-8b2c-cb3a3498f2c7"
   },
   "outputs": [],
   "execution_count": null
  },
  {
   "cell_type": "code",
   "source": [
    "spectra.cubename.unique()"
   ],
   "metadata": {
    "colab": {
     "base_uri": "https://localhost:8080/"
    },
    "id": "yzwibnDx1cR6",
    "outputId": "09de210f-a41f-4614-cfc0-5c6c2d16c114"
   },
   "outputs": [],
   "execution_count": null
  },
  {
   "cell_type": "code",
   "source": [
    "from sklearn.preprocessing import StandardScaler\n",
    "from sklearn.neighbors import KNeighborsClassifier\n",
    "from sklearn.model_selection import StratifiedKFold, GridSearchCV\n",
    "\n",
    "# skf = StratifiedKFold(n_splits=5, shuffle=True, random_state=42) # Develop later\n",
    "\n",
    "param_grid = {'n_neighbors': n_neighbors}\n",
    "estimator = KNeighborsClassifier(n_jobs=-1)\n",
    "\n",
    "for cubename in spectra.cubename.unique():\n",
    "  id_vars = spectra.columns[:6]\n",
    "  spectra_cube = spectra[spectra['cubename'] == cubename].reset_index(drop=True) # ֆիլտրում ենք սպեկտրները ըստ կուբի\n",
    "  wvls = spectra_cube.columns.difference(id_vars)\n",
    "  metadata = spectra_cube[id_vars]\n",
    "  labels = metadata['roi_name'].map(label_dict).tolist()\n",
    "  data = spectra_cube[wvls].to_numpy()\n",
    "  data = np.nan_to_num(data, nan=0)\n",
    "  data = StandardScaler().fit_transform(data)\n",
    "\n",
    "  search = GridSearchCV(estimator, param_grid, scoring=scoring, n_jobs=-1)\n",
    "  search.fit(data, labels)\n",
    "\n",
    "  cv_results = pd.DataFrame(search.cv_results_).sort_values(['rank_test_score'])\n",
    "\n",
    "  filepath = os.path.join(folder, f\"CV_{cubename}.csv\")\n",
    "  cv_results.to_csv(filepath)"
   ],
   "metadata": {
    "id": "pEj9pOLqcS3w"
   },
   "outputs": [],
   "execution_count": null
  },
  {
   "cell_type": "markdown",
   "source": [
    "## CV | Norm_Concat - ToDo"
   ],
   "metadata": {
    "id": "AAvZcvkPb3GN"
   }
  },
  {
   "cell_type": "code",
   "source": [
    "# Preprocess\n",
    "label = 'Norm_Concat'\n",
    "cubes.normalize(which_data=starting_data, how='snv') # Normalize\n",
    "cubes_to_combine = list(set(cubes.names).difference(['WhiteLight.tif'])) # Select only fluorescence cubes\n",
    "cubes.combine(cubes_to_combine, which_data='normalized', label=label) # Concatenate\n",
    "\n",
    "# Spectra from ROIs\n",
    "cubes.spectra_from_rois(label, which_data='combined')\n",
    "spectra = cubes.spectra.reset_index()\n",
    "\n",
    "# Include only lichen classes into training\n",
    "# Because paper and tape are usually classified well and they push the metrics up artificially obscuring real infromation about lichens\n",
    "samples = [\n",
    "    sample for sample in spectra.roi_name.unique()\n",
    "    if all(substr not in sample for substr in non_lichens)\n",
    "]\n",
    "spectra = spectra[spectra['roi_name'].isin(samples)]\n",
    "\n",
    "# Decide on max k-neighbors\n",
    "sizes = spectra.groupby('cubename').aggregate({'roi_name': 'count'}).roi_name.tolist()\n",
    "if all([sizes[i] == sizes[0] for i, size in enumerate(sizes)]):\n",
    "  n_samples = sizes[0]\n",
    "\n",
    "cv_train_size = n_samples * 0.8\n",
    "\n",
    "min_k = 5\n",
    "max_k = int(cv_train_size)\n",
    "max_k = 1000\n",
    "\n",
    "range_1 = list(range(10, 100, 10))\n",
    "range_2 = list(range(100, 501, 20))\n",
    "\n",
    "n_neighbors = np.linspace(min_k, max_k, num=50, dtype='int')\n",
    "# n_neighbors = [min_k] + list(range(10, max_k+1, 10))\n",
    "n_neighbors = [min_k] + range_1 + range_2\n",
    "\n",
    "print('ROIs to be used for training:')\n",
    "print(spectra.roi_name.unique())\n",
    "\n",
    "print(f\"Number of k-neighbors to be tested: (total of {len(n_neighbors)} variants)\")\n",
    "print(n_neighbors)"
   ],
   "metadata": {
    "colab": {
     "base_uri": "https://localhost:8080/"
    },
    "id": "oo2AdYk9b__D",
    "outputId": "11f89bf3-37c1-489e-def7-21fdaa5657ed"
   },
   "outputs": [],
   "execution_count": null
  },
  {
   "cell_type": "code",
   "source": [
    "plt.figure(figsize=(40, 5))\n",
    "columns = cubes.spectra_wvls\n",
    "sp = spectra.groupby('roi_name')[columns].agg('mean').T\n",
    "sns.lineplot(sp)\n",
    "plt.xticks(rotation=90);"
   ],
   "metadata": {
    "colab": {
     "base_uri": "https://localhost:8080/",
     "height": 511
    },
    "id": "_Xn1ag4miNc8",
    "outputId": "428b9381-c83b-4ee8-a9bc-86066cefd0d3"
   },
   "outputs": [],
   "execution_count": null
  },
  {
   "cell_type": "code",
   "source": [
    "from sklearn.preprocessing import StandardScaler\n",
    "from sklearn.neighbors import KNeighborsClassifier\n",
    "from sklearn.model_selection import StratifiedKFold, GridSearchCV\n",
    "\n",
    "# skf = StratifiedKFold(n_splits=5, shuffle=True, random_state=42) # Develop later\n",
    "\n",
    "param_grid = {'n_neighbors': n_neighbors}\n",
    "estimator = KNeighborsClassifier(n_jobs=-1)\n",
    "\n",
    "for cubename in spectra.cubename.unique():\n",
    "  id_vars = spectra.columns[:6]\n",
    "  spectra_cube = spectra[spectra['cubename'] == cubename].reset_index(drop=True) # ֆիլտրում ենք սպեկտրները ըստ կուբի\n",
    "  wvls = spectra_cube.columns.difference(id_vars)\n",
    "  metadata = spectra_cube[id_vars]\n",
    "  labels = metadata['roi_name'].map(label_dict).tolist()\n",
    "  data = spectra_cube[wvls].to_numpy()\n",
    "  data = np.nan_to_num(data, nan=0)\n",
    "  data = StandardScaler().fit_transform(data)\n",
    "\n",
    "  search = GridSearchCV(estimator, param_grid, scoring=scoring, n_jobs=-1)\n",
    "  search.fit(data, labels)\n",
    "\n",
    "  cv_results = pd.DataFrame(search.cv_results_).sort_values(['rank_test_score'])\n",
    "\n",
    "  filepath = os.path.join(folder, f\"CV_{cubename}.csv\")\n",
    "  cv_results.to_csv(filepath)\n",
    "  print(f\"CV results saved at {filepath}\")"
   ],
   "metadata": {
    "colab": {
     "base_uri": "https://localhost:8080/"
    },
    "id": "IXHdADlxde6k",
    "outputId": "5c39125f-f4a7-4de4-8202-0003833d0763"
   },
   "outputs": [],
   "execution_count": null
  },
  {
   "cell_type": "markdown",
   "source": [
    "## CV | Concat_Norm - ToDo"
   ],
   "metadata": {
    "id": "2SodVD1LdrOv"
   }
  },
  {
   "cell_type": "code",
   "source": [
    "# Preprocess\n",
    "label = 'Concat_Norm'\n",
    "cubes_to_combine = list(set(cubes.names).difference(['WhiteLight.tif'])) # Select only fluorescence cubes\n",
    "cubes.combine(cubes_to_combine, which_data=starting_data, label=label) # Concatenate\n",
    "cubes.normalize(label, which_data='combined', how='snv') # Normalize\n",
    "\n",
    "# Spectra from ROIs\n",
    "cubes.spectra_from_rois(label, which_data='normalized')\n",
    "spectra = cubes.spectra.reset_index()\n",
    "\n",
    "# Include only lichen classes into training\n",
    "# Because paper and tape are usually classified well and they push the metrics up artificially obscuring real infromation about lichens\n",
    "samples = [\n",
    "    sample for sample in spectra.roi_name.unique()\n",
    "    if all(substr not in sample for substr in non_lichens)\n",
    "]\n",
    "spectra = spectra[spectra['roi_name'].isin(samples)]\n",
    "\n",
    "# Decide on max k-neighbors\n",
    "sizes = spectra.groupby('cubename').aggregate({'roi_name': 'count'}).roi_name.tolist()\n",
    "if all([sizes[i] == sizes[0] for i, size in enumerate(sizes)]):\n",
    "  n_samples = sizes[0]\n",
    "\n",
    "cv_train_size = n_samples * 0.8\n",
    "\n",
    "min_k = 5\n",
    "max_k = int(cv_train_size)\n",
    "max_k = 1000\n",
    "\n",
    "range_1 = list(range(10, 100, 10))\n",
    "range_2 = list(range(100, 501, 20))\n",
    "\n",
    "n_neighbors = np.linspace(min_k, max_k, num=50, dtype='int')\n",
    "# n_neighbors = [min_k] + list(range(10, max_k+1, 10))\n",
    "n_neighbors = [min_k] + range_1 + range_2\n",
    "\n",
    "print('ROIs to be used for training:')\n",
    "print(spectra.roi_name.unique())\n",
    "\n",
    "print(f\"Number of k-neighbors to be tested: (total of {len(n_neighbors)} variants)\")\n",
    "print(n_neighbors)"
   ],
   "metadata": {
    "colab": {
     "base_uri": "https://localhost:8080/"
    },
    "outputId": "9e30238e-e28b-4462-eb54-910146e3ae8c",
    "id": "kKmsmvh7drOy"
   },
   "outputs": [],
   "execution_count": null
  },
  {
   "cell_type": "code",
   "source": [
    "spectra.cubename.unique()"
   ],
   "metadata": {
    "colab": {
     "base_uri": "https://localhost:8080/"
    },
    "id": "B4gwNufViJbk",
    "outputId": "f8872d1c-7cd0-4417-bb1f-86e030ee1536"
   },
   "outputs": [],
   "execution_count": null
  },
  {
   "cell_type": "code",
   "source": [
    "plt.figure(figsize=(40, 5))\n",
    "columns = cubes.spectra_wvls\n",
    "sp = spectra.groupby('roi_name')[columns].agg('mean').T\n",
    "sns.lineplot(sp)\n",
    "plt.xticks(rotation=90);"
   ],
   "metadata": {
    "colab": {
     "base_uri": "https://localhost:8080/",
     "height": 511
    },
    "id": "B3YIrHURe8N3",
    "outputId": "080178cd-b86e-4d34-ec5a-53f1249ead88"
   },
   "outputs": [],
   "execution_count": null
  },
  {
   "cell_type": "code",
   "source": [
    "from sklearn.preprocessing import StandardScaler\n",
    "from sklearn.neighbors import KNeighborsClassifier\n",
    "from sklearn.model_selection import StratifiedKFold, GridSearchCV\n",
    "\n",
    "# skf = StratifiedKFold(n_splits=5, shuffle=True, random_state=42) # Develop later\n",
    "\n",
    "param_grid = {'n_neighbors': n_neighbors}\n",
    "estimator = KNeighborsClassifier(n_jobs=-1)\n",
    "\n",
    "for cubename in spectra.cubename.unique():\n",
    "  id_vars = spectra.columns[:6]\n",
    "  spectra_cube = spectra[spectra['cubename'] == cubename].reset_index(drop=True) # ֆիլտրում ենք սպեկտրները ըստ կուբի\n",
    "  wvls = spectra_cube.columns.difference(id_vars)\n",
    "  metadata = spectra_cube[id_vars]\n",
    "  labels = metadata['roi_name'].map(label_dict).tolist()\n",
    "  data = spectra_cube[wvls].to_numpy()\n",
    "  data = np.nan_to_num(data, nan=0)\n",
    "  data = StandardScaler().fit_transform(data)\n",
    "\n",
    "  search = GridSearchCV(estimator, param_grid, scoring=scoring, n_jobs=-1)\n",
    "  search.fit(data, labels)\n",
    "\n",
    "  cv_results = pd.DataFrame(search.cv_results_).sort_values(['rank_test_score'])\n",
    "\n",
    "  filepath = os.path.join(folder, f\"CV_{cubename}.csv\")\n",
    "  cv_results.to_csv(filepath)\n",
    "  print(f\"CV results saved at: {filepath}\")"
   ],
   "metadata": {
    "id": "MbGuoNktdrOz",
    "colab": {
     "base_uri": "https://localhost:8080/"
    },
    "outputId": "4abcdb12-2729-442d-95d1-699759b2b99c"
   },
   "outputs": [],
   "execution_count": null
  },
  {
   "cell_type": "markdown",
   "source": [
    "## --- 3 Cubes"
   ],
   "metadata": {
    "id": "H9gE8Dbxk0vd"
   }
  },
  {
   "cell_type": "code",
   "source": [
    "cubes_to_combine = ['340.tif', '365.tif', '385.tif']"
   ],
   "metadata": {
    "id": "pMn0jGoDlQrQ"
   },
   "outputs": [],
   "execution_count": null
  },
  {
   "cell_type": "markdown",
   "source": [
    "## CV | Norm_Concat - ToDo"
   ],
   "metadata": {
    "id": "TOJKiVsFk1Ab"
   }
  },
  {
   "cell_type": "code",
   "source": [
    "# Preprocess\n",
    "label = 'Norm_Concat_340_365_385'\n",
    "cubes.normalize(which_data=starting_data, how='snv') # Normalize\n",
    "\n",
    "cubes_to_combine = ['340.tif', '365.tif', '385.tif']\n",
    "cubes.combine(cubes_to_combine, which_data='normalized', label=label) # Concatenate\n",
    "\n",
    "# Spectra from ROIs\n",
    "cubes.spectra_from_rois(label, which_data='combined')\n",
    "spectra = cubes.spectra.reset_index()\n",
    "\n",
    "# Include only lichen classes into training\n",
    "# Because paper and tape are usually classified well and they push the metrics up artificially obscuring real infromation about lichens\n",
    "samples = [\n",
    "    sample for sample in spectra.roi_name.unique()\n",
    "    if all(substr not in sample for substr in non_lichens)\n",
    "]\n",
    "spectra = spectra[spectra['roi_name'].isin(samples)]\n",
    "\n",
    "# Decide on max k-neighbors\n",
    "sizes = spectra.groupby('cubename').aggregate({'roi_name': 'count'}).roi_name.tolist()\n",
    "if all([sizes[i] == sizes[0] for i, size in enumerate(sizes)]):\n",
    "  n_samples = sizes[0]\n",
    "\n",
    "cv_train_size = n_samples * 0.8\n",
    "\n",
    "min_k = 5\n",
    "max_k = int(cv_train_size)\n",
    "max_k = 1000\n",
    "\n",
    "range_1 = list(range(10, 100, 10))\n",
    "range_2 = list(range(100, 501, 20))\n",
    "\n",
    "n_neighbors = np.linspace(min_k, max_k, num=50, dtype='int')\n",
    "# n_neighbors = [min_k] + list(range(10, max_k+1, 10))\n",
    "n_neighbors = [min_k] + range_1 + range_2\n",
    "\n",
    "print('ROIs to be used for training:')\n",
    "print(spectra.roi_name.unique())\n",
    "\n",
    "print(f\"Number of k-neighbors to be tested: (total of {len(n_neighbors)} variants)\")\n",
    "print(n_neighbors)"
   ],
   "metadata": {
    "colab": {
     "base_uri": "https://localhost:8080/"
    },
    "outputId": "2d94adb4-2e1d-4f09-ed8b-6d97349ffd80",
    "id": "BKld0yQjk1Ac"
   },
   "outputs": [],
   "execution_count": null
  },
  {
   "cell_type": "code",
   "source": [
    "plt.figure(figsize=(40, 5))\n",
    "columns = cubes.spectra_wvls\n",
    "sp = spectra.groupby('roi_name')[columns].agg('mean').T\n",
    "sns.lineplot(sp)\n",
    "plt.xticks(rotation=90);"
   ],
   "metadata": {
    "colab": {
     "base_uri": "https://localhost:8080/",
     "height": 491
    },
    "outputId": "5366405e-a7e0-4b18-a89b-d606de40b814",
    "id": "6hvY60VGk1Ad"
   },
   "outputs": [],
   "execution_count": null
  },
  {
   "cell_type": "code",
   "source": [
    "spectra.cubename.unique()"
   ],
   "metadata": {
    "colab": {
     "base_uri": "https://localhost:8080/"
    },
    "id": "erPfCFrfljka",
    "outputId": "de2ae553-7219-49ce-b074-6978d42bf2f0"
   },
   "outputs": [],
   "execution_count": null
  },
  {
   "cell_type": "code",
   "source": [
    "from sklearn.preprocessing import StandardScaler\n",
    "from sklearn.neighbors import KNeighborsClassifier\n",
    "from sklearn.model_selection import StratifiedKFold, GridSearchCV\n",
    "\n",
    "# skf = StratifiedKFold(n_splits=5, shuffle=True, random_state=42) # Develop later\n",
    "\n",
    "param_grid = {'n_neighbors': n_neighbors}\n",
    "estimator = KNeighborsClassifier(n_jobs=-1)\n",
    "\n",
    "for cubename in spectra.cubename.unique():\n",
    "  id_vars = spectra.columns[:6]\n",
    "  spectra_cube = spectra[spectra['cubename'] == cubename].reset_index(drop=True) # ֆիլտրում ենք սպեկտրները ըստ կուբի\n",
    "  wvls = spectra_cube.columns.difference(id_vars)\n",
    "  metadata = spectra_cube[id_vars]\n",
    "  labels = metadata['roi_name'].map(label_dict).tolist()\n",
    "  data = spectra_cube[wvls].to_numpy()\n",
    "  data = np.nan_to_num(data, nan=0)\n",
    "  data = StandardScaler().fit_transform(data)\n",
    "\n",
    "  search = GridSearchCV(estimator, param_grid, scoring=scoring, n_jobs=-1)\n",
    "  search.fit(data, labels)\n",
    "\n",
    "  cv_results = pd.DataFrame(search.cv_results_).sort_values(['rank_test_score'])\n",
    "\n",
    "  filepath = os.path.join(folder, f\"CV_{cubename}.csv\")\n",
    "  cv_results.to_csv(filepath)\n",
    "  print(f\"CV results saved at {filepath}\")"
   ],
   "metadata": {
    "colab": {
     "base_uri": "https://localhost:8080/"
    },
    "outputId": "8cf20d9c-31dc-4fe8-e432-3f0730c7a4ba",
    "id": "TNLJlqDvk1Ae"
   },
   "outputs": [],
   "execution_count": null
  },
  {
   "cell_type": "markdown",
   "source": [
    "## CV | Concat_Norm - ToDo"
   ],
   "metadata": {
    "id": "FZ48VR3ek1Ag"
   }
  },
  {
   "cell_type": "code",
   "source": [
    "# Preprocess\n",
    "label = 'Concat_Norm_340_365_385'\n",
    "\n",
    "cubes_to_combine = ['340.tif', '365.tif', '385.tif']\n",
    "cubes.combine(cubes_to_combine, which_data=starting_data, label=label) # Concatenate\n",
    "cubes.normalize(label, which_data='combined', how='snv') # Normalize\n",
    "\n",
    "# Spectra from ROIs\n",
    "cubes.spectra_from_rois(label, which_data='normalized')\n",
    "spectra = cubes.spectra.reset_index()\n",
    "\n",
    "# Include only lichen classes into training\n",
    "# Because paper and tape are usually classified well and they push the metrics up artificially obscuring real infromation about lichens\n",
    "samples = [\n",
    "    sample for sample in spectra.roi_name.unique()\n",
    "    if all(substr not in sample for substr in non_lichens)\n",
    "]\n",
    "spectra = spectra[spectra['roi_name'].isin(samples)]\n",
    "\n",
    "# Decide on max k-neighbors\n",
    "sizes = spectra.groupby('cubename').aggregate({'roi_name': 'count'}).roi_name.tolist()\n",
    "if all([sizes[i] == sizes[0] for i, size in enumerate(sizes)]):\n",
    "  n_samples = sizes[0]\n",
    "\n",
    "cv_train_size = n_samples * 0.8\n",
    "\n",
    "min_k = 5\n",
    "max_k = int(cv_train_size)\n",
    "max_k = 1000\n",
    "\n",
    "range_1 = list(range(10, 100, 10))\n",
    "range_2 = list(range(100, 501, 20))\n",
    "\n",
    "n_neighbors = np.linspace(min_k, max_k, num=50, dtype='int')\n",
    "# n_neighbors = [min_k] + list(range(10, max_k+1, 10))\n",
    "n_neighbors = [min_k] + range_1 + range_2\n",
    "\n",
    "print('ROIs to be used for training:')\n",
    "print(spectra.roi_name.unique())\n",
    "\n",
    "print(f\"Number of k-neighbors to be tested: (total of {len(n_neighbors)} variants)\")\n",
    "print(n_neighbors)"
   ],
   "metadata": {
    "colab": {
     "base_uri": "https://localhost:8080/"
    },
    "outputId": "4c6fae86-e14f-4233-ccbf-1c9177a01551",
    "id": "_34Llekgk1Ag"
   },
   "outputs": [],
   "execution_count": null
  },
  {
   "cell_type": "code",
   "source": [
    "spectra.cubename.unique()"
   ],
   "metadata": {
    "colab": {
     "base_uri": "https://localhost:8080/"
    },
    "outputId": "7167acd6-b3bc-41e3-feac-5e55d1b35dc9",
    "id": "bWAKHvD7k1Ag"
   },
   "outputs": [],
   "execution_count": null
  },
  {
   "cell_type": "code",
   "source": [
    "plt.figure(figsize=(40, 5))\n",
    "columns = cubes.spectra_wvls\n",
    "sp = spectra.groupby('roi_name')[columns].agg('mean').T\n",
    "sns.lineplot(sp)\n",
    "plt.xticks(rotation=90);"
   ],
   "metadata": {
    "colab": {
     "base_uri": "https://localhost:8080/",
     "height": 511
    },
    "outputId": "cec3ad19-1704-4aef-c511-caac7accb358",
    "id": "nr18c8PQk1Ag"
   },
   "outputs": [],
   "execution_count": null
  },
  {
   "cell_type": "code",
   "source": [
    "from sklearn.preprocessing import StandardScaler\n",
    "from sklearn.neighbors import KNeighborsClassifier\n",
    "from sklearn.model_selection import StratifiedKFold, GridSearchCV\n",
    "\n",
    "# skf = StratifiedKFold(n_splits=5, shuffle=True, random_state=42) # Develop later\n",
    "\n",
    "param_grid = {'n_neighbors': n_neighbors}\n",
    "estimator = KNeighborsClassifier(n_jobs=-1)\n",
    "\n",
    "for cubename in spectra.cubename.unique():\n",
    "  id_vars = spectra.columns[:6]\n",
    "  spectra_cube = spectra[spectra['cubename'] == cubename].reset_index(drop=True) # ֆիլտրում ենք սպեկտրները ըստ կուբի\n",
    "  wvls = spectra_cube.columns.difference(id_vars)\n",
    "  metadata = spectra_cube[id_vars]\n",
    "  labels = metadata['roi_name'].map(label_dict).tolist()\n",
    "  data = spectra_cube[wvls].to_numpy()\n",
    "  data = np.nan_to_num(data, nan=0)\n",
    "  data = StandardScaler().fit_transform(data)\n",
    "\n",
    "  search = GridSearchCV(estimator, param_grid, scoring=scoring, n_jobs=-1)\n",
    "  search.fit(data, labels)\n",
    "\n",
    "  cv_results = pd.DataFrame(search.cv_results_).sort_values(['rank_test_score'])\n",
    "\n",
    "  filepath = os.path.join(folder, f\"CV_{cubename}.csv\")\n",
    "  cv_results.to_csv(filepath)\n",
    "  print(f\"CV results saved at: {filepath}\")"
   ],
   "metadata": {
    "colab": {
     "base_uri": "https://localhost:8080/"
    },
    "outputId": "5da2f955-9439-45aa-b4e9-260d0765e317",
    "id": "AQkHczXQk1Ah"
   },
   "outputs": [],
   "execution_count": null
  },
  {
   "cell_type": "markdown",
   "source": [
    "# Model Selection"
   ],
   "metadata": {
    "id": "Px7ZnSkghnPw"
   }
  },
  {
   "cell_type": "code",
   "source": [
    "scoring = 'balanced_accuracy'\n",
    "\n",
    "cubenames = {\n",
    "    '310': 'Ex = 310 nm',\n",
    "    '325': 'Ex = 325 nm',\n",
    "    '340': 'Ex = 340 nm',\n",
    "    '365': 'Ex = 365 nm',\n",
    "    '385': 'Ex = 385 nm',\n",
    "    '400': 'Ex = 400 nm',\n",
    "    '415': 'Ex = 415 nm',\n",
    "    '430': 'Ex = 430 nm',\n",
    "    'WhiteLight': 'White light',\n",
    "    'Norm_Concat': 'Norm_Concat_8',\n",
    "    'Concat_Norm': 'Concat_Norm_8',\n",
    "    'Norm_Concat_340_365_385': 'Norm_Concat_3',\n",
    "    'Concat_Norm_340_365_385': 'Concat_Norm_3',\n",
    "}"
   ],
   "metadata": {
    "id": "9hwzI-Vp9FKq"
   },
   "outputs": [],
   "execution_count": null
  },
  {
   "cell_type": "code",
   "source": [
    "scoring = 'balanced_accuracy'\n",
    "\n",
    "cubenames = {\n",
    "    '310': '310',\n",
    "    '325': '325',\n",
    "    '340': '340',\n",
    "    '365': '365',\n",
    "    '385': '385',\n",
    "    '400': '400',\n",
    "    '415': '415',\n",
    "    '430': '430',\n",
    "    'WhiteLight': 'WL',\n",
    "    'Norm_Concat': 'NC_8',\n",
    "    'Concat_Norm': 'CN_8',\n",
    "    'Norm_Concat_340_365_385': 'NC_3',\n",
    "    'Concat_Norm_340_365_385': 'CN_3',\n",
    "}"
   ],
   "metadata": {
    "id": "RyZTJ5fx5EDd"
   },
   "outputs": [],
   "execution_count": null
  },
  {
   "cell_type": "code",
   "source": [
    "# Կարդում ենք դատան\n",
    "from pathlib import Path\n",
    "results = list(Path(project, f'CV_Results_kNN_{scoring}').glob('*.csv'))\n",
    "metrics = []\n",
    "for result in results:\n",
    "  cubename = result.stem[3:]\n",
    "  metric = pd.read_csv(result, index_col=0)\n",
    "  metric['cubename'] = cubename\n",
    "  metrics.append(metric)\n",
    "metrics = pd.concat(metrics)\n",
    "# metrics = metrics[metrics['rank_test_score'] == 1]\n",
    "metrics['cubename'] = metrics['cubename'].map(cubenames)\n",
    "metrics.head(3)"
   ],
   "metadata": {
    "colab": {
     "base_uri": "https://localhost:8080/",
     "height": 215
    },
    "collapsed": true,
    "outputId": "773c3112-85ba-4621-d0d5-17ad92a5a9e4",
    "id": "jS9si_ZPhnPw"
   },
   "outputs": [],
   "execution_count": null
  },
  {
   "cell_type": "code",
   "source": [
    "metrics.cubename.unique().tolist()"
   ],
   "metadata": {
    "colab": {
     "base_uri": "https://localhost:8080/"
    },
    "id": "1AYL3ZlTjX2p",
    "outputId": "9b15c15e-168d-4a86-eb39-d8674d26b7c8"
   },
   "outputs": [],
   "execution_count": null
  },
  {
   "cell_type": "markdown",
   "source": [
    "### Accuracies -NEEDED FOR CV PLOT"
   ],
   "metadata": {
    "id": "0ac6bVaT9vtT"
   }
  },
  {
   "cell_type": "code",
   "source": [
    "columns = ['cubename', 'param_n_neighbors', 'mean_test_score']\n",
    "average = metrics[columns].pivot(index='cubename', columns='param_n_neighbors', values='mean_test_score')\n",
    "average.sort_index(ascending=True, inplace=True)\n",
    "\n",
    "plt.figure(figsize=(16, 4))\n",
    "sns.heatmap(average, cmap='coolwarm', annot=True, annot_kws={\"size\": 9})\n",
    "\n",
    "plt.title(f'Mean {scoring}')\n",
    "plt.xlabel('Number of Neighbors')\n",
    "plt.ylabel('Cube Name')\n",
    "plt.xticks(rotation=45);\n",
    "\n",
    "filename = f\"Model_Performance_{scoring}.png\"\n",
    "plt.savefig(Path(project, filename), bbox_inches='tight', dpi=200)"
   ],
   "metadata": {
    "colab": {
     "base_uri": "https://localhost:8080/",
     "height": 424
    },
    "outputId": "49450cca-b1ca-4663-f749-280c6cf6e7b9",
    "id": "Kfp4vQQnjSQs"
   },
   "outputs": [],
   "execution_count": null
  },
  {
   "cell_type": "markdown",
   "source": [
    "### Ranks"
   ],
   "metadata": {
    "id": "CgqH094s90xR"
   }
  },
  {
   "cell_type": "code",
   "source": [
    "columns = ['cubename', 'param_n_neighbors', 'rank_test_score']\n",
    "rank = metrics[columns].pivot(index='cubename', columns='param_n_neighbors', values='rank_test_score')\n",
    "rank.sort_index(ascending=True, inplace=True)\n",
    "\n",
    "plt.figure(figsize=(16, 4))\n",
    "sns.heatmap(rank, cmap='coolwarm', annot=True, annot_kws={\"size\": 9})\n",
    "\n",
    "plt.title('Rank Test Score')\n",
    "plt.xlabel('Number of Neighbors')\n",
    "plt.ylabel('Cube Name')\n",
    "plt.xticks(rotation=45);\n",
    "\n",
    "filename = f\"Model_Performance_Rank.png\"\n",
    "plt.savefig(Path(project, filename), bbox_inches='tight', dpi=200)"
   ],
   "metadata": {
    "colab": {
     "base_uri": "https://localhost:8080/",
     "height": 424
    },
    "outputId": "fb039879-4f33-4ba0-e465-ab9d7add30ea",
    "id": "id-eDBCmjSQu"
   },
   "outputs": [],
   "execution_count": null
  },
  {
   "cell_type": "markdown",
   "source": [
    "### SDs"
   ],
   "metadata": {
    "id": "L3EH5lEF923a"
   }
  },
  {
   "cell_type": "code",
   "source": [
    "columns = ['cubename', 'param_n_neighbors', 'std_test_score']\n",
    "std = metrics[columns].pivot(index='cubename', columns='param_n_neighbors', values='std_test_score')\n",
    "std.sort_index(ascending=True, inplace=True)\n",
    "\n",
    "plt.figure(figsize=(20, 4))\n",
    "sns.heatmap(std, cmap='coolwarm', annot=True, annot_kws={\"size\": 6})\n",
    "\n",
    "plt.title('SD Test Score')\n",
    "plt.xlabel('Number of Neighbors')\n",
    "plt.ylabel('Cube Name')\n",
    "plt.xticks(rotation=45);\n",
    "\n",
    "filename = f\"Model_Performance_SD.png\"\n",
    "plt.savefig(Path(project, filename), bbox_inches='tight', dpi=200)"
   ],
   "metadata": {
    "colab": {
     "base_uri": "https://localhost:8080/",
     "height": 424
    },
    "outputId": "76ef1262-fd00-408e-d963-9ef6857e71d6",
    "id": "LBi_QzWjjSQv"
   },
   "outputs": [],
   "execution_count": null
  },
  {
   "cell_type": "code",
   "source": [
    "avg = average.mean(axis=0);\n",
    "avg = avg / avg.max()\n",
    "rnk = rank.mean(axis=0);\n",
    "rnk = rnk / rnk.max()\n",
    "sd = std.mean(axis=0);\n",
    "sd = sd / sd.max()\n",
    "\n",
    "sns.lineplot(avg, label='Mean average (normalized)')\n",
    "sns.lineplot(rnk, label='Mean rank (normalized)')\n",
    "sns.lineplot(sd, label='Mean SD (normalized)')\n",
    "\n",
    "plt.axvline(avg.idxmax())\n",
    "print(avg.idxmax())"
   ],
   "metadata": {
    "colab": {
     "base_uri": "https://localhost:8080/",
     "height": 467
    },
    "outputId": "4c117104-27e5-4cc3-fa7d-37669b53e712",
    "id": "zIKkMwTZjSQv"
   },
   "outputs": [],
   "execution_count": null
  },
  {
   "cell_type": "markdown",
   "source": [
    "## Metric Comparison"
   ],
   "metadata": {
    "id": "Q-6-XHrswg9y"
   }
  },
  {
   "cell_type": "markdown",
   "source": [
    "### Best 5 n-neighbors"
   ],
   "metadata": {
    "id": "LSg4t7YO0ozw"
   }
  },
  {
   "cell_type": "code",
   "source": [
    "# best n_neighbors, as calculated by average of mean_test_score across cubes\n",
    "average.mean(axis=0).sort_values(ascending=False)[:5].index.tolist()"
   ],
   "metadata": {
    "colab": {
     "base_uri": "https://localhost:8080/"
    },
    "id": "W2-7jBWwMEn2",
    "outputId": "dd028d3b-6030-44b5-c0e1-cfe0cda91c5b"
   },
   "outputs": [],
   "execution_count": null
  },
  {
   "cell_type": "code",
   "source": [
    "plt.figure(figsize=(16, 4))\n",
    "sns.heatmap(average, annot=True, cmap='coolwarm', annot_kws={\"size\": 9})\n",
    "\n",
    "plt.title(f'Mean {scoring}')\n",
    "plt.xlabel('Number of Neighbors')\n",
    "plt.ylabel('Cube Name')\n",
    "plt.xticks(rotation=45);"
   ],
   "metadata": {
    "colab": {
     "base_uri": "https://localhost:8080/",
     "height": 424
    },
    "id": "aIGnQ9M6KGDn",
    "outputId": "dac2e9c7-e780-46a1-dbc1-b4b424200835"
   },
   "outputs": [],
   "execution_count": null
  },
  {
   "cell_type": "code",
   "source": [
    "# Փոխարկում ենք երկար ձևաչափի` գրաֆիկների մեջ գործածելու հարմարավետության համար\n",
    "\n",
    "# k = average.mean(axis=0).idxmax() # based on the average test score\n",
    "k = average.mean(axis=0).sort_values(ascending=False)[:5].index.tolist()\n",
    "score_cols = [col for col in metrics.columns if 'split' in col]\n",
    "id_vars = metrics.columns.difference(score_cols)\n",
    "metrics_long = pd.melt(metrics, id_vars, value_vars=score_cols, var_name='split', value_name='Metric')\n",
    "metrics_long = metrics_long[metrics_long['param_n_neighbors'].isin(k)]\n",
    "metrics_long.sort_values(['cubename', 'split']).head(3)"
   ],
   "metadata": {
    "colab": {
     "base_uri": "https://localhost:8080/",
     "height": 215
    },
    "id": "_A5MRul1m0Cc",
    "outputId": "c23cb679-6666-47de-c979-aae6c77b108c"
   },
   "outputs": [],
   "execution_count": null
  },
  {
   "cell_type": "code",
   "source": [
    "plt.figure(figsize=(15, 5))\n",
    "\n",
    "order = sorted(metrics_long.cubename.unique())\n",
    "sns.boxplot(metrics_long, x='cubename', y='Metric', hue='param_n_neighbors', order=order, hue_order=k)\n",
    "plt.xticks(rotation=45)\n",
    "\n",
    "filename = f\"Scoring_Comparison_Best5n\"\n",
    "filepath = Path(project, filename)\n",
    "plt.savefig(filepath, bbox_inches='tight', dpi=200)"
   ],
   "metadata": {
    "colab": {
     "base_uri": "https://localhost:8080/",
     "height": 618
    },
    "id": "b1a3wwPRNafm",
    "outputId": "82356531-d703-48bd-b1bf-0f433c434ac0"
   },
   "outputs": [],
   "execution_count": null
  },
  {
   "cell_type": "markdown",
   "source": [
    "### Best 1 n-neighbors !"
   ],
   "metadata": {
    "id": "7EtFLyCE1Jwy"
   }
  },
  {
   "cell_type": "code",
   "source": [
    "# Փոխարկում ենք երկար ձևաչափի` գրաֆիկների մեջ գործածելու հարմարավետության համար\n",
    "\n",
    "k = [average.mean(axis=0).idxmax()] # based on the average test score\n",
    "score_cols = [col for col in metrics.columns if 'split' in col]\n",
    "id_vars = metrics.columns.difference(score_cols)\n",
    "metrics_long = pd.melt(metrics, id_vars, value_vars=score_cols, var_name='split', value_name='Metric')\n",
    "metrics_long = metrics_long[metrics_long['param_n_neighbors'].isin(k)]\n",
    "metrics_long.sort_values(['cubename', 'split']).head(3)\n",
    "# metrics_long['config_type'] = metrics_long.cubename.str.contains(r\"nm|WL\").map({True: 'Single-excitation', False: 'Multi-excitation'})\n",
    "\n",
    "means = metrics_long.groupby('cubename')['Metric'].mean()\n",
    "maxes = metrics_long.groupby('cubename')['Metric'].max()\n",
    "stds = metrics_long.groupby('cubename')['Metric'].std()\n",
    "\n",
    "# metrics_long['cube_mean'] = metrics_long.cubename.map(means)"
   ],
   "metadata": {
    "id": "c5KFKixg1WyQ",
    "colab": {
     "base_uri": "https://localhost:8080/",
     "height": 215
    },
    "outputId": "49d46199-e439-4a74-bb20-563fba0ebb5e"
   },
   "outputs": [],
   "execution_count": null
  },
  {
   "cell_type": "code",
   "source": [
    "metrics_long.cubename.map(means)"
   ],
   "metadata": {
    "colab": {
     "base_uri": "https://localhost:8080/",
     "height": 458
    },
    "id": "xMPfkqdCsfkh",
    "outputId": "aca25dba-1255-4c4b-a95b-6d5f8a3cef14"
   },
   "outputs": [],
   "execution_count": null
  },
  {
   "cell_type": "markdown",
   "source": [
    "## Newer version | Boxplot Split"
   ],
   "metadata": {
    "id": "5Gor8WhghNB1"
   }
  },
  {
   "cell_type": "code",
   "source": [
    "cubename = order_single[0]\n",
    "means[cubename]"
   ],
   "metadata": {
    "colab": {
     "base_uri": "https://localhost:8080/"
    },
    "id": "8nklwClYnT1n",
    "outputId": "2201669d-491f-4c80-d73c-cea3c4cf2cdf"
   },
   "outputs": [],
   "execution_count": null
  },
  {
   "cell_type": "code",
   "source": [
    "means"
   ],
   "metadata": {
    "colab": {
     "base_uri": "https://localhost:8080/",
     "height": 523
    },
    "id": "yL7fPbMysWbC",
    "outputId": "d146aaef-7d60-4a77-a56d-fcba19b6b94b"
   },
   "outputs": [],
   "execution_count": null
  },
  {
   "cell_type": "code",
   "source": [
    "import matplotlib.pyplot as plt\n",
    "import matplotlib.colors as mcolors\n",
    "import seaborn as sns\n",
    "\n",
    "# VARIABLES\n",
    "top = 1.07\n",
    "left = 0.7\n",
    "width_ratios = [left, 1-left]\n",
    "fontsize_xy = 14\n",
    "fontsize_ticks = 13\n",
    "fontsize_text = 11\n",
    "\n",
    "# Step 1: Create global normalization based on full dataset\n",
    "vmin = metrics_long['mean_test_score'].min()\n",
    "vmax = metrics_long['mean_test_score'].max()\n",
    "norm = mcolors.Normalize(vmin=vmin, vmax=vmax)\n",
    "cmap = plt.get_cmap('RdYlGn')\n",
    "\n",
    "# Step 2: Map each unique score to a color\n",
    "unique_scores = metrics_long['mean_test_score'].unique()\n",
    "score_to_color = {score: cmap(norm(score)) for score in unique_scores}\n",
    "\n",
    "#PLOTTING\n",
    "fig, axes = plt.subplots(1, 2, figsize=(15, 5), sharey=True, width_ratios=width_ratios)\n",
    "fig.subplots_adjust(wspace=0.04)\n",
    "axes = axes.flatten()\n",
    "\n",
    "order_single = ['WL', '310', '325', '340', '365', '385', '400', '415', '430']\n",
    "order_multi = ['NC_3', 'CN_3', 'NC_8', 'CN_8']\n",
    "\n",
    "means = metrics_long.groupby('cubename')['Metric'].mean()\n",
    "maxes = metrics_long.groupby('cubename')['Metric'].max()\n",
    "stds = metrics_long.groupby('cubename')['Metric'].std()\n",
    "\n",
    "# SINGLE\n",
    "ax = axes[0]\n",
    "order = order_single\n",
    "df = metrics_long[metrics_long['cubename'].isin(order)]\n",
    "sns.boxplot(df, x='cubename', y='Metric', hue='mean_test_score', palette=score_to_color, order=order, ax=ax)\n",
    "sns.swarmplot(df, x='cubename', y='Metric', ax=ax)\n",
    "\n",
    "bottom, _ = ax.get_ylim()\n",
    "ax.set_ylim(bottom, top)\n",
    "\n",
    "for cubename in order:\n",
    "  avg = means[cubename]\n",
    "  maximum = maxes[cubename]\n",
    "  sd = stds[cubename]\n",
    "\n",
    "  # text = f'mean={avg:.2f}\\nsd={sd:.4f}'\n",
    "  text = f'{avg:.2f}±{sd:.2f}'\n",
    "  ax.text(x=cubename, y=maximum+0.02, s=text, ha='center', color='black', fontsize=fontsize_text)\n",
    "\n",
    "ax.tick_params(axis='y', labelsize=fontsize_ticks)\n",
    "ax.tick_params(axis='x', labelsize=fontsize_ticks)\n",
    "ax.set_ylabel('Balanced Accuracy', fontsize=fontsize_xy)\n",
    "ax.set_xlabel(None, fontsize=fontsize_xy)\n",
    "ax.legend().set_visible(False)\n",
    "ax.set_title('Single-Excitation HSI', fontsize=fontsize_xy+2)\n",
    "\n",
    "\n",
    "# MULTI\n",
    "ax = axes[1]\n",
    "order = order_multi\n",
    "df = metrics_long[metrics_long['cubename'].isin(order)]\n",
    "sns.boxplot(df, x='cubename', y='Metric', hue='mean_test_score', palette=score_to_color, order=order, ax=ax)\n",
    "sns.swarmplot(df, x='cubename', y='Metric', ax=ax)\n",
    "\n",
    "bottom, _ = ax.get_ylim()\n",
    "ax.set_ylim(bottom, top)\n",
    "\n",
    "for cubename in order:\n",
    "  avg = means[cubename]\n",
    "  maximum = maxes[cubename]\n",
    "  sd = stds[cubename]\n",
    "\n",
    "  # text = f'mean={avg:.2f}\\nsd={sd:.4f}'\n",
    "  text = f'{avg:.2f}±{sd:.2f}'\n",
    "  ax.text(x=cubename, y=maximum+0.02, s=text, ha='center', color='black', fontsize=fontsize_text)\n",
    "\n",
    "# ax.tick_params(axis='y', labelsize=fontsize_ticks)\n",
    "ax.tick_params(axis='x', labelsize=fontsize_ticks)\n",
    "ax.set_xlabel(None, fontsize=fontsize_xy)\n",
    "ax.legend().set_visible(False)\n",
    "ax.set_title('Multi-Excitation HSI', fontsize=fontsize_xy+2)\n",
    "\n",
    "plt.savefig(Path(project, f\"knn_cv_3.png\"), bbox_inches='tight', dpi=200)"
   ],
   "metadata": {
    "colab": {
     "base_uri": "https://localhost:8080/",
     "height": 474
    },
    "id": "07G96e1PlO56",
    "outputId": "22778c34-94b6-4cc1-b2c2-49c6c3a77487"
   },
   "outputs": [],
   "execution_count": null
  },
  {
   "cell_type": "code",
   "source": [],
   "metadata": {
    "id": "L4bpETcvywN0"
   },
   "outputs": [],
   "execution_count": null
  },
  {
   "cell_type": "markdown",
   "source": [
    "---"
   ],
   "metadata": {
    "id": "gVdnavOehMVM"
   }
  },
  {
   "cell_type": "code",
   "source": [
    "order = [val for key, val in cubenames.items()]\n",
    "order"
   ],
   "metadata": {
    "colab": {
     "base_uri": "https://localhost:8080/"
    },
    "id": "QYO8BvbYHFm-",
    "outputId": "cd6733ed-e731-45c4-b13d-50cd2b4b152d"
   },
   "outputs": [],
   "execution_count": null
  },
  {
   "cell_type": "code",
   "source": [
    "plt.figure(figsize=(15, 5))\n",
    "\n",
    "# order = sorted(metrics_long.cubename.unique())\n",
    "order = [val for key, val in cubenames.items()]\n",
    "\n",
    "sns.boxplot(metrics_long, x='cubename', y='Metric', hue='config_type', order=order)\n",
    "# sns.lineplot(metrics_long, x='cubename', y='Metric', estimator='mean', errorbar=None)\n",
    "sns.swarmplot(metrics_long, x='cubename', y='Metric')\n",
    "plt.xticks(fontsize=12, rotation=45);\n",
    "plt.yticks(fontsize=12);\n",
    "\n",
    "means = metrics_long.groupby('cubename')['Metric'].mean()\n",
    "maxes = metrics_long.groupby('cubename')['Metric'].max()\n",
    "stds = metrics_long.groupby('cubename')['Metric'].std()\n",
    "\n",
    "for cubename in metrics_long.cubename.unique():\n",
    "  k = k # check previous cell\n",
    "  avg = means[cubename]\n",
    "  maximum = maxes[cubename]\n",
    "  sd = stds[cubename]\n",
    "\n",
    "  plt.text(x=cubename, y=maximum+0.02, s=f'mean={avg:.2f}\\nsd={sd:.4f}', ha='center', color='black', fontsize=10.5)\n",
    "\n",
    "# plt.title(f\"k-NN Cross Validation Scores | cv=5, scoring='{scoring}', n_neighbors={k[0]}\")\n",
    "plt.xlabel('Excitation / Configuration', fontsize=13)\n",
    "plt.ylabel(f'Balanced Accuracy', fontsize=13)\n",
    "\n",
    "bottom, top = plt.ylim()\n",
    "plt.ylim(bottom=bottom, top=1.08)\n",
    "# plt.legend().set_visible(False)\n",
    "\n",
    "plt.savefig(Path(project, f\"knn_cv_2.png\"), bbox_inches='tight', dpi=200)"
   ],
   "metadata": {
    "colab": {
     "base_uri": "https://localhost:8080/",
     "height": 511
    },
    "id": "xFwUxuXYvBUa",
    "outputId": "e72d23ba-368b-4a88-9506-6e148ce4a61c"
   },
   "outputs": [],
   "execution_count": null
  },
  {
   "cell_type": "code",
   "source": [],
   "metadata": {
    "id": "ru5KqFte-xGm"
   },
   "outputs": [],
   "execution_count": null
  },
  {
   "cell_type": "markdown",
   "source": [
    "## Stats"
   ],
   "metadata": {
    "id": "kzm4SuFA8kHX"
   }
  },
  {
   "cell_type": "markdown",
   "source": [
    "### Calculate P-Values"
   ],
   "metadata": {
    "id": "_w4-iYkYzxmG"
   }
  },
  {
   "cell_type": "code",
   "source": [
    "from scipy.stats import ttest_ind"
   ],
   "metadata": {
    "id": "rDRThYxY_jXW"
   },
   "outputs": [],
   "execution_count": null
  },
  {
   "cell_type": "code",
   "source": [
    "k = 5 # based on the average test score\n",
    "\n",
    "split_cols = [name for name in metrics.columns if 'split' in name]\n",
    "splits = metrics[metrics['param_n_neighbors'] == k].set_index('cubename')\n",
    "splits = splits[split_cols].T\n",
    "splits = splits[order_single+order_multi]\n",
    "splits"
   ],
   "metadata": {
    "colab": {
     "base_uri": "https://localhost:8080/",
     "height": 206
    },
    "id": "k3dgOfg--_ae",
    "outputId": "0264a609-f55e-4602-8c40-7fae2c603618"
   },
   "outputs": [],
   "execution_count": null
  },
  {
   "cell_type": "code",
   "source": [
    "p_values = pd.DataFrame()\n",
    "for g1 in splits.columns:\n",
    "  for g2 in splits.columns:\n",
    "    group1 = splits[g1].tolist()\n",
    "    group2 = splits[g2].tolist()\n",
    "    t_stat, p_val = ttest_ind(group1, group2)\n",
    "    p_values.loc[g1, g2] = p_val\n",
    "\n",
    "p_values = p_values.replace({1: np.nan})\n",
    "\n",
    "filename = f\"CV_P-Values.csv\"\n",
    "p_values.to_csv(Path(project, filename))"
   ],
   "metadata": {
    "id": "YVuRlk-PHY_M"
   },
   "outputs": [],
   "execution_count": null
  },
  {
   "cell_type": "markdown",
   "source": [
    "### Plot P-Values"
   ],
   "metadata": {
    "id": "sC6SHozVz2M5"
   }
  },
  {
   "cell_type": "code",
   "source": [
    "# VARIABLES\n",
    "top = 1.07\n",
    "left = 0.7\n",
    "width_ratios = [left, 1-left]\n",
    "fontsize_xy = 14\n",
    "fontsize_ticks = 13\n",
    "fontsize_text = 11\n",
    "\n",
    "cmap = 'YlGnBu_r'\n",
    "cmap = 'RdYlGn'\n",
    "\n",
    "#PLOTTING\n",
    "fig, axes = plt.subplots(1, 2, figsize=(15, 3), sharey=True, width_ratios=width_ratios)\n",
    "fig.subplots_adjust(wspace=0.04)\n",
    "axes = axes.flatten()\n",
    "\n",
    "order_single = ['WL', '310', '325', '340', '365', '385', '400', '415', '430']\n",
    "order_multi = ['NC_3', 'CN_3', 'NC_8', 'CN_8']\n",
    "\n",
    "# SINGLE\n",
    "ax = axes[0]\n",
    "order = order_single\n",
    "df = p_values[order_single]\n",
    "sns.heatmap(df, annot=True, fmt='.3f', cmap=cmap, ax=ax, cbar=None)\n",
    "\n",
    "ax.tick_params(axis='y', labelsize=fontsize_ticks)\n",
    "ax.tick_params(axis='x', labelsize=fontsize_ticks)\n",
    "# ax.set_xlabel('Single-Excitation Cubes', fontsize=fontsize_xy)\n",
    "\n",
    "# MULTI\n",
    "ax = axes[1]\n",
    "order = order_multi\n",
    "df = p_values[order_multi]\n",
    "sns.heatmap(df, annot=True, fmt='.3f', cmap=cmap, ax=ax, cbar=None)\n",
    "\n",
    "# ax.tick_params(axis='y', labelsize=fontsize_ticks)\n",
    "ax.tick_params(axis='x', labelsize=fontsize_ticks)\n",
    "# ax.set_xlabel('Multi-Excitation Cubes', fontsize=fontsize_xy)\n",
    "\n",
    "plt.savefig(Path(project, f\"cv_p_values_drosh.png\"), bbox_inches='tight', dpi=200)"
   ],
   "metadata": {
    "colab": {
     "base_uri": "https://localhost:8080/",
     "height": 294
    },
    "id": "MTTYacat2uVP",
    "outputId": "763b253f-29b1-46d0-e3b7-f080e1d270ef"
   },
   "outputs": [],
   "execution_count": null
  },
  {
   "cell_type": "code",
   "source": [
    "from matplotlib.colors import LinearSegmentedColormap\n",
    "\n",
    "plt.figure(figsize=(15, 3))\n",
    "\n",
    "fontsize_xy = 12\n",
    "colors = [(0.2, 0.6, 0.2), (1, 1, 1)]  # green to white\n",
    "custom_cmap = LinearSegmentedColormap.from_list(\"pval_cmap\", colors, N=256)\n",
    "\n",
    "sns.heatmap(p_values, annot=True, fmt='.2f', cmap='coolwarm', annot_kws={\"size\": 11}, vmax=0.05, cbar=None)\n",
    "# plt.title('P-Values')\n",
    "plt.yticks(fontsize=fontsize_xy);\n",
    "plt.xticks(fontsize=fontsize_xy);\n",
    "\n",
    "filename = f\"CV_P-Values_Heatmap_4\"\n",
    "plt.savefig(Path(project, filename), bbox_inches='tight', dpi=200)"
   ],
   "metadata": {
    "colab": {
     "base_uri": "https://localhost:8080/",
     "height": 294
    },
    "id": "yILqwCYfzY8B",
    "outputId": "740786e0-1d33-43f2-fc32-7c9618b69fb8"
   },
   "outputs": [],
   "execution_count": null
  },
  {
   "cell_type": "code",
   "source": [
    "from matplotlib.colors import LinearSegmentedColormap\n",
    "\n",
    "plt.figure(figsize=(15, 3))\n",
    "\n",
    "colors = [(0.2, 0.6, 0.2), (1, 1, 1)]  # green to white\n",
    "custom_cmap = LinearSegmentedColormap.from_list(\"pval_cmap\", colors, N=256)\n",
    "\n",
    "sns.heatmap(p_values, annot=True, fmt='.2f', cmap=custom_cmap, annot_kws={\"size\": 9}, vmax=0.05, cbar=None)\n",
    "plt.title('P-Values')\n",
    "plt.xticks(rotation=45);\n",
    "\n",
    "filename = f\"CV_P-Values_Heatmap_3\"\n",
    "plt.savefig(Path(project, filename), bbox_inches='tight', dpi=200)"
   ],
   "metadata": {
    "colab": {
     "base_uri": "https://localhost:8080/",
     "height": 334
    },
    "id": "qFPKXlZ7KlWt",
    "outputId": "4b402408-ba96-44e5-a4c4-25ffbf488d6e"
   },
   "outputs": [],
   "execution_count": null
  },
  {
   "cell_type": "code",
   "source": [
    "plt.figure(figsize=(15, 3))\n",
    "\n",
    "sns.heatmap(p_values, annot=True, fmt='.2f', cmap='coolwarm', annot_kws={\"size\": 9}, vmax=0.05, cbar=None)\n",
    "# plt.xticks(rotation=45)\n",
    "# plt.setp(plt.gca().get_xticklabels(), va='top')\n",
    "plt.title('P-Values')\n",
    "plt.xticks(rotation=45);\n",
    "\n",
    "filename = f\"CV_P-Values_Heatmap_2\"\n",
    "plt.savefig(Path(project, filename), bbox_inches='tight', dpi=200)"
   ],
   "metadata": {
    "colab": {
     "base_uri": "https://localhost:8080/",
     "height": 334
    },
    "id": "JMCJEhF6jHvF",
    "outputId": "ccb19770-e03a-4876-e191-a168e36f495f"
   },
   "outputs": [],
   "execution_count": null
  },
  {
   "cell_type": "code",
   "source": [
    "round((splits['430'] * 100).mean(), 2)"
   ],
   "metadata": {
    "colab": {
     "base_uri": "https://localhost:8080/",
     "height": 547
    },
    "id": "EYb9HrCpHPDp",
    "outputId": "587dfeb8-e8b7-4fe2-b040-dfe2b89a6f89"
   },
   "outputs": [],
   "execution_count": null
  },
  {
   "cell_type": "code",
   "source": [
    "plt.figure(figsize=(10, 4))\n",
    "sns.heatmap(p_values < 0.05, annot=True, fmt='.3f', cmap='coolwarm')\n",
    "# plt.xticks(rotation=45)\n",
    "# plt.setp(plt.gca().get_xticklabels(), va='top')\n",
    "plt.title('P-Values')\n",
    "\n",
    "filename = f\"CV_P-Values_Heatmap\"\n",
    "# plt.savefig(Path(project, filename), bbox_inches='tight', dpi=200)"
   ],
   "metadata": {
    "colab": {
     "base_uri": "https://localhost:8080/",
     "height": 429
    },
    "id": "Oebe4kTp7Rsk",
    "outputId": "1142b1e0-203c-4d06-9e3d-47f5acfa62c8"
   },
   "outputs": [],
   "execution_count": null
  },
  {
   "cell_type": "markdown",
   "source": [
    "## CV + P values"
   ],
   "metadata": {
    "id": "pvYxzMZi5-Zu"
   }
  },
  {
   "cell_type": "code",
   "source": [
    "fig, axes = plt.subplots(2, 1, figsize=(15, 10), sharex=True)\n",
    "axes = axes.flatten()\n",
    "\n",
    "ax = axes[0]\n",
    "sns.heatmap(p_values, annot=True, fmt='.3f', cmap='coolwarm', ax=ax, cbar=None)\n",
    "\n",
    "ax = axes[1]\n",
    "# order = sorted(metrics_long.cubename.unique())\n",
    "order = [val for key, val in cubenames.items()]\n",
    "\n",
    "sns.boxplot(metrics_long, x='cubename', y='Metric', hue='cubename', order=order, ax=ax)\n",
    "# sns.lineplot(metrics_long, x='cubename', y='Metric', estimator='mean', errorbar=None)\n",
    "sns.swarmplot(metrics_long, x='cubename', y='Metric', ax=ax)\n",
    "plt.xticks(rotation=45);\n",
    "plt.ylim(top=1.02)\n",
    "\n",
    "# means = metrics_long.groupby('cubename')['Metric'].mean()\n",
    "# maxes = metrics_long.groupby('cubename')['Metric'].max()\n",
    "# stds = metrics_long.groupby('cubename')['Metric'].std()\n",
    "\n",
    "# for cubename in metrics_long.cubename.unique():\n",
    "#   k = k # check previous cell\n",
    "#   average = means[cubename]\n",
    "#   maximum = maxes[cubename]\n",
    "#   sd = stds[cubename]\n",
    "\n",
    "#   plt.text(x=cubename, y=maximum+0.02, s=f'mean={average:.2f}\\nsd={sd:.4f}', ha='center', color='black', fontsize=10)\n",
    "\n",
    "# # plt.title(f\"k-NN Cross Validation Scores | cv=5, scoring='{scoring}', n_neighbors={k[0]}\")\n",
    "# plt.xlabel('Excitation / Configuration', fontsize=13)\n",
    "# plt.ylabel(f'Balanced Accuracy', fontsize=13)\n",
    "\n",
    "# bottom, top = plt.ylim()\n",
    "# plt.ylim(bottom=bottom, top=1.08)\n",
    "# # plt.legend().set_visible(False)\n",
    "\n",
    "# plt.savefig(Path(project, f\"knn_cv_1.png\"), bbox_inches='tight', dpi=200)"
   ],
   "metadata": {
    "colab": {
     "base_uri": "https://localhost:8080/",
     "height": 920
    },
    "id": "segcQujg6Fdy",
    "outputId": "a8cc3014-2ec2-4e40-bd0b-ac1cfc690c74"
   },
   "outputs": [],
   "execution_count": null
  },
  {
   "cell_type": "markdown",
   "source": [
    "# kNN - Classification"
   ],
   "metadata": {
    "id": "sSmS-jRGk4Dv"
   }
  },
  {
   "cell_type": "code",
   "source": [
    "from sklearn.preprocessing import StandardScaler\n",
    "from sklearn.neighbors import KNeighborsClassifier\n",
    "from sklearn.model_selection import TunedThresholdClassifierCV\n",
    "\n",
    "from PIL import Image"
   ],
   "metadata": {
    "id": "jb8JWKonllIa"
   },
   "outputs": [],
   "execution_count": null
  },
  {
   "cell_type": "code",
   "source": [
    "n_neighbors = 5\n",
    "\n",
    "folder = Path(project, f\"kNN_Predict_n{n_neighbors}_ColorMasks\")\n",
    "os.makedirs(folder, exist_ok=True)"
   ],
   "metadata": {
    "id": "89x5Epdv1ZGl"
   },
   "outputs": [],
   "execution_count": null
  },
  {
   "cell_type": "markdown",
   "source": [
    "## Pred | Normalized"
   ],
   "metadata": {
    "id": "HBHkJtM2mDAp"
   }
  },
  {
   "cell_type": "code",
   "source": [
    "# Starting data is processed (corrected by light source)\n",
    "cubes.processed.keys()"
   ],
   "metadata": {
    "colab": {
     "base_uri": "https://localhost:8080/"
    },
    "id": "eDQ6w94jphCD",
    "outputId": "80e37569-cb8e-47da-eaf7-8b8ddc669910"
   },
   "outputs": [],
   "execution_count": null
  },
  {
   "cell_type": "code",
   "source": [
    "# Normalized\n",
    "label = 'normalized'\n",
    "cubes.normalize(which_data=starting_data, how='snv')\n",
    "cubes.spectra_from_rois(which_data=label)\n",
    "spectra = cubes.spectra.reset_index()\n",
    "\n",
    "estimator = KNeighborsClassifier(n_neighbors=n_neighbors, n_jobs=-1)\n",
    "\n",
    "for cubename in spectra.cubename.unique():\n",
    "  id_vars = spectra.columns[:6]\n",
    "  spectra_cube = spectra[spectra['cubename'] == cubename].reset_index(drop=True) # ֆիլտրում ենք սպեկտրները ըստ կուբի\n",
    "  wvls = spectra_cube.columns.difference(id_vars)\n",
    "  metadata = spectra_cube[id_vars]\n",
    "  labels = metadata['roi_name'].map(label_dict).tolist()\n",
    "  train = spectra_cube[wvls].dropna(axis=1, how='all').to_numpy()\n",
    "  train = np.nan_to_num(train, nan=0)\n",
    "\n",
    "  scaler = StandardScaler().fit(train)\n",
    "  train = scaler.transform(train)\n",
    "\n",
    "  estimator.fit(train, labels)\n",
    "\n",
    "  cube = cubes.normalized[f\"{cubename}.tif\"]\n",
    "  test = cube.reshape(cube.shape[0]*cube.shape[1], cube.shape[2])\n",
    "  test = scaler.transform(test)\n",
    "\n",
    "  # predictions = estimator.predict_proba(test)\n",
    "\n",
    "  predictions = estimator.predict(test)\n",
    "  mask = predictions.reshape(cube.shape[0], cube.shape[1]).astype(np.uint8)\n",
    "\n",
    "  mask_rgb = np.zeros((*mask.shape, 3))\n",
    "  for cls, color in color_dict.items():\n",
    "    mask_rgb[mask == cls] = color\n",
    "  mask_rgb = (mask_rgb * 255).astype(np.uint8)\n",
    "  mask_rgb = Image.fromarray(mask_rgb)\n",
    "\n",
    "  filename = f\"kNN_Predict_n{n_neighbors}_ColorMask_{label.capitalize()}_{cubename}.png\"\n",
    "  filepath = Path(project, folder, filename)\n",
    "  mask_rgb.save(filepath)"
   ],
   "metadata": {
    "id": "aez0gxc5lTuG"
   },
   "outputs": [],
   "execution_count": null
  },
  {
   "cell_type": "markdown",
   "source": [
    "### Threshold visualization"
   ],
   "metadata": {
    "id": "9BtHM01WBQua"
   }
  },
  {
   "cell_type": "code",
   "source": [
    "class_num = len(estimator.classes_)\n",
    "\n",
    "fig, axes = plt.subplots(3, class_num, figsize = (12, 5))\n",
    "# axes = axes.flatten()\n",
    "\n",
    "thr = 0.5\n",
    "titlesize = 9\n",
    "for i, clas in enumerate(estimator.classes_):\n",
    "  preds = predictions[:, i]\n",
    "  mask = preds > thr\n",
    "  mask = mask.reshape(cube.shape[0], cube.shape[1]).astype(np.uint8)\n",
    "\n",
    "  label = '_'.join(label_values[clas].split('_')[:-1])\n",
    "  title_prob = f\"{label} | thr={thr}\"\n",
    "\n",
    "  ax = axes[0, i]\n",
    "  sns.histplot(preds, ax=ax)\n",
    "  ax.axvline(thr, color='red')\n",
    "  ax.set_ylim(top=40000)\n",
    "  ax.set_yticks([]) if i != 0 else None\n",
    "  ax.set_title(f\"{label}\\nProbabilities\", fontsize=titlesize)\n",
    "  # ax.set_xlabel(\"Probability\", fontsize=titlesize)\n",
    "  ax.set_ylabel(\"Count\", fontsize=titlesize)\n",
    "\n",
    "  ax = axes[1, i]\n",
    "  preds_img = preds.reshape(cube.shape[0], cube.shape[1])\n",
    "  ax.imshow(preds_img)\n",
    "  # ax.set_xticks([])\n",
    "  # ax.set_yticks([]) if i != 0 else None\n",
    "  ax.set_title(f\"{label}\\nProbas of Class\", fontsize=titlesize)\n",
    "\n",
    "  ax = axes[2, i]\n",
    "  ax.imshow(mask)\n",
    "  # ax.set_xticks([])\n",
    "  # ax.set_yticks([]) if i != 0 else None\n",
    "  ax.set_title(f\"{label}\\nPos. if thr>{thr}\", fontsize=titlesize)\n",
    "\n",
    "plt.tight_layout()"
   ],
   "metadata": {
    "colab": {
     "base_uri": "https://localhost:8080/",
     "height": 645
    },
    "id": "QSRw6tMD5sqT",
    "outputId": "dfd2b261-6865-402d-bd24-e0066d1910d9",
    "collapsed": true
   },
   "outputs": [],
   "execution_count": null
  },
  {
   "cell_type": "markdown",
   "source": [
    "## Pred | Norm_Concat"
   ],
   "metadata": {
    "id": "MQl9RGnnPGmK"
   }
  },
  {
   "cell_type": "code",
   "source": [
    "# Starting data is processed (corrected by light source)\n",
    "cubes.processed.keys()"
   ],
   "metadata": {
    "colab": {
     "base_uri": "https://localhost:8080/"
    },
    "outputId": "35d24dd8-2dde-4dd0-ad8d-f92a2c30275e",
    "id": "vVzqhjNNPGmL"
   },
   "outputs": [],
   "execution_count": null
  },
  {
   "cell_type": "code",
   "source": [
    "starting_data"
   ],
   "metadata": {
    "colab": {
     "base_uri": "https://localhost:8080/",
     "height": 35
    },
    "id": "VPHA7v73WYzE",
    "outputId": "78e9f64f-e1de-4970-baa0-4375565c929d"
   },
   "outputs": [],
   "execution_count": null
  },
  {
   "cell_type": "code",
   "source": [
    "# Normalize\n",
    "label = 'Norm_Concat'\n",
    "cubes.normalize(which_data=starting_data, how='snv') # Normalize\n",
    "\n",
    "# Concatenate\n",
    "cubes_to_combine = list(set(cubes.names).difference(['WhiteLight.tif'])) # Select only fluorescence cubes\n",
    "cubes.combine(cubes_to_combine, which_data='normalized', label=label) # Concatenate\n",
    "\n",
    "# Spectra from ROIs | TRAIN data\n",
    "cubes.spectra_from_rois(label, which_data='combined')\n",
    "spectra = cubes.spectra.reset_index()\n",
    "\n",
    "estimator = KNeighborsClassifier(n_neighbors=n_neighbors, n_jobs=-1)\n",
    "\n",
    "for cubename in spectra.cubename.unique():\n",
    "  id_vars = spectra.columns[:6]\n",
    "  spectra_cube = spectra[spectra['cubename'] == cubename].reset_index(drop=True) # ֆիլտրում ենք սպեկտրները ըստ կուբի\n",
    "  wvls = spectra_cube.columns.difference(id_vars)\n",
    "  metadata = spectra_cube[id_vars]\n",
    "  labels = metadata['roi_name'].map(label_dict).tolist()\n",
    "  train = spectra_cube[wvls].dropna(axis=1, how='all').to_numpy()\n",
    "  train = np.nan_to_num(train, nan=0)\n",
    "\n",
    "  scaler = StandardScaler().fit(train)\n",
    "  train = scaler.transform(train)\n",
    "\n",
    "  estimator.fit(train, labels)\n",
    "\n",
    "  # TEST data\n",
    "  cube = cubes.combined[f\"{cubename}\"]\n",
    "  test = cube.reshape(cube.shape[0]*cube.shape[1], cube.shape[2])\n",
    "  test = scaler.transform(test)\n",
    "\n",
    "  predictions = estimator.predict(test)\n",
    "  mask = predictions.reshape(cube.shape[0], cube.shape[1]).astype(np.uint8)\n",
    "\n",
    "  mask_rgb = np.zeros((*mask.shape, 3))\n",
    "  for cls, color in color_dict.items():\n",
    "    mask_rgb[mask == cls] = color\n",
    "  mask_rgb = (mask_rgb * 255).astype(np.uint8)\n",
    "  mask_rgb = Image.fromarray(mask_rgb)\n",
    "\n",
    "  filename = f\"kNN_Predict_n{n_neighbors}_ColorMask_{label}.png\"\n",
    "  filepath = Path(project, folder, filename)\n",
    "  mask_rgb.save(filepath)"
   ],
   "metadata": {
    "colab": {
     "base_uri": "https://localhost:8080/"
    },
    "id": "GTcx4rx-PGmM",
    "outputId": "a6da775e-5f11-4b90-b0c5-2a2afa92765b"
   },
   "outputs": [],
   "execution_count": null
  },
  {
   "cell_type": "markdown",
   "source": [
    "## Pred | Concat_Norm"
   ],
   "metadata": {
    "id": "0D3Fo7poZHRI"
   }
  },
  {
   "cell_type": "code",
   "source": [
    "# Starting data is processed (corrected by light source)\n",
    "cubes.processed.keys()"
   ],
   "metadata": {
    "colab": {
     "base_uri": "https://localhost:8080/"
    },
    "outputId": "a1be6744-c8f8-4882-a51c-d9a370f8ab4f",
    "id": "UhlMVif3ZHRI"
   },
   "outputs": [],
   "execution_count": null
  },
  {
   "cell_type": "code",
   "source": [
    "starting_data"
   ],
   "metadata": {
    "colab": {
     "base_uri": "https://localhost:8080/",
     "height": 35
    },
    "outputId": "290074e2-d96c-4d69-c348-a77116e0c17d",
    "id": "Xekwjb-pZHRJ"
   },
   "outputs": [],
   "execution_count": null
  },
  {
   "cell_type": "code",
   "source": [
    "# Preprocess\n",
    "label = 'Concat_Norm'\n",
    "cubes_to_combine = list(set(cubes.names).difference(['WhiteLight.tif'])) # Select only fluorescence cubes\n",
    "cubes.combine(cubes_to_combine, which_data=starting_data, label=label) # Concatenate\n",
    "cubes.normalize(label, which_data='combined', how='snv') # Normalize\n",
    "\n",
    "# Spectra from ROIs\n",
    "cubes.spectra_from_rois(label, which_data='normalized')\n",
    "spectra = cubes.spectra.reset_index()\n",
    "\n",
    "estimator = KNeighborsClassifier(n_neighbors=n_neighbors, n_jobs=-1)\n",
    "\n",
    "for cubename in spectra.cubename.unique():\n",
    "  id_vars = spectra.columns[:6]\n",
    "  spectra_cube = spectra[spectra['cubename'] == cubename].reset_index(drop=True) # ֆիլտրում ենք սպեկտրները ըստ կուբի\n",
    "  wvls = spectra_cube.columns.difference(id_vars)\n",
    "  metadata = spectra_cube[id_vars]\n",
    "  labels = metadata['roi_name'].map(label_dict).tolist()\n",
    "  train = spectra_cube[wvls].dropna(axis=1, how='all').to_numpy()\n",
    "  train = np.nan_to_num(train, nan=0)\n",
    "\n",
    "  scaler = StandardScaler().fit(train)\n",
    "  train = scaler.transform(train)\n",
    "\n",
    "  estimator.fit(train, labels)\n",
    "\n",
    "  # TEST data\n",
    "  cube = cubes.normalized[f\"{cubename}\"]\n",
    "  test = cube.reshape(cube.shape[0]*cube.shape[1], cube.shape[2])\n",
    "  test = scaler.transform(test)\n",
    "\n",
    "  # predictions = estimator.predict_proba(test)\n",
    "\n",
    "  predictions = estimator.predict(test)\n",
    "  mask = predictions.reshape(cube.shape[0], cube.shape[1]).astype(np.uint8)\n",
    "\n",
    "  mask_rgb = np.zeros((*mask.shape, 3))\n",
    "  for cls, color in color_dict.items():\n",
    "    mask_rgb[mask == cls] = color\n",
    "  mask_rgb = (mask_rgb * 255).astype(np.uint8)\n",
    "  mask_rgb = Image.fromarray(mask_rgb)\n",
    "\n",
    "  filename = f\"kNN_Predict_n{n_neighbors}_ColorMask_{label}.png\"\n",
    "  filepath = Path(project, folder, filename)\n",
    "  mask_rgb.save(filepath)"
   ],
   "metadata": {
    "colab": {
     "base_uri": "https://localhost:8080/"
    },
    "outputId": "a5fc69ae-3296-4705-8391-c6561132676d",
    "id": "avUG_wcyZHRJ"
   },
   "outputs": [],
   "execution_count": null
  },
  {
   "cell_type": "markdown",
   "source": [
    "## --- 3 Cubes"
   ],
   "metadata": {
    "id": "tot5IefHhmC6"
   }
  },
  {
   "cell_type": "markdown",
   "source": [
    "## Pred | Norm_Concat"
   ],
   "metadata": {
    "id": "CtM0RNJCqhQ2"
   }
  },
  {
   "cell_type": "code",
   "source": [
    "# Starting data is processed (corrected by light source)\n",
    "cubes.processed.keys()"
   ],
   "metadata": {
    "colab": {
     "base_uri": "https://localhost:8080/"
    },
    "outputId": "4cafd767-21ce-4d6d-cd5c-ab952b005243",
    "id": "dj6LHTfYqhQ2"
   },
   "outputs": [],
   "execution_count": null
  },
  {
   "cell_type": "code",
   "source": [
    "starting_data"
   ],
   "metadata": {
    "colab": {
     "base_uri": "https://localhost:8080/",
     "height": 35
    },
    "outputId": "ff41e788-bd45-410d-b96e-df195f37f21d",
    "id": "ZYn7X2aKqhQ3"
   },
   "outputs": [],
   "execution_count": null
  },
  {
   "cell_type": "code",
   "source": [
    "# Preprocess\n",
    "label = 'Norm_Concat_340_365_385'\n",
    "cubes.normalize(which_data=starting_data, how='snv') # Normalize\n",
    "\n",
    "cubes_to_combine = ['340.tif', '365.tif', '385.tif']\n",
    "cubes.combine(cubes_to_combine, which_data='normalized', label=label) # Concatenate\n",
    "\n",
    "# Spectra from ROIs | TRAIN data\n",
    "cubes.spectra_from_rois(label, which_data='combined')\n",
    "spectra = cubes.spectra.reset_index()\n",
    "\n",
    "estimator = KNeighborsClassifier(n_neighbors=n_neighbors, n_jobs=-1)\n",
    "\n",
    "for cubename in spectra.cubename.unique():\n",
    "  id_vars = spectra.columns[:6]\n",
    "  spectra_cube = spectra[spectra['cubename'] == cubename].reset_index(drop=True) # ֆիլտրում ենք սպեկտրները ըստ կուբի\n",
    "  wvls = spectra_cube.columns.difference(id_vars)\n",
    "  metadata = spectra_cube[id_vars]\n",
    "  labels = metadata['roi_name'].map(label_dict).tolist()\n",
    "  train = spectra_cube[wvls].dropna(axis=1, how='all').to_numpy()\n",
    "  train = np.nan_to_num(train, nan=0)\n",
    "\n",
    "  scaler = StandardScaler().fit(train)\n",
    "  train = scaler.transform(train)\n",
    "\n",
    "  estimator.fit(train, labels)\n",
    "\n",
    "  # TEST data\n",
    "  cube = cubes.combined[f\"{cubename}\"]\n",
    "  test = cube.reshape(cube.shape[0]*cube.shape[1], cube.shape[2])\n",
    "  test = scaler.transform(test)\n",
    "\n",
    "  predictions = estimator.predict(test)\n",
    "  mask = predictions.reshape(cube.shape[0], cube.shape[1]).astype(np.uint8)\n",
    "\n",
    "  mask_rgb = np.zeros((*mask.shape, 3))\n",
    "  for cls, color in color_dict.items():\n",
    "    mask_rgb[mask == cls] = color\n",
    "  mask_rgb = (mask_rgb * 255).astype(np.uint8)\n",
    "  mask_rgb = Image.fromarray(mask_rgb)\n",
    "\n",
    "  filename = f\"kNN_Predict_n{n_neighbors}_ColorMask_{label}.png\"\n",
    "  filepath = Path(project, folder, filename)\n",
    "  mask_rgb.save(filepath)"
   ],
   "metadata": {
    "colab": {
     "base_uri": "https://localhost:8080/"
    },
    "outputId": "00a0d233-56b4-433a-b910-74047e44e88c",
    "id": "5v-NFIJ8qhQ3"
   },
   "outputs": [],
   "execution_count": null
  },
  {
   "cell_type": "markdown",
   "source": [
    "## Pred | Concat_Norm"
   ],
   "metadata": {
    "id": "L4AgkMgfqhQ3"
   }
  },
  {
   "cell_type": "code",
   "source": [
    "# Starting data is processed (corrected by light source)\n",
    "cubes.processed.keys()"
   ],
   "metadata": {
    "colab": {
     "base_uri": "https://localhost:8080/"
    },
    "outputId": "e583d4f5-a543-405b-e3bb-b78af64c291f",
    "id": "lArJSz_1qhQ4"
   },
   "outputs": [],
   "execution_count": null
  },
  {
   "cell_type": "code",
   "source": [
    "starting_data"
   ],
   "metadata": {
    "colab": {
     "base_uri": "https://localhost:8080/",
     "height": 35
    },
    "outputId": "7d764aaf-2a02-4ea2-822f-1abdbf07f162",
    "id": "CDSWya89qhQ4"
   },
   "outputs": [],
   "execution_count": null
  },
  {
   "cell_type": "code",
   "source": [
    "# Preprocess\n",
    "label = 'Concat_Norm_340_365_385'\n",
    "\n",
    "cubes_to_combine = ['340.tif', '365.tif', '385.tif']\n",
    "cubes.combine(cubes_to_combine, which_data=starting_data, label=label) # Concatenate\n",
    "cubes.normalize(label, which_data='combined', how='snv') # Normalize\n",
    "\n",
    "# Spectra from ROIs\n",
    "cubes.spectra_from_rois(label, which_data='normalized')\n",
    "spectra = cubes.spectra.reset_index()\n",
    "\n",
    "estimator = KNeighborsClassifier(n_neighbors=n_neighbors, n_jobs=-1)\n",
    "\n",
    "for cubename in spectra.cubename.unique():\n",
    "  id_vars = spectra.columns[:6]\n",
    "  spectra_cube = spectra[spectra['cubename'] == cubename].reset_index(drop=True) # ֆիլտրում ենք սպեկտրները ըստ կուբի\n",
    "  wvls = spectra_cube.columns.difference(id_vars)\n",
    "  metadata = spectra_cube[id_vars]\n",
    "  labels = metadata['roi_name'].map(label_dict).tolist()\n",
    "  train = spectra_cube[wvls].dropna(axis=1, how='all').to_numpy()\n",
    "  train = np.nan_to_num(train, nan=0)\n",
    "\n",
    "  scaler = StandardScaler().fit(train)\n",
    "  train = scaler.transform(train)\n",
    "\n",
    "  estimator.fit(train, labels)\n",
    "\n",
    "  # TEST data\n",
    "  cube = cubes.normalized[f\"{cubename}\"]\n",
    "  test = cube.reshape(cube.shape[0]*cube.shape[1], cube.shape[2])\n",
    "  test = scaler.transform(test)\n",
    "\n",
    "  # predictions = estimator.predict_proba(test)\n",
    "\n",
    "  predictions = estimator.predict(test)\n",
    "  mask = predictions.reshape(cube.shape[0], cube.shape[1]).astype(np.uint8)\n",
    "\n",
    "  mask_rgb = np.zeros((*mask.shape, 3))\n",
    "  for cls, color in color_dict.items():\n",
    "    mask_rgb[mask == cls] = color\n",
    "  mask_rgb = (mask_rgb * 255).astype(np.uint8)\n",
    "  mask_rgb = Image.fromarray(mask_rgb)\n",
    "\n",
    "  filename = f\"kNN_Predict_n{n_neighbors}_ColorMask_{label}.png\"\n",
    "  filepath = Path(project, folder, filename)\n",
    "  mask_rgb.save(filepath)"
   ],
   "metadata": {
    "colab": {
     "base_uri": "https://localhost:8080/"
    },
    "outputId": "f660e61e-0e5b-4af9-9c46-0119cc6bfe31",
    "id": "wTYir_WTqhQ5"
   },
   "outputs": [],
   "execution_count": null
  },
  {
   "cell_type": "code",
   "source": [],
   "metadata": {
    "id": "e5WkSHFGdbOR"
   },
   "outputs": [],
   "execution_count": null
  },
  {
   "cell_type": "markdown",
   "source": [
    "# Image captions"
   ],
   "metadata": {
    "id": "qxBRXZcZdeBj"
   }
  },
  {
   "cell_type": "code",
   "source": [
    "raw_masks = Path(project, 'kNN_Predict_n5_ColorMasks')\n",
    "labeled_masks = Path(project, 'kNN_Predict_n5_ColorMasks_Labeled')\n",
    "os.makedirs(labeled_masks, exist_ok=True)"
   ],
   "metadata": {
    "id": "9w8v4F0kdiMo"
   },
   "outputs": [],
   "execution_count": null
  },
  {
   "cell_type": "code",
   "source": [
    "files = raw_masks.glob('*.png')\n",
    "for fp in files:\n",
    "  # fp_new = Path(labeled_masks, fp.name)\n",
    "  label = fp.stem[25:].replace('Normalized_', '')\n",
    "  img = Image.open(fp)"
   ],
   "metadata": {
    "colab": {
     "base_uri": "https://localhost:8080/"
    },
    "id": "NUJWTWQVdgjD",
    "outputId": "352f1b38-ec84-433d-a269-94d5e29e1e1a"
   },
   "outputs": [],
   "execution_count": null
  },
  {
   "cell_type": "markdown",
   "source": [
    "# EEMs"
   ],
   "metadata": {
    "id": "yO_Oyw1qq9XO"
   }
  },
  {
   "cell_type": "code",
   "source": [
    "cubes.rois"
   ],
   "metadata": {
    "colab": {
     "base_uri": "https://localhost:8080/",
     "height": 300
    },
    "id": "CAbcFCo3q-xE",
    "outputId": "85df8c7d-6c9b-4a0e-c46d-34fdcff01e5b"
   },
   "outputs": [],
   "execution_count": null
  },
  {
   "cell_type": "code",
   "source": [
    "starting_data"
   ],
   "metadata": {
    "colab": {
     "base_uri": "https://localhost:8080/",
     "height": 35
    },
    "id": "aFw3oq6nuu1n",
    "outputId": "1488af2c-da20-4e1c-9b27-852cc0a887cf"
   },
   "outputs": [],
   "execution_count": null
  },
  {
   "cell_type": "code",
   "source": [
    "folder = Path(project, f\"EEMs\")\n",
    "os.makedirs(folder, exist_ok=True)"
   ],
   "metadata": {
    "id": "GVAVeKZPukph"
   },
   "outputs": [],
   "execution_count": null
  },
  {
   "cell_type": "code",
   "source": [
    "for roi in cubes.rois.index:\n",
    "  plt.figure(figsize=(6, 1.5))\n",
    "  cubenames = list(set(cubes.names).difference(['WhiteLight.tif']))\n",
    "  cubes.get_eem(cubes_to_analyse=cubenames, which_data=starting_data, roi_name=roi)\n",
    "\n",
    "  sns.heatmap(cubes.eem, cmap='coolwarm')\n",
    "  plt.xticks(rotation=45)\n",
    "  plt.xlabel('Emission')\n",
    "  plt.ylabel('Excitation')\n",
    "\n",
    "  filename = f\"EEM_{roi}.png\"\n",
    "  filepath = Path(project, folder, filename)\n",
    "  plt.savefig(filepath, bbox_inches='tight', dpi=200)\n",
    "  plt.close()"
   ],
   "metadata": {
    "id": "bHGSJGjUrAW3"
   },
   "outputs": [],
   "execution_count": null
  },
  {
   "cell_type": "markdown",
   "source": [
    "# Analysis | Previous"
   ],
   "metadata": {
    "id": "WCqqHumJ98AB"
   }
  },
  {
   "cell_type": "code",
   "source": [
    "# Mount Drive\n",
    "from google.colab import drive\n",
    "drive.mount('/content/drive')\n",
    "\n",
    "import os\n",
    "\n",
    "from pathlib import Path"
   ],
   "metadata": {
    "id": "eIhg0X3C_V47",
    "colab": {
     "base_uri": "https://localhost:8080/"
    },
    "outputId": "04ffa934-fa5d-436c-d599-3f8c8fe3d826"
   },
   "outputs": [],
   "execution_count": null
  },
  {
   "cell_type": "code",
   "source": [
    "project = Path('/content/drive/MyDrive/DATA/PROJECTS/Lichens_1')"
   ],
   "metadata": {
    "id": "UfDhLMfeZVK9"
   },
   "outputs": [],
   "execution_count": null
  },
  {
   "cell_type": "markdown",
   "source": [
    "## Read Spectra"
   ],
   "metadata": {
    "id": "jhhO7E3wgBde"
   }
  },
  {
   "cell_type": "code",
   "source": [
    "# ստեղծում ենք գրաֆիկների համար պանակ\n",
    "figures = os.path.join(project, 'Figures')\n",
    "os.makedirs(figures, exist_ok=True)"
   ],
   "metadata": {
    "id": "6wcH3LNDrkMg"
   },
   "outputs": [],
   "execution_count": null
  },
  {
   "cell_type": "code",
   "source": [
    "from pathlib import Path\n",
    "\n",
    "spectra_files = sorted(project.glob('*Spectra_P2*'))\n",
    "spectra_files"
   ],
   "metadata": {
    "colab": {
     "base_uri": "https://localhost:8080/"
    },
    "id": "u5JnMcseuc_b",
    "outputId": "4b98b7ef-2451-44dd-99c4-4de14e429494"
   },
   "outputs": [],
   "execution_count": null
  },
  {
   "cell_type": "code",
   "source": [
    "# կարդում ենք բոլոր ֆայլերը և միացնում մեկ աղյուսակի մեջ\n",
    "\n",
    "all_dfs = [] # այս դատարկ լիստի մեջ հավաքելու ենք բոլոր աղյուսակները, հետո միացնենք իրար\n",
    "for filepath in spectra_files:\n",
    "  df = pd.read_csv(filepath).reset_index(drop=True)\n",
    "  df['cubename'] = df['cubename'].astype(str)\n",
    "  all_dfs.append(df) # կցում ենք վերևի լիստին\n",
    "\n",
    "spectra = pd.concat(all_dfs) # լիստի էլեմենտ աղյուսակները միացնում ենք իրար\n",
    "spectra"
   ],
   "metadata": {
    "colab": {
     "base_uri": "https://localhost:8080/",
     "height": 965
    },
    "id": "YTdWOCgWtcfi",
    "outputId": "2d48b200-6fa4-4643-d8a0-9fdcac2e6090"
   },
   "outputs": [],
   "execution_count": null
  },
  {
   "cell_type": "code",
   "source": [
    "# ֆիլտրում ենք դատայի միայն նմուշների սպեկտրները (հանելով ֆոնի սպեկտրները)\n",
    "\n",
    "samples = [\n",
    "    sample for sample in spectra.roi_name.unique()\n",
    "    if all(substr not in sample for substr in ['Tape', 'Paper', 'WS'])\n",
    "]\n",
    "spectra = spectra[spectra['roi_name'].isin(samples)]\n",
    "spectra.roi_name.unique()"
   ],
   "metadata": {
    "colab": {
     "base_uri": "https://localhost:8080/"
    },
    "id": "dSKqO4yDyJKf",
    "outputId": "a3f0beb7-b3e0-41b5-89b6-4039b791ad4d"
   },
   "outputs": [],
   "execution_count": null
  },
  {
   "cell_type": "code",
   "source": [
    "spectra.cubename.unique()"
   ],
   "metadata": {
    "colab": {
     "base_uri": "https://localhost:8080/"
    },
    "id": "oPgc248sbveO",
    "outputId": "5e22ba16-a584-4447-ce10-f438ba97a540"
   },
   "outputs": [],
   "execution_count": null
  },
  {
   "cell_type": "code",
   "source": [
    "spectra.groupby(['cubename']).aggregate({'roi_name': 'count'})"
   ],
   "metadata": {
    "colab": {
     "base_uri": "https://localhost:8080/",
     "height": 426
    },
    "id": "GUbLtENglJkd",
    "outputId": "31b83e41-57e5-4297-f7e8-9c1f69a0d19e"
   },
   "outputs": [],
   "execution_count": null
  },
  {
   "cell_type": "markdown",
   "source": [
    "## kNN | GridSearchCV | ROC AUC"
   ],
   "metadata": {
    "id": "viTu794pOwnd"
   }
  },
  {
   "cell_type": "code",
   "source": [
    "# Model Optimization\n",
    "from scipy.stats import uniform\n",
    "from sklearn.preprocessing import StandardScaler\n",
    "from sklearn.neighbors import KNeighborsClassifier\n",
    "from sklearn.model_selection import StratifiedKFold, GridSearchCV\n",
    "\n",
    "folder = os.path.join(project, 'CV_Results_kNN_ROC_AUC')\n",
    "os.makedirs(folder, exist_ok=True)\n",
    "\n",
    "# skf = StratifiedKFold(n_splits=5, shuffle=True, random_state=42) # Develop later\n",
    "\n",
    "n_neighbors = np.linspace(5, 400*0.8, num=10).astype(int).tolist() # 400 - number of spectra, 0.8 because default cv=5, i.e. train set will be max 0.8 * 400\n",
    "param_grid = {\n",
    "    'n_neighbors': n_neighbors,\n",
    "}\n",
    "\n",
    "estimator = KNeighborsClassifier(n_jobs=-1)\n",
    "\n",
    "rois = spectra.roi_name.unique()\n",
    "label_dict = {roi: val for roi, val in zip(rois, range(len(rois)))}\n",
    "\n",
    "for cubename in spectra.cubename.unique():\n",
    "  id_vars = spectra.columns[:6]\n",
    "  spectra_cube = spectra[spectra['cubename'] == cubename].reset_index(drop=True) # ֆիլտրում ենք սպեկտրները ըստ կուբի\n",
    "  wvls = spectra_cube.columns.difference(id_vars)\n",
    "  metadata = spectra_cube[id_vars]\n",
    "  labels = metadata['roi_name'].map(label_dict).tolist()\n",
    "  data = spectra_cube[wvls].to_numpy()\n",
    "  data = np.nan_to_num(data, nan=0)\n",
    "  data = StandardScaler().fit_transform(data)\n",
    "\n",
    "  search = GridSearchCV(estimator, param_grid, scoring='roc_auc_ovr', n_jobs=-1)\n",
    "  search.fit(data, labels)\n",
    "\n",
    "  cv_results = pd.DataFrame(search.cv_results_).sort_values(['rank_test_score'])\n",
    "\n",
    "  filepath = os.path.join(folder, f\"CV_Ex_{cubename}.csv\")\n",
    "  cv_results.to_csv(filepath)"
   ],
   "metadata": {
    "id": "Jb0UAApF__LA"
   },
   "outputs": [],
   "execution_count": null
  },
  {
   "cell_type": "code",
   "source": [
    "os.listdir(folder)"
   ],
   "metadata": {
    "colab": {
     "base_uri": "https://localhost:8080/"
    },
    "id": "YqyQDei5eZ1Q",
    "outputId": "681c5f60-50ed-4f3e-98fe-7394cda4b6af"
   },
   "outputs": [],
   "execution_count": null
  },
  {
   "cell_type": "markdown",
   "source": [
    "### Metrics Analysis"
   ],
   "metadata": {
    "id": "T_ioa37reWhd"
   }
  },
  {
   "cell_type": "code",
   "source": [
    "# Կարդում ենք դատան\n",
    "from pathlib import Path\n",
    "results = list(Path(project, 'CV_Results_kNN_ROC_AUC').glob('*.csv'))\n",
    "metrics = []\n",
    "for result in results:\n",
    "  ex = result.stem[6:]\n",
    "  metric = pd.read_csv(result, index_col=0)\n",
    "  metric['Excitation'] = ex\n",
    "  metrics.append(metric)\n",
    "metrics = pd.concat(metrics)\n",
    "metrics = metrics[metrics['rank_test_score'] == 1]\n",
    "metrics.head(3)"
   ],
   "metadata": {
    "colab": {
     "base_uri": "https://localhost:8080/",
     "height": 215
    },
    "collapsed": true,
    "id": "Elh_jyZNhRVg",
    "outputId": "78c4e6e7-a554-4a90-af12-68e0962bdd6d"
   },
   "outputs": [],
   "execution_count": null
  },
  {
   "cell_type": "code",
   "source": [
    "metrics.Excitation.unique()"
   ],
   "metadata": {
    "colab": {
     "base_uri": "https://localhost:8080/"
    },
    "id": "Fg-AM3eBmdf-",
    "outputId": "e22256b4-cb48-469a-ab9f-ae7df19513bd"
   },
   "outputs": [],
   "execution_count": null
  },
  {
   "cell_type": "code",
   "source": [
    "# Փոխարկում ենք երկար ձևաչափի` գրաֆիկների մեջ գործածելու հարմարավետության համար\n",
    "score_cols = [col for col in metrics.columns if 'split' in col]\n",
    "id_vars = metrics.columns.difference(score_cols)\n",
    "metrics_long = pd.melt(metrics, id_vars, value_vars=score_cols, var_name='Split', value_name='ROC_AUC')\n",
    "metrics_long.sort_values(['Excitation', 'Split']).head(3)"
   ],
   "metadata": {
    "colab": {
     "base_uri": "https://localhost:8080/",
     "height": 215
    },
    "id": "wb3kYyDoiyyR",
    "outputId": "abd85d50-9b1d-417a-9ee8-955c26f32933"
   },
   "outputs": [],
   "execution_count": null
  },
  {
   "cell_type": "code",
   "source": [
    "from sklearn.decomposition import PCA\n",
    "from sklearn.preprocessing import StandardScaler\n",
    "\n",
    "figures = os.path.join(project, 'Figures')\n",
    "os.makedirs(figures, exist_ok=True)\n",
    "\n",
    "# minimum = metrics.mean_test_score.min()\n",
    "# maximum = metrics.mean_test_score.max()\n",
    "\n",
    "for cubename in spectra.cubename.unique():\n",
    "\n",
    "  # Spectra\n",
    "  id_vars = spectra.columns[:6]\n",
    "  spectra_cube = spectra[spectra['cubename'] == cubename].reset_index(drop=True) # ֆիլտրում ենք սպեկտրները ըստ կուբի\n",
    "  spectra_cube_melt = pd.melt(spectra_cube, id_vars=id_vars, var_name='wavelength', value_name='intensity') # դարձնում ենք երկար ֆորմատի\n",
    "\n",
    "  ratio = np.array([24, 16])\n",
    "  frac = 2.1\n",
    "  figsize = (ratio / frac)\n",
    "\n",
    "  fig, axes = plt.subplots(2, 2, figsize=figsize)\n",
    "\n",
    "  # --------------------------------\n",
    "\n",
    "  # Spectra Average\n",
    "  ax = axes.flat[2]\n",
    "  sns.lineplot(spectra_cube_melt, x='wavelength', y='intensity', hue='roi_name', errorbar=None, ax=ax)\n",
    "  ax.tick_params(rotation=90)\n",
    "  ax.set_title(f\"Average normalized spectra | Ex = {cubename} nm\")\n",
    "  ax.legend(title='Samples', loc='upper left', bbox_to_anchor=(-0.7, 1), fontsize=7)\n",
    "\n",
    "  # ----------------------------------\n",
    "\n",
    "  # Spectra\n",
    "  ax = axes.flat[3]\n",
    "  sns.lineplot(spectra_cube_melt, x='wavelength', y='intensity', hue='roi_name', errorbar='sd', ax=ax)\n",
    "  ax.tick_params(rotation=90)\n",
    "  ax.set_title(f\"Average normalized spectra & SD | Ex = {cubename} nm\")\n",
    "  ax.legend().set_visible(False)\n",
    "\n",
    "  #----------------------------------------\n",
    "\n",
    "  # PCA\n",
    "  ax = axes.flat[0]\n",
    "  wvls = spectra_cube.columns.difference(id_vars)\n",
    "  metadata = spectra_cube[id_vars]\n",
    "  data = spectra_cube[wvls].to_numpy()\n",
    "  data = np.nan_to_num(data, nan=0)\n",
    "\n",
    "  data = StandardScaler().fit_transform(data)\n",
    "\n",
    "  n_components = 3\n",
    "  columns = [f\"PC{comp+1}\" for comp in range(n_components)]\n",
    "  pca = PCA(n_components=n_components)\n",
    "  pca.fit(data)\n",
    "  pcs = pca.transform(data)\n",
    "  pcs = pd.DataFrame(pcs, columns=columns)\n",
    "  pcs = pd.concat([metadata, pcs], axis=1)\n",
    "\n",
    "  sns.scatterplot(pcs, x='PC1', y='PC2', hue='roi_name', s=10, ax=ax)\n",
    "  ax.set_title(f\"PCA | Ex = {cubename} nm\")\n",
    "  ax.legend().set_visible(False)\n",
    "\n",
    "  #-------------------------------------\n",
    "\n",
    "  # KNN Cross Validation Scores\n",
    "  ax = axes.flat[1]\n",
    "  data = metrics_long[metrics_long['Excitation'] == cubename]\n",
    "\n",
    "  # Some metrics to put on plot\n",
    "  k = metrics.set_index('Excitation').loc[cubename, 'param_n_neighbors']\n",
    "  average = metrics.set_index('Excitation').loc[cubename, 'mean_test_score']\n",
    "  sd = metrics.set_index('Excitation').loc[cubename, 'std_test_score']\n",
    "  med = data['ROC_AUC'].median()\n",
    "\n",
    "  # Plotting\n",
    "  sns.boxplot(data, y='ROC_AUC', ax=ax)\n",
    "  sns.swarmplot(data, y='ROC_AUC', ax=ax)\n",
    "  # ax.set_ylim(minimum, maximum)\n",
    "  ax.set_title(f'k-NN CV Scores | Ex={cubename} | k = {k}')\n",
    "  ax.text(x=0, y=med-0.0012, s=f'mean={average:.2f} | sd={sd:.2f}', ha='center', color='white')\n",
    "\n",
    "  plt.tight_layout()\n",
    "\n",
    "  filename = f\"Spectra_normalized_PCA_ROC_AUC_{cubename}.png\"\n",
    "  plt.savefig(os.path.join(figures, filename))\n",
    "  plt.close()"
   ],
   "metadata": {
    "id": "cMHEerHswCps"
   },
   "outputs": [],
   "execution_count": null
  },
  {
   "cell_type": "markdown",
   "source": [
    "## Comparison of CV"
   ],
   "metadata": {
    "id": "AiIXRoUC_6bB"
   }
  },
  {
   "cell_type": "code",
   "source": [
    "metrics"
   ],
   "metadata": {
    "colab": {
     "base_uri": "https://localhost:8080/",
     "height": 605
    },
    "id": "67mhB3o_Eu4g",
    "outputId": "39b21859-0124-4bda-eace-3360b51d20d4"
   },
   "outputs": [],
   "execution_count": null
  },
  {
   "cell_type": "code",
   "source": [
    "plt.figure(figsize=(15, 5))\n",
    "\n",
    "sns.boxplot(metrics_long, x='Excitation', y='ROC_AUC', hue='Excitation')\n",
    "sns.lineplot(metrics_long, x='Excitation', y='ROC_AUC', errorbar=None)\n",
    "plt.xticks(rotation=45);\n",
    "plt.ylim(top=1.02)\n",
    "\n",
    "score_cols = [col for col in metrics.columns if 'split' in col]\n",
    "\n",
    "for cubename in metrics['Excitation']:\n",
    "  # Some metrics to put on plot\n",
    "  k = metrics.set_index('Excitation').loc[cubename, 'param_n_neighbors']\n",
    "  average = metrics.set_index('Excitation').loc[cubename, 'mean_test_score']\n",
    "  maximum = metrics.set_index('Excitation').loc[cubename, score_cols].max()\n",
    "  # sd = metrics.set_index('Excitation').loc[cubename, 'std_test_score']\n",
    "  med = data['ROC_AUC'].median()\n",
    "\n",
    "  plt.text(x=cubename, y=maximum+0.002, s=f'avg={average:.2f}\\nk={k}', ha='center', color='black', fontsize=8)\n",
    "\n",
    "plt.title('k-NN Cross Validation Scores And The Average Performance')\n",
    "plt.xlabel('HSI Cube Name')\n",
    "plt.ylabel('ROC AUC')\n",
    "# plt.legend().set_visible(False)\n",
    "\n",
    "plt.savefig(Path(project, f\"ROC_AUC_Comparison_P2.png\"), bbox_inches='tight', dpi=200)"
   ],
   "metadata": {
    "colab": {
     "base_uri": "https://localhost:8080/",
     "height": 579
    },
    "id": "Hl3u-4yI_9lJ",
    "outputId": "bfbffba9-ea8d-4e0a-c9e1-f6d51bce8ce8"
   },
   "outputs": [],
   "execution_count": null
  },
  {
   "cell_type": "code",
   "source": [
    "metrics"
   ],
   "metadata": {
    "colab": {
     "base_uri": "https://localhost:8080/",
     "height": 605
    },
    "id": "rycqy4UzpbJR",
    "outputId": "11ae9640-c07b-4879-a34d-d3e637d0c34b"
   },
   "outputs": [],
   "execution_count": null
  },
  {
   "cell_type": "markdown",
   "source": [
    "# Background vs Normal"
   ],
   "metadata": {
    "id": "_sCho-HP8yvV"
   }
  },
  {
   "cell_type": "code",
   "source": [
    "# ստեղծում ենք գրաֆիկների համար պանակ\n",
    "figures = os.path.join(project, 'Figures')\n",
    "os.makedirs(figures, exist_ok=True)"
   ],
   "metadata": {
    "id": "tdPLMvb49XXN"
   },
   "outputs": [],
   "execution_count": null
  },
  {
   "cell_type": "code",
   "source": [
    "import glob\n",
    "project = '/content/drive/MyDrive/DATA/PROJECTS/Lichens'\n",
    "spectra_files = glob.glob(os.path.join(project, '*.csv')) # որպեսզի միայն .csv-ները վերցնենք\n",
    "spectra_files"
   ],
   "metadata": {
    "colab": {
     "base_uri": "https://localhost:8080/"
    },
    "outputId": "b8c557e7-231c-4f61-e901-bc85c9dc7901",
    "id": "9sdpnpt89XXN"
   },
   "outputs": [],
   "execution_count": null
  },
  {
   "cell_type": "code",
   "source": [
    "# կարդում ենք բոլոր ֆայլերը և միացնում մեկ աղյուսակի մեջ\n",
    "\n",
    "all = [] # այս դատարկ լիստի մեջ հավաքելու ենք բոլոր աղյուսակները, հետո միացնենք իրար\n",
    "for filepath in spectra_files:\n",
    "  df = pd.read_csv(filepath).reset_index(drop=True)\n",
    "  df['cubename'] = df['cubename'].astype(str)\n",
    "  all.append(df) # կցում ենք վերևի լիստին\n",
    "\n",
    "spectra = pd.concat(all) # լիստի էլեմենտ աղյուսակները միացնում ենք իրար\n",
    "spectra"
   ],
   "metadata": {
    "colab": {
     "base_uri": "https://localhost:8080/",
     "height": 965
    },
    "outputId": "b2fe9ae6-748b-4133-b246-e670fcb05104",
    "id": "6yukF9sB9XXO"
   },
   "outputs": [],
   "execution_count": null
  },
  {
   "cell_type": "code",
   "source": [
    "spectra.roi_name.unique()"
   ],
   "metadata": {
    "colab": {
     "base_uri": "https://localhost:8080/"
    },
    "id": "ItPxZhu789MK",
    "outputId": "7f79fbd9-a5eb-481e-e7a3-d2539efd1102"
   },
   "outputs": [],
   "execution_count": null
  },
  {
   "cell_type": "code",
   "source": [
    "spectra[spectra['cubename'] == 'background'].roi_name.unique()"
   ],
   "metadata": {
    "colab": {
     "base_uri": "https://localhost:8080/"
    },
    "id": "bqkeDEf09l9b",
    "outputId": "90f4bb63-2794-4d72-8122-1451235f80ea"
   },
   "outputs": [],
   "execution_count": null
  },
  {
   "cell_type": "markdown",
   "source": [
    "# Drafts"
   ],
   "metadata": {
    "id": "k-PDmjy5LovP"
   }
  },
  {
   "cell_type": "code",
   "source": [],
   "metadata": {
    "id": "siaRGgz4dT9C"
   },
   "outputs": [],
   "execution_count": null
  },
  {
   "cell_type": "markdown",
   "source": [
    "### WO Concatenated"
   ],
   "metadata": {
    "id": "ccdZ1iCdjH5n"
   }
  },
  {
   "cell_type": "markdown",
   "source": [
    "#### Only Lichen ROIs"
   ],
   "metadata": {
    "id": "uFiM3Gd0pLyl"
   }
  },
  {
   "cell_type": "code",
   "source": [
    "columns = ['cubename', 'param_n_neighbors', 'mean_test_score']\n",
    "average = metrics[columns].pivot(index='cubename', columns='param_n_neighbors', values='mean_test_score')\n",
    "average.sort_index(ascending=True, inplace=True)\n",
    "\n",
    "plt.figure(figsize=(16, 4))\n",
    "sns.heatmap(average, cmap='coolwarm', annot=True, annot_kws={\"size\": 9})\n",
    "\n",
    "plt.title('Mean ROC AUC')\n",
    "plt.xlabel('Number of Neighbors')\n",
    "plt.ylabel('Cube Name')\n",
    "plt.xticks(rotation=45);\n",
    "\n",
    "filename = f\"Model_Performance_ROC_AUC.png\"\n",
    "plt.savefig(Path(project, filename), bbox_inches='tight', dpi=200)"
   ],
   "metadata": {
    "colab": {
     "base_uri": "https://localhost:8080/",
     "height": 444
    },
    "outputId": "a68b5dcf-c368-4449-a096-31dd39d7e18f",
    "id": "223nWkVspLym"
   },
   "outputs": [],
   "execution_count": null
  },
  {
   "cell_type": "code",
   "source": [
    "columns = ['cubename', 'param_n_neighbors', 'rank_test_score']\n",
    "rank = metrics[columns].pivot(index='cubename', columns='param_n_neighbors', values='rank_test_score')\n",
    "rank.sort_index(ascending=True, inplace=True)\n",
    "\n",
    "plt.figure(figsize=(16, 4))\n",
    "sns.heatmap(rank, cmap='coolwarm', annot=True, annot_kws={\"size\": 9})\n",
    "\n",
    "plt.title('Rank Test Score')\n",
    "plt.xlabel('Number of Neighbors')\n",
    "plt.ylabel('Cube Name')\n",
    "plt.xticks(rotation=45);\n",
    "\n",
    "filename = f\"Model_Performance_Rank.png\"\n",
    "plt.savefig(Path(project, filename), bbox_inches='tight', dpi=200)"
   ],
   "metadata": {
    "colab": {
     "base_uri": "https://localhost:8080/",
     "height": 444
    },
    "outputId": "b489cd04-3a04-4874-c659-23484225af47",
    "id": "Ib3_cpyqpLyn"
   },
   "outputs": [],
   "execution_count": null
  },
  {
   "cell_type": "code",
   "source": [
    "columns = ['cubename', 'param_n_neighbors', 'std_test_score']\n",
    "std = metrics[columns].pivot(index='cubename', columns='param_n_neighbors', values='std_test_score')\n",
    "std.sort_index(ascending=True, inplace=True)\n",
    "\n",
    "plt.figure(figsize=(20, 4))\n",
    "sns.heatmap(std, cmap='coolwarm', annot=True, annot_kws={\"size\": 6})\n",
    "\n",
    "plt.title('SD Test Score')\n",
    "plt.xlabel('Number of Neighbors')\n",
    "plt.ylabel('Cube Name')\n",
    "plt.xticks(rotation=45);\n",
    "\n",
    "filename = f\"Model_Performance_SD.png\"\n",
    "plt.savefig(Path(project, filename), bbox_inches='tight', dpi=200)"
   ],
   "metadata": {
    "colab": {
     "base_uri": "https://localhost:8080/",
     "height": 444
    },
    "id": "BEgYTuFQyRg0",
    "outputId": "2b59dc3f-ff78-4561-fce2-c2e03792de02"
   },
   "outputs": [],
   "execution_count": null
  },
  {
   "cell_type": "code",
   "source": [
    "avg = average.mean(axis=0);\n",
    "avg = avg / avg.max()\n",
    "rnk = rank.mean(axis=0);\n",
    "rnk = rnk / rnk.max()\n",
    "sd = std.mean(axis=0);\n",
    "sd = sd / sd.max()\n",
    "\n",
    "sns.lineplot(avg, label='Mean average (normalized)')\n",
    "sns.lineplot(rnk, label='Mean rank (normalized)')\n",
    "sns.lineplot(sd, label='Mean SD (normalized)')\n",
    "\n",
    "plt.axvline(avg.idxmax())\n",
    "print(avg.idxmax())"
   ],
   "metadata": {
    "colab": {
     "base_uri": "https://localhost:8080/",
     "height": 467
    },
    "id": "-lQq9-sv1FIl",
    "outputId": "bb84ccdd-61a8-481d-b031-08184c4b1e07"
   },
   "outputs": [],
   "execution_count": null
  },
  {
   "cell_type": "code",
   "source": [],
   "metadata": {
    "id": "oSFSJdgL6feH"
   },
   "outputs": [],
   "execution_count": null
  },
  {
   "cell_type": "markdown",
   "source": [
    "#### Only Lichen ROIs | Non-scaled"
   ],
   "metadata": {
    "id": "mA2ht8zH6f7C"
   }
  },
  {
   "cell_type": "code",
   "source": [
    "columns = ['cubename', 'param_n_neighbors', 'mean_test_score']\n",
    "average = metrics[columns].pivot(index='cubename', columns='param_n_neighbors', values='mean_test_score')\n",
    "average.sort_index(ascending=True, inplace=True)\n",
    "\n",
    "plt.figure(figsize=(16, 4))\n",
    "sns.heatmap(average, cmap='coolwarm', annot=True, annot_kws={\"size\": 9})\n",
    "\n",
    "plt.title('Mean ROC AUC')\n",
    "plt.xlabel('Number of Neighbors')\n",
    "plt.ylabel('Cube Name')\n",
    "plt.xticks(rotation=45);\n",
    "\n",
    "filename = f\"Model_Performance_ROC_AUC_NoScaling.png\"\n",
    "plt.savefig(Path(project, filename), bbox_inches='tight', dpi=200)"
   ],
   "metadata": {
    "colab": {
     "base_uri": "https://localhost:8080/",
     "height": 444
    },
    "outputId": "159a9153-79cd-4feb-8131-01bb8f542a98",
    "id": "AN8D243Y6f7D"
   },
   "outputs": [],
   "execution_count": null
  },
  {
   "cell_type": "code",
   "source": [
    "columns = ['cubename', 'param_n_neighbors', 'rank_test_score']\n",
    "rank = metrics[columns].pivot(index='cubename', columns='param_n_neighbors', values='rank_test_score')\n",
    "rank.sort_index(ascending=True, inplace=True)\n",
    "\n",
    "plt.figure(figsize=(16, 4))\n",
    "sns.heatmap(rank, cmap='coolwarm', annot=True, annot_kws={\"size\": 9})\n",
    "\n",
    "plt.title('Rank Test Score')\n",
    "plt.xlabel('Number of Neighbors')\n",
    "plt.ylabel('Cube Name')\n",
    "plt.xticks(rotation=45);\n",
    "\n",
    "filename = f\"Model_Performance_Rank_NoScaling.png\"\n",
    "plt.savefig(Path(project, filename), bbox_inches='tight', dpi=200)"
   ],
   "metadata": {
    "colab": {
     "base_uri": "https://localhost:8080/",
     "height": 424
    },
    "outputId": "a1f29dd2-0941-4db6-c2e9-06bc7a8738c0",
    "id": "RZ20DDe06f7E"
   },
   "outputs": [],
   "execution_count": null
  },
  {
   "cell_type": "code",
   "source": [
    "columns = ['cubename', 'param_n_neighbors', 'std_test_score']\n",
    "std = metrics[columns].pivot(index='cubename', columns='param_n_neighbors', values='std_test_score')\n",
    "std.sort_index(ascending=True, inplace=True)\n",
    "\n",
    "plt.figure(figsize=(20, 4))\n",
    "sns.heatmap(std, cmap='coolwarm', annot=True, annot_kws={\"size\": 6})\n",
    "\n",
    "plt.title('SD Test Score')\n",
    "plt.xlabel('Number of Neighbors')\n",
    "plt.ylabel('Cube Name')\n",
    "plt.xticks(rotation=45);\n",
    "\n",
    "filename = f\"Model_Performance_SD_NoScaling.png\"\n",
    "plt.savefig(Path(project, filename), bbox_inches='tight', dpi=200)"
   ],
   "metadata": {
    "colab": {
     "base_uri": "https://localhost:8080/",
     "height": 424
    },
    "outputId": "fe565b43-b705-46e9-d6ef-c8d646112814",
    "id": "JdFwfYjh6f7E"
   },
   "outputs": [],
   "execution_count": null
  },
  {
   "cell_type": "code",
   "source": [
    "avg = average.mean(axis=0);\n",
    "avg = avg / avg.max()\n",
    "rnk = rank.mean(axis=0);\n",
    "rnk = rnk / rnk.max()\n",
    "sd = std.mean(axis=0);\n",
    "sd = sd / sd.max()\n",
    "\n",
    "sns.lineplot(avg, label='Mean average (normalized)')\n",
    "sns.lineplot(rnk, label='Mean rank (normalized)')\n",
    "sns.lineplot(sd, label='Mean SD (normalized)')\n",
    "\n",
    "plt.axvline(avg.idxmax())\n",
    "print(avg.idxmax())"
   ],
   "metadata": {
    "colab": {
     "base_uri": "https://localhost:8080/",
     "height": 467
    },
    "outputId": "a96ed02e-3231-448e-f033-193a7cc86992",
    "id": "EwwjKX9b6f7F"
   },
   "outputs": [],
   "execution_count": null
  },
  {
   "cell_type": "markdown",
   "source": [
    "#### Also Bgr/WS ROIs"
   ],
   "metadata": {
    "id": "AF1lv2gQo9qI"
   }
  },
  {
   "cell_type": "code",
   "source": [
    "columns = ['cubename', 'param_n_neighbors', 'mean_test_score']\n",
    "heat = metrics[columns].pivot(index='cubename', columns='param_n_neighbors', values='mean_test_score')\n",
    "heat.sort_index(ascending=True, inplace=True)\n",
    "\n",
    "plt.figure(figsize=(25, 4))\n",
    "sns.heatmap(heat, cmap='coolwarm', annot=True, annot_kws={\"size\": 9})\n",
    "\n",
    "plt.title('Mean ROC AUC')"
   ],
   "metadata": {
    "colab": {
     "base_uri": "https://localhost:8080/",
     "height": 447
    },
    "id": "qEa3pCKBkYAr",
    "outputId": "877f8855-00d1-4af1-d2dc-0f0ded7ab898"
   },
   "outputs": [],
   "execution_count": null
  },
  {
   "cell_type": "code",
   "source": [
    "columns = ['cubename', 'param_n_neighbors', 'rank_test_score']\n",
    "heat = metrics[columns].pivot(index='cubename', columns='param_n_neighbors', values='rank_test_score')\n",
    "heat.sort_index(ascending=True, inplace=True)\n",
    "\n",
    "plt.figure(figsize=(20, 4))\n",
    "sns.heatmap(heat, cmap='coolwarm', annot=True, annot_kws={\"size\": 9})\n",
    "\n",
    "plt.title('Rank Test Score')"
   ],
   "metadata": {
    "colab": {
     "base_uri": "https://localhost:8080/",
     "height": 459
    },
    "id": "JY3wFo3HmjJk",
    "outputId": "eb23f088-f353-4bb9-e8c4-d849df31ebf3"
   },
   "outputs": [],
   "execution_count": null
  },
  {
   "cell_type": "code",
   "source": [
    "avg = heat.mean(axis=0)\n",
    "sns.lineplot(avg)\n",
    "plt.axvline(avg.idxmin())\n",
    "print(avg.idxmin())"
   ],
   "metadata": {
    "colab": {
     "base_uri": "https://localhost:8080/",
     "height": 467
    },
    "id": "3-cmxSVynuBO",
    "outputId": "d2370644-8415-49c1-8bdb-57a93e5ec6d9"
   },
   "outputs": [],
   "execution_count": null
  },
  {
   "cell_type": "markdown",
   "source": [
    "---"
   ],
   "metadata": {
    "id": "xlYuO5YKns-b"
   }
  },
  {
   "cell_type": "code",
   "source": [
    "columns = ['cubename', 'param_n_neighbors', 'std_test_score']\n",
    "heat = metrics[columns].pivot(index='cubename', columns='param_n_neighbors', values='std_test_score')\n",
    "heat.sort_index(ascending=True, inplace=True)\n",
    "\n",
    "plt.figure(figsize=(20, 4))\n",
    "sns.heatmap(heat, cmap='coolwarm', annot=True, annot_kws={\"size\": 9})\n",
    "\n",
    "plt.title('Std Test Score')"
   ],
   "metadata": {
    "colab": {
     "base_uri": "https://localhost:8080/",
     "height": 425
    },
    "id": "QkAGh_vkmKxi",
    "outputId": "93acc4c3-f3bf-4dc4-f76c-fa5d4c6a2cd0"
   },
   "outputs": [],
   "execution_count": null
  },
  {
   "cell_type": "code",
   "source": [],
   "metadata": {
    "id": "BnK-HgTQl9gL"
   },
   "outputs": [],
   "execution_count": null
  },
  {
   "cell_type": "markdown",
   "source": [
    "### Developing"
   ],
   "metadata": {
    "id": "h9haunaaotIV"
   }
  },
  {
   "cell_type": "code",
   "source": [
    "# Normalized\n",
    "cubes.normalize(which_data=starting_data, how='snv')\n",
    "cubes.spectra_from_rois(which_data='normalized')\n",
    "spectra = cubes.spectra.reset_index()\n",
    "spectra.head(2)"
   ],
   "metadata": {
    "colab": {
     "base_uri": "https://localhost:8080/",
     "height": 265
    },
    "id": "WhcL7cIJQQ2j",
    "outputId": "868a94f7-192a-4e65-b211-65339e267d71"
   },
   "outputs": [],
   "execution_count": null
  },
  {
   "cell_type": "code",
   "source": [
    "# Include only lichen classes into training\n",
    "samples = [\n",
    "    sample for sample in spectra.roi_name.unique()\n",
    "    if all(substr not in sample for substr in ['Tape', 'Paper', 'WS'])\n",
    "]\n",
    "spectra = spectra[spectra['roi_name'].isin(samples)]\n",
    "spectra.roi_name.unique()"
   ],
   "metadata": {
    "colab": {
     "base_uri": "https://localhost:8080/"
    },
    "id": "3a8Rf0aGYQiB",
    "outputId": "8e993104-b949-4e6a-be16-b2b98d35b682"
   },
   "outputs": [],
   "execution_count": null
  },
  {
   "cell_type": "code",
   "source": [
    "spectra.groupby('cubename').aggregate({'roi_name': 'count'})"
   ],
   "metadata": {
    "colab": {
     "base_uri": "https://localhost:8080/",
     "height": 331
    },
    "id": "E4wnUziIWIp7",
    "outputId": "39988b07-ad70-4e94-aadb-95ca7ec5c436"
   },
   "outputs": [],
   "execution_count": null
  },
  {
   "cell_type": "code",
   "source": [
    "sizes = spectra.groupby('cubename').aggregate({'roi_name': 'count'}).roi_name.tolist()\n",
    "if all([sizes[i] == sizes[0] for i, size in enumerate(sizes)]):\n",
    "  n_samples = sizes[0]\n",
    "\n",
    "train_size = n_samples * 0.8\n",
    "\n",
    "min_k = 5\n",
    "max_k = int(train_size)\n",
    "\n",
    "n_neighbors = [min_k] + list(range(10, max_k+1, 10))\n",
    "print(f\"Number of k-neighbors to be tested:\")\n",
    "print(n_neighbors)"
   ],
   "metadata": {
    "colab": {
     "base_uri": "https://localhost:8080/"
    },
    "id": "R3MHJLYtYlTX",
    "outputId": "a3a82231-116a-4ec7-a092-02609db4b30b"
   },
   "outputs": [],
   "execution_count": null
  },
  {
   "cell_type": "code",
   "source": [
    "from sklearn.decomposition import PCA\n",
    "from sklearn.preprocessing import StandardScaler\n",
    "\n",
    "figures = os.path.join(project, 'Spectra_PCA_w_Scaled')\n",
    "os.makedirs(figures, exist_ok=True)\n",
    "\n",
    "for cubename in spectra.cubename.unique()[:1]:\n",
    "\n",
    "  id_vars = spectra.columns[:6]\n",
    "  spectra_cube = spectra[spectra['cubename'] == cubename].reset_index(drop=True) # ֆիլտրում ենք սպեկտրները ըստ կուբի\n",
    "\n",
    "  ratio = np.array([24, 8])\n",
    "  frac = 1.5\n",
    "  figsize = (ratio / frac)\n",
    "  fig, axes = plt.subplots(1, 2, figsize=figsize)\n",
    "\n",
    "  # Spectra\n",
    "  ax = axes.flat[0]\n",
    "  spectra_cube_melt = pd.melt(spectra_cube, id_vars=id_vars, var_name='wavelength', value_name='intensity') # դարձնում ենք երկար ֆորմատի\n",
    "  sns.lineplot(spectra_cube_melt, x='wavelength', y='intensity', hue='roi_name', errorbar=None, ax=ax)\n",
    "  ax.tick_params(rotation=90)\n",
    "  ax.set_title(f\"Average normalized spectra | Ex = {cubename} nm\")\n",
    "  ax.legend(title='Samples', loc='upper left', bbox_to_anchor=(-0.5, 1), fontsize=10)\n",
    "\n",
    "  # PCA\n",
    "  ax = axes.flat[1]\n",
    "  wvls = spectra_cube.columns.difference(id_vars)\n",
    "  metadata = spectra_cube[id_vars]\n",
    "  data = spectra_cube[wvls].to_numpy()\n",
    "  data = np.nan_to_num(data, nan=0)\n",
    "\n",
    "  data = StandardScaler().fit_transform(data)\n",
    "\n",
    "  n_components = 3\n",
    "  columns = [f\"PC{comp+1}\" for comp in range(n_components)]\n",
    "  pca = PCA(n_components=n_components)\n",
    "  pca.fit(data)\n",
    "  pcs = pca.transform(data)\n",
    "  pcs = pd.DataFrame(pcs, columns=columns)\n",
    "  pcs = pd.concat([metadata, pcs], axis=1)\n",
    "\n",
    "  sns.scatterplot(pcs, x='PC1', y='PC2', hue='roi_name', s=10, ax=ax)\n",
    "  ax.set_title(f\"PCA | Ex = {cubename} nm\")\n",
    "  ax.legend().set_visible(False)\n",
    "\n",
    "  plt.tight_layout()\n",
    "\n",
    "  filename = f\"Spectra_PCA_normalized_{cubename}.png\"\n",
    "  # plt.savefig(os.path.join(figures, filename))"
   ],
   "metadata": {
    "colab": {
     "base_uri": "https://localhost:8080/",
     "height": 559
    },
    "id": "eJL8SL_k5SsW",
    "outputId": "6a5b6b8b-6e79-45db-f199-2eabd68b4c4f"
   },
   "outputs": [],
   "execution_count": null
  },
  {
   "cell_type": "code",
   "source": [
    "cubename = '300'\n",
    "plt.figure(figsize=(4, 2.5))\n",
    "\n",
    "# Data to plot\n",
    "data = metrics_long[metrics_long['Excitation'] == cubename]\n",
    "\n",
    "# Some metrics to put on plot\n",
    "k = metrics.set_index('Excitation').loc[cubename, 'param_n_neighbors']\n",
    "average = metrics.set_index('Excitation').loc[cubename, 'mean_test_score']\n",
    "sd = metrics.set_index('Excitation').loc[cubename, 'std_test_score']\n",
    "\n",
    "# Plotting\n",
    "sns.boxplot(data, y='ROC_AUC')\n",
    "sns.swarmplot(data, y='ROC_AUC')\n",
    "plt.xlabel(None)\n",
    "plt.title(f'k-NN CV Scores | Ex={cubename} | k = {k}', fontsize=11)"
   ],
   "metadata": {
    "colab": {
     "base_uri": "https://localhost:8080/",
     "height": 271
    },
    "id": "VaL-hEzYl-Wf",
    "outputId": "78018a52-0567-44ed-cb8f-4ef65518c88f"
   },
   "outputs": [],
   "execution_count": null
  },
  {
   "cell_type": "code",
   "source": [
    "for filepath in spectra_files:\n",
    "  df = pd.read_csv(filepath)\n",
    "  print(os.path.basename(filepath))\n",
    "  df['cube_sample'] = df['cubename'].astype(str) + '_' + df['roi_name'].astype(str)\n",
    "  print(df['cube_sample'].unique().tolist())\n",
    "  print('---------------------------------------')"
   ],
   "metadata": {
    "colab": {
     "base_uri": "https://localhost:8080/"
    },
    "id": "hSHqL5wC7z_u",
    "outputId": "50147d5f-bee5-43cb-e774-b932fbfdecee"
   },
   "outputs": [],
   "execution_count": null
  },
  {
   "cell_type": "code",
   "source": [
    "df['cubename'].astype(str) + '_' + df['roi_name']"
   ],
   "metadata": {
    "colab": {
     "base_uri": "https://localhost:8080/",
     "height": 458
    },
    "id": "66eaJm3T8WmJ",
    "outputId": "d72063c8-02e4-4714-c7e4-22d89ef8d963"
   },
   "outputs": [],
   "execution_count": null
  },
  {
   "cell_type": "markdown",
   "source": [
    "---"
   ],
   "metadata": {
    "id": "itGR6pvryIRx"
   }
  }
 ]
}
