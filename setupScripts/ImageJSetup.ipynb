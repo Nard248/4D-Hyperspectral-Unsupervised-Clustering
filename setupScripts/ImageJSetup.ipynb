{
 "cells": [
  {
   "cell_type": "code",
   "id": "initial_id",
   "metadata": {
    "collapsed": true,
    "ExecuteTime": {
     "end_time": "2025-08-14T11:39:10.183446Z",
     "start_time": "2025-08-14T11:34:56.553538Z"
    }
   },
   "source": [
    "import imagej\n",
    "\n",
    "# You can keep 'headless=True' for non-GUI workflows\n",
    "ij = imagej.init(\"sc.fiji:fiji\", headless=True)\n",
    "\n",
    "print(ij.getVersion())"
   ],
   "outputs": [
    {
     "name": "stderr",
     "output_type": "stream",
     "text": [
      "The headless flag of imagej.init is deprecated. Use the mode argument instead.\n",
      "WARNING: package sun.awt.X11 not in java.desktop\n"
     ]
    },
    {
     "name": "stdout",
     "output_type": "stream",
     "text": [
      "2.17.0/1.54p\n"
     ]
    }
   ],
   "execution_count": 2
  },
  {
   "metadata": {},
   "cell_type": "code",
   "outputs": [],
   "execution_count": null,
   "source": [
    "from scripts.utils.process_trq_files import process_and_save\n",
    "from scripts.data_processing.hyperspectral_processor import HyperspectralProcessor\n",
    "\n",
    "# Process power files for normalization\n",
    "trq_folder_path = \"data/raw/Lime/TLS Scans\"\n",
    "output_path = \"data/raw/Lime/TLS Scans/average_power.xlsx\"\n",
    "power_data = process_and_save(trq_folder_path, output_path)\n",
    "\n",
    "# Process hyperspectral data\n",
    "processor = HyperspectralProcessor(\n",
    "    data_path=\"data/raw/Lime\",\n",
    "    metadata_path=\"data/raw/Lime/metadata.xlsx\",\n",
    "    laser_power_excel=\"data/raw/Lime/TLS Scans/average_power.xlsx\",\n",
    "    cutoff_offset=40,\n",
    "    verbose=True\n",
    ")\n",
    "\n",
    "output_files = processor.process_full_pipeline(\n",
    "    output_dir=\"data/processed/Lime\",\n",
    "    exposure_reference=\"max\",\n",
    "    power_reference=\"min\",\n",
    "    create_parquet=False,\n",
    "    preserve_full_data=True\n",
    ")"
   ],
   "id": "df151f29415130fc"
  }
 ],
 "metadata": {
  "kernelspec": {
   "display_name": "Python 3",
   "language": "python",
   "name": "python3"
  },
  "language_info": {
   "codemirror_mode": {
    "name": "ipython",
    "version": 2
   },
   "file_extension": ".py",
   "mimetype": "text/x-python",
   "name": "python",
   "nbconvert_exporter": "python",
   "pygments_lexer": "ipython2",
   "version": "2.7.6"
  }
 },
 "nbformat": 4,
 "nbformat_minor": 5
}
