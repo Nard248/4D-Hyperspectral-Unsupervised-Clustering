{
 "cells": [
  {
   "metadata": {
    "ExecuteTime": {
     "end_time": "2025-04-17T12:03:03.930199Z",
     "start_time": "2025-04-17T12:03:03.926684Z"
    }
   },
   "cell_type": "code",
   "source": [
    "import os\n",
    "from pathlib import Path\n",
    "\n",
    "import numpy as np\n",
    "import pandas as pd\n",
    "import seaborn as sns\n",
    "import matplotlib.pyplot as plt"
   ],
   "id": "f60a2b91b8fb435b",
   "outputs": [],
   "execution_count": 106
  },
  {
   "metadata": {
    "ExecuteTime": {
     "end_time": "2025-04-17T12:03:05.071993Z",
     "start_time": "2025-04-17T12:03:05.046013Z"
    }
   },
   "cell_type": "code",
   "source": [
    "# Initiate pyimagej (at fiji mode)\n",
    "import imagej\n",
    "ij = imagej.init('sc.fiji:fiji')"
   ],
   "id": "6dc83877f3cbbcfb",
   "outputs": [],
   "execution_count": 107
  },
  {
   "metadata": {
    "ExecuteTime": {
     "end_time": "2025-04-17T12:23:36.423252Z",
     "start_time": "2025-04-17T12:23:36.417400Z"
    }
   },
   "cell_type": "code",
   "source": [
    "def load_cubes_im3(data_path, metadata_path=None, sheet_name=0):\n",
    "    data_path = Path(data_path)\n",
    "\n",
    "    # --- only *.im3 files ----------------------------------------------------\n",
    "    cube_names = sorted(\n",
    "        f.name for f in data_path.iterdir()\n",
    "        if f.is_file() and f.suffix.lower() == \".im3\"\n",
    "    )\n",
    "\n",
    "    cubes = {}\n",
    "    for name in cube_names:\n",
    "        print(f\"Loading {name} …\")\n",
    "        img  = ij.io().open(str(data_path / name))\n",
    "        cube = np.array(ij.py.from_java(img), dtype=float)\n",
    "\n",
    "        excitation = float(name[:-4])\n",
    "        em_start = 420.0 if excitation <= 400.0 else excitation + 20.0\n",
    "        em_end   = 720\n",
    "        step = 10\n",
    "        cubes[name] = {\n",
    "            \"ex\": float(name[:-4]),   # e.g. 300 from “300.im3”\n",
    "            \"em_start\": em_start,\n",
    "            \"em_end\": em_end,\n",
    "            \"step\": step,\n",
    "            \"num_rows\": cube.shape[0],\n",
    "            \"num_cols\": cube.shape[1],\n",
    "            \"num_bands\": cube.shape[2],\n",
    "            \"expos_val\": None,\n",
    "            \"notes\": None,\n",
    "            \"data\": cube,\n",
    "            \"em_arr\": [k for k in range(int(em_start), int(em_end), int(step))]\n",
    "        }\n",
    "\n",
    "    # --- read Excel metadata (Excitation | Exposure) ------------------------\n",
    "    if metadata_path:\n",
    "        df = (\n",
    "            pd.read_excel(metadata_path, sheet_name=sheet_name)\n",
    "              .rename(columns=str.strip)          # trim any stray spaces\n",
    "        )\n",
    "\n",
    "        # build a dict: {excitation_value: exposure_value}\n",
    "        exposure_lookup = dict(\n",
    "            zip(df[\"Excitation\"].astype(float), df[\"Exposure\"])\n",
    "        )\n",
    "\n",
    "        # populate expos_val for every cube that has a match\n",
    "        for cube_key, cube_dict in cubes.items():\n",
    "            ex_val = cube_dict[\"ex\"]\n",
    "            if ex_val in exposure_lookup:\n",
    "                cube_dict[\"expos_val\"] = float(exposure_lookup[ex_val])\n",
    "            else:\n",
    "                print(f\"  ⚠ no exposure value in metadata for Ex={ex_val}\")\n",
    "\n",
    "    return cubes"
   ],
   "id": "c969eb27625d1426",
   "outputs": [],
   "execution_count": 117
  },
  {
   "metadata": {
    "ExecuteTime": {
     "end_time": "2025-04-17T12:24:29.166428Z",
     "start_time": "2025-04-17T12:23:36.621898Z"
    }
   },
   "cell_type": "code",
   "source": "cues = load_cubes_im3('../Data/Kiwi', metadata_path='../Data/Kiwi/metadata.xlsx')",
   "id": "d866df741f46663d",
   "outputs": [
    {
     "name": "stdout",
     "output_type": "stream",
     "text": [
      "Loading 300.im3 …\n",
      "Loading 310.im3 …\n",
      "Loading 320.im3 …\n",
      "Loading 330.im3 …\n",
      "Loading 340.im3 …\n",
      "Loading 350.im3 …\n",
      "Loading 360.im3 …\n",
      "Loading 370.im3 …\n",
      "Loading 380.im3 …\n",
      "Loading 390.im3 …\n",
      "Loading 400.im3 …\n",
      "Loading 410.im3 …\n",
      "Loading 420.im3 …\n",
      "Loading 430.im3 …\n",
      "Loading 440.im3 …\n",
      "Loading 450.im3 …\n",
      "Loading 460.im3 …\n",
      "Loading 470.im3 …\n",
      "Loading 480.im3 …\n",
      "Loading 490.im3 …\n",
      "Loading 500.im3 …\n"
     ]
    }
   ],
   "execution_count": 118
  },
  {
   "metadata": {
    "ExecuteTime": {
     "end_time": "2025-04-17T13:32:51.250986Z",
     "start_time": "2025-04-17T13:32:51.242412Z"
    }
   },
   "cell_type": "code",
   "source": "cues['300.im3']['data'].shape",
   "id": "efc8b7eb110c087d",
   "outputs": [
    {
     "data": {
      "text/plain": [
       "(1024, 1392, 31)"
      ]
     },
     "execution_count": 128,
     "metadata": {},
     "output_type": "execute_result"
    }
   ],
   "execution_count": 128
  },
  {
   "metadata": {},
   "cell_type": "code",
   "outputs": [],
   "execution_count": null,
   "source": "",
   "id": "332670c476329d96"
  }
 ],
 "metadata": {
  "kernelspec": {
   "display_name": "Python 3",
   "language": "python",
   "name": "python3"
  },
  "language_info": {
   "codemirror_mode": {
    "name": "ipython",
    "version": 2
   },
   "file_extension": ".py",
   "mimetype": "text/x-python",
   "name": "python",
   "nbconvert_exporter": "python",
   "pygments_lexer": "ipython2",
   "version": "2.7.6"
  }
 },
 "nbformat": 4,
 "nbformat_minor": 5
}
