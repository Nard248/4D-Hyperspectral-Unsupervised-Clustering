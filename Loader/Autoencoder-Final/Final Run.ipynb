{
 "cells": [
  {
   "metadata": {
    "ExecuteTime": {
     "end_time": "2025-05-05T06:15:36.360398Z",
     "start_time": "2025-05-05T06:15:12.747638Z"
    }
   },
   "cell_type": "code",
   "source": [
    "import os\n",
    "from testoptim import Hyperspectral4DClusteringProcessor\n",
    "\n",
    "data_path = r\"C:\\Users\\meloy\\PycharmProjects\\Capstone\\Loader\\Data\\Lime Experiment - 2\\processed\\data_cutoff_40nm_exposure_max_power_min.pkl\"\n",
    "mask_path = r\"C:\\Users\\meloy\\PycharmProjects\\Capstone\\Loader\\Data\\Lime Experiment\\processed\\mask.npy\"\n",
    "output_dir = \"Lime_Results_4D_Features\"\n",
    "\n",
    "processor = Hyperspectral4DClusteringProcessor(\n",
    "    data_path=data_path,\n",
    "    mask_path=mask_path,\n",
    "    output_dir=output_dir,\n",
    "    downscale_factor=1,\n",
    "    normalize=True,\n",
    "    n_clusters=7,\n",
    "    max_samples=50000\n",
    ")\n",
    "processor.run_pipeline(excitation_subset=[300, 310, 320, 330])"
   ],
   "id": "e6a5c763045d9ff0",
   "outputs": [
    {
     "name": "stdout",
     "output_type": "stream",
     "text": [
      "\n",
      "=== Starting hyperspectral processing pipeline ===\n",
      "Loading data from C:\\Users\\meloy\\PycharmProjects\\Capstone\\Loader\\Data\\Lime Experiment - 2\\processed\\data_cutoff_40nm_exposure_max_power_min.pkl...\n",
      "Found 21 excitation wavelengths\n",
      "Loading mask from C:\\Users\\meloy\\PycharmProjects\\Capstone\\Loader\\Data\\Lime Experiment\\processed\\mask.npy...\n",
      "Mask loaded: 62953/89088 valid pixels (70.66%)\n",
      "Data loading completed in 0.27 seconds\n",
      "Processing hyperspectral data...\n",
      "Processing 4 excitation wavelengths\n",
      "Original data dimensions: 256x348\n",
      "Global data range: [0.0000, 3708.0000]\n",
      "Data normalized to range [0, 1]\n",
      "Data processing completed in 1.77 seconds\n",
      "Creating RGB visualizations...\n",
      "RGB visualization completed in 2.29 seconds\n",
      "Running clustering...\n",
      "Using all available excitations: ['300.0', '310.0', '320.0', '330.0']\n",
      "Running clustering on 4 excitation wavelengths\n",
      "  Clustering excitation 300.0...\n",
      "    Subsampling from 62953 to 50000 pixels for efficiency\n",
      "  Clustering excitation 310.0...\n",
      "    Subsampling from 62953 to 50000 pixels for efficiency\n",
      "  Clustering excitation 320.0...\n",
      "    Subsampling from 62953 to 50000 pixels for efficiency\n",
      "  Clustering excitation 330.0...\n",
      "    Subsampling from 62953 to 50000 pixels for efficiency\n",
      "  Running combined 4D clustering using feature averaging...\n",
      "  Using excitation 300.0 with 22 bands as representative\n",
      "  Creating 4D feature tensor for 62953.0 valid pixels\n",
      "  Extracting features from all excitations for each pixel...\n",
      "    Processed 0/62953 pixels\n",
      "    Processed 10000/62953 pixels\n",
      "    Processed 20000/62953 pixels\n",
      "    Processed 30000/62953 pixels\n",
      "    Processed 40000/62953 pixels\n",
      "    Processed 50000/62953 pixels\n",
      "    Processed 60000/62953 pixels\n",
      "  Final valid pixels for clustering: 62953/62953\n",
      "  Subsampling from 62953 to 50000 pixels for efficiency\n",
      "Clustering completed in 7.66 seconds\n",
      "Creating cluster overlays...\n",
      "Overlays created in 9.92 seconds\n",
      "Creating side-by-side comparison...\n",
      "Side-by-side comparison created in 1.56 seconds\n",
      "\n",
      "=== Pipeline completed in 23.56 seconds ===\n"
     ]
    }
   ],
   "execution_count": 2
  }
 ],
 "metadata": {
  "kernelspec": {
   "display_name": "Python 3",
   "language": "python",
   "name": "python3"
  },
  "language_info": {
   "codemirror_mode": {
    "name": "ipython",
    "version": 2
   },
   "file_extension": ".py",
   "mimetype": "text/x-python",
   "name": "python",
   "nbconvert_exporter": "python",
   "pygments_lexer": "ipython2",
   "version": "2.7.6"
  }
 },
 "nbformat": 4,
 "nbformat_minor": 5
}
