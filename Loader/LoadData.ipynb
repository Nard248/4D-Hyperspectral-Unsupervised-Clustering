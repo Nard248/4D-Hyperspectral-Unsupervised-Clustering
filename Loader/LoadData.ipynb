{
 "cells": [
  {
   "metadata": {},
   "cell_type": "markdown",
   "source": "# Loading the Raw Data Pipeline",
   "id": "a39f2cf2d875893a"
  },
  {
   "metadata": {},
   "cell_type": "markdown",
   "source": "Imports",
   "id": "92703c91bbe900bc"
  },
  {
   "cell_type": "code",
   "id": "initial_id",
   "metadata": {
    "collapsed": true,
    "ExecuteTime": {
     "end_time": "2025-04-18T15:14:03.113574Z",
     "start_time": "2025-04-18T15:14:01.058651Z"
    }
   },
   "source": [
    "import os\n",
    "import numpy as np\n",
    "import matplotlib.pyplot as plt\n",
    "from HyperspectralDataLoader import HyperspectralDataLoader, save_dataframe, load_data_and_create_df\n",
    "import pandas as pd\n",
    "from pathlib import Path\n",
    "import pickle\n",
    "from typing import Dict, List, Tuple, Optional, Union\n",
    "\n",
    "import warnings\n",
    "warnings.filterwarnings(\"ignore\")"
   ],
   "outputs": [],
   "execution_count": 1
  },
  {
   "metadata": {},
   "cell_type": "markdown",
   "source": "Experiment Data Loading",
   "id": "e7f63b306db7b336"
  },
  {
   "metadata": {
    "ExecuteTime": {
     "end_time": "2025-04-18T14:52:41.993555Z",
     "start_time": "2025-04-18T14:52:38.626622Z"
    }
   },
   "cell_type": "code",
   "source": [
    "data_path = '../Data/Kiwi'\n",
    "metadata_path = '../Data/Kiwi/metadata.xlsx'\n",
    "\n",
    "loader = HyperspectralDataLoader(\n",
    "    data_path=data_path,\n",
    "    metadata_path=metadata_path,\n",
    "    cutoff_offset=20,\n",
    "    use_fiji=True,\n",
    "    verbose=True\n",
    ")"
   ],
   "id": "596b0854f35b3754",
   "outputs": [
    {
     "name": "stdout",
     "output_type": "stream",
     "text": [
      "Initializing ImageJ (Fiji)...\n"
     ]
    }
   ],
   "execution_count": 4
  },
  {
   "metadata": {
    "ExecuteTime": {
     "end_time": "2025-04-18T14:54:29.307038Z",
     "start_time": "2025-04-18T14:52:42.006618Z"
    }
   },
   "cell_type": "code",
   "source": [
    "loader.load_data(apply_cutoff=True)\n",
    "\n",
    "loader.print_summary()\n",
    "\n",
    "loader.save_to_pkl('Data/Kiwi Experiment/pickles/KiwiData.pkl')"
   ],
   "id": "ffc9c5f7911db866",
   "outputs": [
    {
     "name": "stdout",
     "output_type": "stream",
     "text": [
      "Loading 300.im3 ...\n"
     ]
    },
    {
     "name": "stderr",
     "output_type": "stream",
     "text": [
      "Operating in headless mode - the original ImageJ will have limited functionality.\n"
     ]
    },
    {
     "name": "stdout",
     "output_type": "stream",
     "text": [
      "Loading 310.im3 ...\n",
      "Loading 320.im3 ...\n",
      "Loading 330.im3 ...\n",
      "Loading 340.im3 ...\n",
      "Loading 350.im3 ...\n",
      "Loading 360.im3 ...\n",
      "Loading 370.im3 ...\n",
      "Loading 380.im3 ...\n",
      "Loading 390.im3 ...\n",
      "Loading 400.im3 ...\n",
      "Loading 410.im3 ...\n",
      "Loading 420.im3 ...\n",
      "Loading 430.im3 ...\n",
      "Loading 440.im3 ...\n",
      "Loading 450.im3 ...\n",
      "Loading 460.im3 ...\n",
      "Loading 470.im3 ...\n",
      "Loading 480.im3 ...\n",
      "Loading 490.im3 ...\n",
      "Loading 500.im3 ...\n",
      "Processing data with cutoff offset: 20nm...\n",
      "Applied cutoff for excitation 300.0nm\n",
      "Removed wavelengths between 580.0nm and 620.0nm\n",
      "Original data shape: (1024, 1392, 31), filtered shape: (1024, 1392, 26)\n",
      "Applied cutoff for excitation 310.0nm\n",
      "Removed wavelengths between 600.0nm and 640.0nm\n",
      "Original data shape: (1024, 1392, 31), filtered shape: (1024, 1392, 26)\n",
      "Applied cutoff for excitation 320.0nm\n",
      "Removed wavelengths between 620.0nm and 660.0nm\n",
      "Original data shape: (1024, 1392, 31), filtered shape: (1024, 1392, 26)\n",
      "Applied cutoff for excitation 330.0nm\n",
      "Removed wavelengths between 640.0nm and 680.0nm\n",
      "Original data shape: (1024, 1392, 31), filtered shape: (1024, 1392, 26)\n",
      "Applied cutoff for excitation 340.0nm\n",
      "Removed wavelengths between 660.0nm and 700.0nm\n",
      "Original data shape: (1024, 1392, 31), filtered shape: (1024, 1392, 26)\n",
      "Applied cutoff for excitation 350.0nm\n",
      "Removed wavelengths between 680.0nm and 720.0nm\n",
      "Original data shape: (1024, 1392, 31), filtered shape: (1024, 1392, 26)\n",
      "Applied cutoff for excitation 360.0nm\n",
      "Removed wavelengths between 700.0nm and 740.0nm\n",
      "Original data shape: (1024, 1392, 31), filtered shape: (1024, 1392, 28)\n",
      "Applied cutoff for excitation 370.0nm\n",
      "Removed wavelengths between 720.0nm and 760.0nm\n",
      "Original data shape: (1024, 1392, 31), filtered shape: (1024, 1392, 30)\n",
      "Applied cutoff for excitation 380.0nm\n",
      "Removed wavelengths between 740.0nm and 780.0nm\n",
      "Original data shape: (1024, 1392, 31), filtered shape: (1024, 1392, 31)\n",
      "Applied cutoff for excitation 390.0nm\n",
      "Removed wavelengths between 760.0nm and 800.0nm\n",
      "Original data shape: (1024, 1392, 31), filtered shape: (1024, 1392, 31)\n",
      "Applied cutoff for excitation 400.0nm\n",
      "Removed wavelengths between 780.0nm and 820.0nm\n",
      "Original data shape: (1024, 1392, 31), filtered shape: (1024, 1392, 31)\n",
      "Applied cutoff for excitation 410.0nm\n",
      "Removed wavelengths between 800.0nm and 840.0nm\n",
      "Original data shape: (1024, 1392, 30), filtered shape: (1024, 1392, 30)\n",
      "Applied cutoff for excitation 420.0nm\n",
      "Removed wavelengths between 820.0nm and 860.0nm\n",
      "Original data shape: (1024, 1392, 29), filtered shape: (1024, 1392, 29)\n",
      "Applied cutoff for excitation 430.0nm\n",
      "Removed wavelengths between 840.0nm and 880.0nm\n",
      "Original data shape: (1024, 1392, 28), filtered shape: (1024, 1392, 28)\n",
      "Applied cutoff for excitation 440.0nm\n",
      "Removed wavelengths between 860.0nm and 900.0nm\n",
      "Original data shape: (1024, 1392, 27), filtered shape: (1024, 1392, 27)\n",
      "Applied cutoff for excitation 450.0nm\n",
      "Removed wavelengths between 880.0nm and 920.0nm\n",
      "Original data shape: (1024, 1392, 26), filtered shape: (1024, 1392, 26)\n",
      "Applied cutoff for excitation 460.0nm\n",
      "Removed wavelengths between 900.0nm and 940.0nm\n",
      "Original data shape: (1024, 1392, 25), filtered shape: (1024, 1392, 25)\n",
      "Applied cutoff for excitation 470.0nm\n",
      "Removed wavelengths between 920.0nm and 960.0nm\n",
      "Original data shape: (1024, 1392, 24), filtered shape: (1024, 1392, 24)\n",
      "Applied cutoff for excitation 480.0nm\n",
      "Removed wavelengths between 940.0nm and 980.0nm\n",
      "Original data shape: (1024, 1392, 23), filtered shape: (1024, 1392, 23)\n",
      "Applied cutoff for excitation 490.0nm\n",
      "Removed wavelengths between 960.0nm and 1000.0nm\n",
      "Original data shape: (1024, 1392, 22), filtered shape: (1024, 1392, 22)\n",
      "Applied cutoff for excitation 500.0nm\n",
      "Removed wavelengths between 980.0nm and 1020.0nm\n",
      "Original data shape: (1024, 1392, 21), filtered shape: (1024, 1392, 21)\n",
      "\n",
      "Hyperspectral Data Summary:\n",
      "Number of excitation wavelengths: 21\n",
      "Excitation wavelengths: [300.0, 310.0, 320.0, 330.0, 340.0, 350.0, 360.0, 370.0, 380.0, 390.0, 400.0, 410.0, 420.0, 430.0, 440.0, 450.0, 460.0, 470.0, 480.0, 490.0, 500.0]\n",
      "Processed date: 2025-04-18 18:52:38\n",
      "Cutoff offset (for 2nd order scattering): 20 nm\n",
      "\n",
      "Excitation Details:\n",
      "\n",
      "  Excitation 300.0 nm:\n",
      "    Cube shape: (1024, 1392, 26)\n",
      "    Emission range: (420.0, 720.0) nm\n",
      "    Number of emission bands: 26\n",
      "\n",
      "  Excitation 310.0 nm:\n",
      "    Cube shape: (1024, 1392, 26)\n",
      "    Emission range: (420.0, 720.0) nm\n",
      "    Number of emission bands: 26\n",
      "\n",
      "  Excitation 320.0 nm:\n",
      "    Cube shape: (1024, 1392, 26)\n",
      "    Emission range: (420.0, 720.0) nm\n",
      "    Number of emission bands: 26\n",
      "\n",
      "  Excitation 330.0 nm:\n",
      "    Cube shape: (1024, 1392, 26)\n",
      "    Emission range: (420.0, 720.0) nm\n",
      "    Number of emission bands: 26\n",
      "\n",
      "  Excitation 340.0 nm:\n",
      "    Cube shape: (1024, 1392, 26)\n",
      "    Emission range: (420.0, 720.0) nm\n",
      "    Number of emission bands: 26\n",
      "\n",
      "  Excitation 350.0 nm:\n",
      "    Cube shape: (1024, 1392, 26)\n",
      "    Emission range: (420.0, 670.0) nm\n",
      "    Number of emission bands: 26\n",
      "\n",
      "  Excitation 360.0 nm:\n",
      "    Cube shape: (1024, 1392, 28)\n",
      "    Emission range: (420.0, 690.0) nm\n",
      "    Number of emission bands: 28\n",
      "\n",
      "  Excitation 370.0 nm:\n",
      "    Cube shape: (1024, 1392, 30)\n",
      "    Emission range: (420.0, 710.0) nm\n",
      "    Number of emission bands: 30\n",
      "\n",
      "  Excitation 380.0 nm:\n",
      "    Cube shape: (1024, 1392, 31)\n",
      "    Emission range: (420.0, 720.0) nm\n",
      "    Number of emission bands: 31\n",
      "\n",
      "  Excitation 390.0 nm:\n",
      "    Cube shape: (1024, 1392, 31)\n",
      "    Emission range: (420.0, 720.0) nm\n",
      "    Number of emission bands: 31\n",
      "\n",
      "  Excitation 400.0 nm:\n",
      "    Cube shape: (1024, 1392, 31)\n",
      "    Emission range: (420.0, 720.0) nm\n",
      "    Number of emission bands: 31\n",
      "\n",
      "  Excitation 410.0 nm:\n",
      "    Cube shape: (1024, 1392, 30)\n",
      "    Emission range: (430.0, 720.0) nm\n",
      "    Number of emission bands: 30\n",
      "\n",
      "  Excitation 420.0 nm:\n",
      "    Cube shape: (1024, 1392, 29)\n",
      "    Emission range: (440.0, 720.0) nm\n",
      "    Number of emission bands: 29\n",
      "\n",
      "  Excitation 430.0 nm:\n",
      "    Cube shape: (1024, 1392, 28)\n",
      "    Emission range: (450.0, 720.0) nm\n",
      "    Number of emission bands: 28\n",
      "\n",
      "  Excitation 440.0 nm:\n",
      "    Cube shape: (1024, 1392, 27)\n",
      "    Emission range: (460.0, 720.0) nm\n",
      "    Number of emission bands: 27\n",
      "\n",
      "  Excitation 450.0 nm:\n",
      "    Cube shape: (1024, 1392, 26)\n",
      "    Emission range: (470.0, 720.0) nm\n",
      "    Number of emission bands: 26\n",
      "\n",
      "  Excitation 460.0 nm:\n",
      "    Cube shape: (1024, 1392, 25)\n",
      "    Emission range: (480.0, 720.0) nm\n",
      "    Number of emission bands: 25\n",
      "\n",
      "  Excitation 470.0 nm:\n",
      "    Cube shape: (1024, 1392, 24)\n",
      "    Emission range: (490.0, 720.0) nm\n",
      "    Number of emission bands: 24\n",
      "\n",
      "  Excitation 480.0 nm:\n",
      "    Cube shape: (1024, 1392, 23)\n",
      "    Emission range: (500.0, 720.0) nm\n",
      "    Number of emission bands: 23\n",
      "\n",
      "  Excitation 490.0 nm:\n",
      "    Cube shape: (1024, 1392, 22)\n",
      "    Emission range: (510.0, 720.0) nm\n",
      "    Number of emission bands: 22\n",
      "\n",
      "  Excitation 500.0 nm:\n",
      "    Cube shape: (1024, 1392, 21)\n",
      "    Emission range: (520.0, 720.0) nm\n",
      "    Number of emission bands: 21\n",
      "Data saved to Data/Kiwi Experiment/KiwiData.pkl\n"
     ]
    }
   ],
   "execution_count": 5
  },
  {
   "metadata": {},
   "cell_type": "markdown",
   "source": "Data Transformation - 2D Parquet - Spatial Data + Intensity Spectrum",
   "id": "df447eaa9a6ac456"
  },
  {
   "metadata": {
    "ExecuteTime": {
     "end_time": "2025-04-18T14:54:56.079517Z",
     "start_time": "2025-04-18T14:54:29.669388Z"
    }
   },
   "cell_type": "code",
   "source": [
    "pickle_file = \"Data/Kiwi Experiment/pickles/KiwiData.pkl\"\n",
    "\n",
    "df = load_data_and_create_df(pickle_file)\n",
    "\n",
    "save_dataframe(df,\"Data/Kiwi Experiment/pickles/KiwiData.parquet\")\n",
    "\n",
    "print(\"\\nSample of the dataframe:\")\n",
    "print(df.head())\n",
    "\n",
    "print(\"\\nDataframe statistics:\")\n",
    "print(f\"Total rows (pixels): {len(df)}\")\n",
    "print(f\"Total columns: {len(df.columns)}\")\n",
    "print(f\"Memory usage: {df.memory_usage().sum() / 1024 / 1024:.2f} MB\")"
   ],
   "id": "aa24b0fc889d0ae4",
   "outputs": [
    {
     "name": "stdout",
     "output_type": "stream",
     "text": [
      "Found 21 excitation wavelengths\n",
      "Generated 562 valid excitation-emission combinations\n",
      "Image dimensions: 1024 x 1392 pixels\n",
      "Created initial dataframe with 1425408 rows\n",
      "Final dataframe has 564 columns\n",
      "Saving dataframe to Data/Kiwi Experiment/pickles/KiwiData.parquet\n",
      "Saved dataframe with 1425408 rows and 564 columns\n",
      "\n",
      "Sample of the dataframe:\n",
      "   x  y  420-300  430-300  440-300  450-300  460-300  470-300  480-300  \\\n",
      "0  0  0      6.0      0.0      9.0     14.0      9.0     19.0      0.0   \n",
      "1  1  0      0.0      0.0     14.0      6.0     40.0      0.0     22.0   \n",
      "2  2  0      0.0     17.0      0.0      0.0      9.0      0.0      6.0   \n",
      "3  3  0      0.0      1.0      0.0     35.0     58.0     27.0     17.0   \n",
      "4  4  0     11.0      0.0      0.0     22.0      9.0     32.0     11.0   \n",
      "\n",
      "   490-300  ...  630-500  640-500  650-500  660-500  670-500  680-500  \\\n",
      "0      1.0  ...     14.0      1.0     17.0      0.0     48.0      0.0   \n",
      "1      0.0  ...     35.0      0.0     24.0     19.0      0.0      0.0   \n",
      "2     19.0  ...      0.0      0.0      0.0     17.0      0.0     19.0   \n",
      "3      0.0  ...     32.0      9.0      0.0      0.0      4.0      0.0   \n",
      "4     19.0  ...     14.0     37.0      0.0     11.0     66.0     32.0   \n",
      "\n",
      "   690-500  700-500  710-500  720-500  \n",
      "0      4.0     19.0     45.0      0.0  \n",
      "1      0.0      6.0     42.0     27.0  \n",
      "2     22.0     32.0      9.0      0.0  \n",
      "3      6.0      4.0      0.0      4.0  \n",
      "4      4.0     14.0      1.0      0.0  \n",
      "\n",
      "[5 rows x 564 columns]\n",
      "\n",
      "Dataframe statistics:\n",
      "Total rows (pixels): 1425408\n",
      "Total columns: 564\n",
      "Memory usage: 6133.50 MB\n"
     ]
    }
   ],
   "execution_count": 6
  },
  {
   "metadata": {},
   "cell_type": "markdown",
   "source": "Normalizing by Exposure Time",
   "id": "f190d71ff73461b"
  },
  {
   "metadata": {
    "ExecuteTime": {
     "end_time": "2025-04-18T15:17:28.055189Z",
     "start_time": "2025-04-18T15:16:10.385466Z"
    }
   },
   "cell_type": "code",
   "source": [
    "from HyperspectralDataLoader import normalize_and_save_both_versions\n",
    "\n",
    "up_file_path, down_file_path = normalize_and_save_both_versions('Data/Kiwi Experiment/pickles/KiwiData.pkl', 'Data/Kiwi Experiment/pickles/')"
   ],
   "id": "2e92f71dbfc6308f",
   "outputs": [
    {
     "name": "stdout",
     "output_type": "stream",
     "text": [
      "Loading data from Data/Kiwi Experiment/pickles/KiwiData.pkl...\n",
      "\n",
      "Exposure Time Information:\n",
      "Excitation (nm) Exposure Time  \n",
      "------------------------------\n",
      "300.0           5000.0         \n",
      "310.0           5000.0         \n",
      "320.0           5000.0         \n",
      "330.0           5000.0         \n",
      "340.0           5000.0         \n",
      "350.0           5000.0         \n",
      "360.0           5000.0         \n",
      "370.0           5000.0         \n",
      "380.0           5000.0         \n",
      "390.0           5000.0         \n",
      "400.0           5000.0         \n",
      "410.0           5000.0         \n",
      "420.0           5000.0         \n",
      "430.0           5000.0         \n",
      "440.0           5000.0         \n",
      "450.0           4000.0         \n",
      "460.0           4000.0         \n",
      "470.0           4000.0         \n",
      "480.0           4000.0         \n",
      "490.0           4000.0         \n",
      "500.0           4000.0         \n",
      "\n",
      "Summary:\n",
      "Minimum exposure: 4000.0\n",
      "Maximum exposure: 5000.0\n",
      "Ratio max/min: 1.25\n",
      "Normalizing hyperspectral data using max exposure as reference...\n",
      "Found exposure times for 21 excitation wavelengths\n",
      "Using maximum exposure time as reference: 5000.0\n",
      "Normalizing data cubes...\n",
      "  Normalized excitation 300.0nm (Exposure: 5000.0, Factor: 1.0000)\n",
      "  Normalized excitation 310.0nm (Exposure: 5000.0, Factor: 1.0000)\n",
      "  Normalized excitation 320.0nm (Exposure: 5000.0, Factor: 1.0000)\n",
      "  Normalized excitation 330.0nm (Exposure: 5000.0, Factor: 1.0000)\n",
      "  Normalized excitation 340.0nm (Exposure: 5000.0, Factor: 1.0000)\n",
      "  Normalized excitation 350.0nm (Exposure: 5000.0, Factor: 1.0000)\n",
      "  Normalized excitation 360.0nm (Exposure: 5000.0, Factor: 1.0000)\n",
      "  Normalized excitation 370.0nm (Exposure: 5000.0, Factor: 1.0000)\n",
      "  Normalized excitation 380.0nm (Exposure: 5000.0, Factor: 1.0000)\n",
      "  Normalized excitation 390.0nm (Exposure: 5000.0, Factor: 1.0000)\n",
      "  Normalized excitation 400.0nm (Exposure: 5000.0, Factor: 1.0000)\n",
      "  Normalized excitation 410.0nm (Exposure: 5000.0, Factor: 1.0000)\n",
      "  Normalized excitation 420.0nm (Exposure: 5000.0, Factor: 1.0000)\n",
      "  Normalized excitation 430.0nm (Exposure: 5000.0, Factor: 1.0000)\n",
      "  Normalized excitation 440.0nm (Exposure: 5000.0, Factor: 1.0000)\n",
      "  Normalized excitation 450.0nm (Exposure: 4000.0, Factor: 1.2500)\n",
      "  Normalized excitation 460.0nm (Exposure: 4000.0, Factor: 1.2500)\n",
      "  Normalized excitation 470.0nm (Exposure: 4000.0, Factor: 1.2500)\n",
      "  Normalized excitation 480.0nm (Exposure: 4000.0, Factor: 1.2500)\n",
      "  Normalized excitation 490.0nm (Exposure: 4000.0, Factor: 1.2500)\n",
      "  Normalized excitation 500.0nm (Exposure: 4000.0, Factor: 1.2500)\n",
      "Normalized data saved to Data\\Kiwi Experiment\\pickles\\KiwiData_normalized_exposure_up.pkl\n",
      "Normalizing hyperspectral data using min exposure as reference...\n",
      "Found exposure times for 21 excitation wavelengths\n",
      "Using minimum exposure time as reference: 4000.0\n",
      "Normalizing data cubes...\n",
      "  Normalized excitation 300.0nm (Exposure: 5000.0, Factor: 0.8000)\n",
      "  Normalized excitation 310.0nm (Exposure: 5000.0, Factor: 0.8000)\n",
      "  Normalized excitation 320.0nm (Exposure: 5000.0, Factor: 0.8000)\n",
      "  Normalized excitation 330.0nm (Exposure: 5000.0, Factor: 0.8000)\n",
      "  Normalized excitation 340.0nm (Exposure: 5000.0, Factor: 0.8000)\n",
      "  Normalized excitation 350.0nm (Exposure: 5000.0, Factor: 0.8000)\n",
      "  Normalized excitation 360.0nm (Exposure: 5000.0, Factor: 0.8000)\n",
      "  Normalized excitation 370.0nm (Exposure: 5000.0, Factor: 0.8000)\n",
      "  Normalized excitation 380.0nm (Exposure: 5000.0, Factor: 0.8000)\n",
      "  Normalized excitation 390.0nm (Exposure: 5000.0, Factor: 0.8000)\n",
      "  Normalized excitation 400.0nm (Exposure: 5000.0, Factor: 0.8000)\n",
      "  Normalized excitation 410.0nm (Exposure: 5000.0, Factor: 0.8000)\n",
      "  Normalized excitation 420.0nm (Exposure: 5000.0, Factor: 0.8000)\n",
      "  Normalized excitation 430.0nm (Exposure: 5000.0, Factor: 0.8000)\n",
      "  Normalized excitation 440.0nm (Exposure: 5000.0, Factor: 0.8000)\n",
      "  Normalized excitation 450.0nm (Exposure: 4000.0, Factor: 1.0000)\n",
      "  Normalized excitation 460.0nm (Exposure: 4000.0, Factor: 1.0000)\n",
      "  Normalized excitation 470.0nm (Exposure: 4000.0, Factor: 1.0000)\n",
      "  Normalized excitation 480.0nm (Exposure: 4000.0, Factor: 1.0000)\n",
      "  Normalized excitation 490.0nm (Exposure: 4000.0, Factor: 1.0000)\n",
      "  Normalized excitation 500.0nm (Exposure: 4000.0, Factor: 1.0000)\n",
      "Normalized data saved to Data\\Kiwi Experiment\\pickles\\KiwiData_normalized_exposure_down.pkl\n",
      "\n",
      "Normalization complete!\n",
      "Up-normalized data (max exposure reference) saved to: Data\\Kiwi Experiment\\pickles\\KiwiData_normalized_exposure_up.pkl\n",
      "Down-normalized data (min exposure reference) saved to: Data\\Kiwi Experiment\\pickles\\KiwiData_normalized_exposure_down.pkl\n"
     ]
    }
   ],
   "execution_count": 3
  },
  {
   "metadata": {
    "ExecuteTime": {
     "end_time": "2025-04-18T15:17:37.840418Z",
     "start_time": "2025-04-18T15:17:37.817376Z"
    }
   },
   "cell_type": "code",
   "source": "up_file_path, down_file_path",
   "id": "86a4cdb6d48d3e4d",
   "outputs": [
    {
     "data": {
      "text/plain": [
       "(WindowsPath('Data/Kiwi Experiment/pickles/KiwiData_normalized_exposure_up.pkl'),\n",
       " WindowsPath('Data/Kiwi Experiment/pickles/KiwiData_normalized_exposure_down.pkl'))"
      ]
     },
     "execution_count": 4,
     "metadata": {},
     "output_type": "execute_result"
    }
   ],
   "execution_count": 4
  },
  {
   "metadata": {
    "ExecuteTime": {
     "end_time": "2025-04-18T15:23:20.089239Z",
     "start_time": "2025-04-18T15:22:50.728002Z"
    }
   },
   "cell_type": "code",
   "source": "df_up, df_down = load_data_and_create_df(up_file_path), load_data_and_create_df(down_file_path)",
   "id": "90c587f3170180f0",
   "outputs": [
    {
     "name": "stdout",
     "output_type": "stream",
     "text": [
      "Found 21 excitation wavelengths\n",
      "Generated 562 valid excitation-emission combinations\n",
      "Image dimensions: 1024 x 1392 pixels\n",
      "Created initial dataframe with 1425408 rows\n",
      "Final dataframe has 564 columns\n",
      "Found 21 excitation wavelengths\n",
      "Generated 562 valid excitation-emission combinations\n",
      "Image dimensions: 1024 x 1392 pixels\n",
      "Created initial dataframe with 1425408 rows\n",
      "Final dataframe has 564 columns\n"
     ]
    }
   ],
   "execution_count": 7
  },
  {
   "metadata": {
    "ExecuteTime": {
     "end_time": "2025-04-18T15:23:48.150738Z",
     "start_time": "2025-04-18T15:23:20.120448Z"
    }
   },
   "cell_type": "code",
   "source": [
    "save_dataframe(df_up,\"Data/Kiwi Experiment/parquests/KiwiDataExposureUpNormalized.parquet\")\n",
    "save_dataframe(df_down,\"Data/Kiwi Experiment/parquests/KiwiDataExposureDownNormalized.parquet\")"
   ],
   "id": "b18e480918142097",
   "outputs": [
    {
     "name": "stdout",
     "output_type": "stream",
     "text": [
      "Saving dataframe to Data/Kiwi Experiment/parquests/KiwiDataExposureUpNormalized.parquet\n",
      "Saved dataframe with 1425408 rows and 564 columns\n",
      "Saving dataframe to Data/Kiwi Experiment/parquests/KiwiDataExposureDownNormalized.parquet\n",
      "Saved dataframe with 1425408 rows and 564 columns\n"
     ]
    }
   ],
   "execution_count": 8
  },
  {
   "metadata": {
    "ExecuteTime": {
     "end_time": "2025-04-18T14:54:56.154112Z",
     "start_time": "2025-04-18T14:54:56.152111Z"
    }
   },
   "cell_type": "code",
   "source": "",
   "id": "c859cb4d6afbdb1",
   "outputs": [],
   "execution_count": null
  },
  {
   "metadata": {
    "ExecuteTime": {
     "end_time": "2025-04-18T14:54:56.170382Z",
     "start_time": "2025-04-18T14:54:56.167843Z"
    }
   },
   "cell_type": "code",
   "source": "",
   "id": "5da9f168cb653c98",
   "outputs": [],
   "execution_count": null
  },
  {
   "metadata": {
    "ExecuteTime": {
     "end_time": "2025-04-18T14:54:56.186134Z",
     "start_time": "2025-04-18T14:54:56.184117Z"
    }
   },
   "cell_type": "code",
   "source": "",
   "id": "65ac72126d6a52eb",
   "outputs": [],
   "execution_count": null
  },
  {
   "metadata": {},
   "cell_type": "code",
   "outputs": [],
   "execution_count": null,
   "source": "",
   "id": "cb7490ef2b12a5d2"
  }
 ],
 "metadata": {
  "kernelspec": {
   "display_name": "Python 3",
   "language": "python",
   "name": "python3"
  },
  "language_info": {
   "codemirror_mode": {
    "name": "ipython",
    "version": 2
   },
   "file_extension": ".py",
   "mimetype": "text/x-python",
   "name": "python",
   "nbconvert_exporter": "python",
   "pygments_lexer": "ipython2",
   "version": "2.7.6"
  }
 },
 "nbformat": 4,
 "nbformat_minor": 5
}
