{
 "cells": [
  {
   "metadata": {},
   "cell_type": "markdown",
   "source": "# Loading the Raw Data Pipeline",
   "id": "a39f2cf2d875893a"
  },
  {
   "metadata": {},
   "cell_type": "markdown",
   "source": "Imports",
   "id": "92703c91bbe900bc"
  },
  {
   "cell_type": "code",
   "id": "initial_id",
   "metadata": {
    "collapsed": true,
    "ExecuteTime": {
     "end_time": "2025-04-26T17:36:19.617170Z",
     "start_time": "2025-04-26T17:36:17.419426Z"
    }
   },
   "source": [
    "import os\n",
    "import numpy as np\n",
    "import matplotlib.pyplot as plt\n",
    "from HyperspectralDataLoader import HyperspectralDataLoader, save_dataframe, load_data_and_create_df, load_masked_data_and_create_df\n",
    "import pandas as pd\n",
    "from pathlib import Path\n",
    "import pickle\n",
    "from typing import Dict, List, Tuple, Optional, Union\n",
    "\n",
    "import warnings\n",
    "warnings.filterwarnings(\"ignore\")"
   ],
   "outputs": [],
   "execution_count": 1
  },
  {
   "metadata": {},
   "cell_type": "markdown",
   "source": "Experiment Data Loading",
   "id": "e7f63b306db7b336"
  },
  {
   "metadata": {},
   "cell_type": "code",
   "source": [
    "data_path = '../Data/Kiwi'\n",
    "metadata_path = '../Data/Kiwi/metadata.xlsx'\n",
    "\n",
    "loader = HyperspectralDataLoader(\n",
    "    data_path=data_path,\n",
    "    metadata_path=metadata_path,\n",
    "    cutoff_offset=30,\n",
    "    use_fiji=True,\n",
    "    verbose=True\n",
    ")"
   ],
   "id": "596b0854f35b3754",
   "outputs": [],
   "execution_count": null
  },
  {
   "metadata": {},
   "cell_type": "code",
   "source": [
    "loader.load_data(apply_cutoff=True)\n",
    "\n",
    "loader.print_summary()\n",
    "\n",
    "loader.save_to_pkl('Data/Kiwi Experiment/pickles/KiwiData.pkl')"
   ],
   "id": "ffc9c5f7911db866",
   "outputs": [],
   "execution_count": null
  },
  {
   "metadata": {},
   "cell_type": "markdown",
   "source": "Data Transformation - 2D Parquet - Spatial Data + Intensity Spectrum",
   "id": "df447eaa9a6ac456"
  },
  {
   "metadata": {},
   "cell_type": "code",
   "source": [
    "pickle_file = \"Data/Kiwi Experiment/pickles/KiwiData.pkl\"\n",
    "\n",
    "df = load_data_and_create_df(pickle_file)\n",
    "\n",
    "save_dataframe(df,\"Data/Kiwi Experiment/pickles/KiwiData.parquet\")\n",
    "\n",
    "print(\"\\nSample of the dataframe:\")\n",
    "print(df.head())\n",
    "\n",
    "print(\"\\nDataframe statistics:\")\n",
    "print(f\"Total rows (pixels): {len(df)}\")\n",
    "print(f\"Total columns: {len(df.columns)}\")\n",
    "print(f\"Memory usage: {df.memory_usage().sum() / 1024 / 1024:.2f} MB\")"
   ],
   "id": "aa24b0fc889d0ae4",
   "outputs": [],
   "execution_count": null
  },
  {
   "metadata": {},
   "cell_type": "markdown",
   "source": "Normalizing by Exposure Time",
   "id": "f190d71ff73461b"
  },
  {
   "metadata": {},
   "cell_type": "code",
   "source": [
    "from HyperspectralDataLoader import normalize_and_save_both_versions\n",
    "\n",
    "up_file_path, down_file_path = normalize_and_save_both_versions('Data/Kiwi Experiment/pickles/KiwiData.pkl', 'Data/Kiwi Experiment/pickles/')"
   ],
   "id": "2e92f71dbfc6308f",
   "outputs": [],
   "execution_count": null
  },
  {
   "metadata": {},
   "cell_type": "code",
   "source": "up_file_path, down_file_path",
   "id": "86a4cdb6d48d3e4d",
   "outputs": [],
   "execution_count": null
  },
  {
   "metadata": {},
   "cell_type": "code",
   "source": "df_up, df_down = load_data_and_create_df(up_file_path), load_data_and_create_df(down_file_path)",
   "id": "90c587f3170180f0",
   "outputs": [],
   "execution_count": null
  },
  {
   "metadata": {},
   "cell_type": "code",
   "source": [
    "save_dataframe(df_up,\"Data/Kiwi Experiment/parquests/KiwiDataExposureUpNormalized.parquet\")\n",
    "save_dataframe(df_down,\"Data/Kiwi Experiment/parquests/KiwiDataExposureDownNormalized.parquet\")"
   ],
   "id": "b18e480918142097",
   "outputs": [],
   "execution_count": null
  },
  {
   "metadata": {},
   "cell_type": "markdown",
   "source": "Masked Data Processing",
   "id": "3cc549316a7e5109"
  },
  {
   "metadata": {
    "ExecuteTime": {
     "end_time": "2025-04-21T14:01:16.810223Z",
     "start_time": "2025-04-21T14:00:53.131573Z"
    }
   },
   "cell_type": "code",
   "source": [
    "masked_pickle_file = \"Data/Kiwi Experiment/pickles/masked_KiwiData.pkl\"\n",
    "df_masked = load_masked_data_and_create_df(masked_pickle_file)\n",
    "save_dataframe(df_masked, \"Data/Kiwi Experiment/parquests/KiwiDataMasked.parquet\")"
   ],
   "id": "5eb9d97c8bbe8eba",
   "outputs": [
    {
     "name": "stdout",
     "output_type": "stream",
     "text": [
      "Found 21 excitation wavelengths\n",
      "Generated 562 valid excitation-emission combinations\n",
      "Image dimensions: 1024 x 1392 pixels\n",
      "Identified 245642 masked pixels, keeping 1179766 pixels\n",
      "Created initial dataframe with 1179766 rows\n",
      "Final dataframe has 564 columns\n",
      "Saving dataframe to Data/Kiwi Experiment/parquests/KiwiDataMasked.parquet\n",
      "Saved dataframe with 1179766 rows and 564 columns\n"
     ]
    }
   ],
   "execution_count": 5
  },
  {
   "metadata": {
    "ExecuteTime": {
     "end_time": "2025-04-21T14:01:49.898890Z",
     "start_time": "2025-04-21T14:01:16.833710Z"
    }
   },
   "cell_type": "code",
   "source": [
    "masked_pickle_file = \"Data/Kiwi Experiment/pickles/masked_KiwiData_normalized_exposure_up.pkl\"\n",
    "df_masked = load_masked_data_and_create_df(masked_pickle_file)\n",
    "save_dataframe(df_masked, \"Data/Kiwi Experiment/parquests/KiwiDataMaskedUpNormalized.parquet\")"
   ],
   "id": "96338752250ec8d9",
   "outputs": [
    {
     "name": "stdout",
     "output_type": "stream",
     "text": [
      "Found 21 excitation wavelengths\n",
      "Generated 562 valid excitation-emission combinations\n",
      "Image dimensions: 1024 x 1392 pixels\n",
      "Identified 245642 masked pixels, keeping 1179766 pixels\n",
      "Created initial dataframe with 1179766 rows\n",
      "Final dataframe has 564 columns\n",
      "Saving dataframe to Data/Kiwi Experiment/parquests/KiwiDataMaskedUpNormalized.parquet\n",
      "Saved dataframe with 1179766 rows and 564 columns\n"
     ]
    }
   ],
   "execution_count": 6
  },
  {
   "metadata": {
    "ExecuteTime": {
     "end_time": "2025-04-21T14:02:22.519451Z",
     "start_time": "2025-04-21T14:01:49.916721Z"
    }
   },
   "cell_type": "code",
   "source": [
    "masked_pickle_file = \"Data/Kiwi Experiment/pickles/masked_KiwiData_normalized_exposure_down.pkl\"\n",
    "df_masked = load_masked_data_and_create_df(masked_pickle_file)\n",
    "save_dataframe(df_masked, \"Data/Kiwi Experiment/parquests/KiwiDataMaskedDownNormalized.parquet\")"
   ],
   "id": "a5d0d754329ce829",
   "outputs": [
    {
     "name": "stdout",
     "output_type": "stream",
     "text": [
      "Found 21 excitation wavelengths\n",
      "Generated 562 valid excitation-emission combinations\n",
      "Image dimensions: 1024 x 1392 pixels\n",
      "Identified 245642 masked pixels, keeping 1179766 pixels\n",
      "Created initial dataframe with 1179766 rows\n",
      "Final dataframe has 564 columns\n",
      "Saving dataframe to Data/Kiwi Experiment/parquests/KiwiDataMaskedDownNormalized.parquet\n",
      "Saved dataframe with 1179766 rows and 564 columns\n"
     ]
    }
   ],
   "execution_count": 7
  },
  {
   "metadata": {},
   "cell_type": "code",
   "outputs": [],
   "execution_count": null,
   "source": "",
   "id": "f659856b5df0298"
  }
 ],
 "metadata": {
  "kernelspec": {
   "display_name": "Python 3",
   "language": "python",
   "name": "python3"
  },
  "language_info": {
   "codemirror_mode": {
    "name": "ipython",
    "version": 2
   },
   "file_extension": ".py",
   "mimetype": "text/x-python",
   "name": "python",
   "nbconvert_exporter": "python",
   "pygments_lexer": "ipython2",
   "version": "2.7.6"
  }
 },
 "nbformat": 4,
 "nbformat_minor": 5
}
