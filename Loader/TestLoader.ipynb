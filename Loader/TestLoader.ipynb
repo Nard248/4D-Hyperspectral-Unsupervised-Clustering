{
 "cells": [
  {
   "cell_type": "code",
   "id": "initial_id",
   "metadata": {
    "collapsed": true,
    "ExecuteTime": {
     "end_time": "2025-04-17T13:39:23.219838Z",
     "start_time": "2025-04-17T13:39:17.013646Z"
    }
   },
   "source": [
    "import os\n",
    "import numpy as np\n",
    "import matplotlib.pyplot as plt\n",
    "from HyperspectralDataLoader import HyperspectralDataLoader\n",
    "\n",
    "# Path to your data\n",
    "data_path = '../Data/Kiwi'\n",
    "metadata_path = '../Data/Kiwi/metadata.xlsx'\n",
    "\n",
    "# Initialize the data loader\n",
    "loader = HyperspectralDataLoader(\n",
    "    data_path=data_path,\n",
    "    metadata_path=metadata_path,\n",
    "    cutoff_offset=30,  # Width around 2*excitation for second-order scattering removal\n",
    "    use_fiji=True,\n",
    "    verbose=True\n",
    ")"
   ],
   "outputs": [
    {
     "name": "stdout",
     "output_type": "stream",
     "text": [
      "Initializing ImageJ (Fiji)...\n"
     ]
    }
   ],
   "execution_count": 1
  },
  {
   "metadata": {
    "ExecuteTime": {
     "end_time": "2025-04-17T13:42:08.598507Z",
     "start_time": "2025-04-17T13:39:29.273696Z"
    }
   },
   "cell_type": "code",
   "source": [
    "# Load and process the data\n",
    "loader.load_data(apply_cutoff=True)\n",
    "\n",
    "# Print a summary of the loaded data\n",
    "loader.print_summary()\n",
    "\n",
    "# Save the processed data for future use\n",
    "loader.save_to_pkl('kiwi_processed.pkl')"
   ],
   "id": "40d17e0bfc09e7b5",
   "outputs": [
    {
     "name": "stdout",
     "output_type": "stream",
     "text": [
      "Loading 300.im3 ...\n"
     ]
    },
    {
     "name": "stderr",
     "output_type": "stream",
     "text": [
      "Operating in headless mode - the original ImageJ will have limited functionality.\n"
     ]
    },
    {
     "name": "stdout",
     "output_type": "stream",
     "text": [
      "Loading 310.im3 ...\n",
      "Loading 320.im3 ...\n",
      "Loading 330.im3 ...\n",
      "Loading 340.im3 ...\n",
      "Loading 350.im3 ...\n",
      "Loading 360.im3 ...\n",
      "Loading 370.im3 ...\n",
      "Loading 380.im3 ...\n",
      "Loading 390.im3 ...\n",
      "Loading 400.im3 ...\n",
      "Loading 410.im3 ...\n",
      "Loading 420.im3 ...\n",
      "Loading 430.im3 ...\n",
      "Loading 440.im3 ...\n",
      "Loading 450.im3 ...\n",
      "Loading 460.im3 ...\n",
      "Loading 470.im3 ...\n",
      "Loading 480.im3 ...\n",
      "Loading 490.im3 ...\n",
      "Loading 500.im3 ...\n",
      "Processing data with cutoff offset: 30nm...\n",
      "Applied cutoff for excitation 300.0nm\n",
      "Removed wavelengths between 570.0nm and 630.0nm\n",
      "Original data shape: (1024, 1392, 31), filtered shape: (1024, 1392, 24)\n",
      "Applied cutoff for excitation 310.0nm\n",
      "Removed wavelengths between 590.0nm and 650.0nm\n",
      "Original data shape: (1024, 1392, 31), filtered shape: (1024, 1392, 24)\n",
      "Applied cutoff for excitation 320.0nm\n",
      "Removed wavelengths between 610.0nm and 670.0nm\n",
      "Original data shape: (1024, 1392, 31), filtered shape: (1024, 1392, 24)\n",
      "Applied cutoff for excitation 330.0nm\n",
      "Removed wavelengths between 630.0nm and 690.0nm\n",
      "Original data shape: (1024, 1392, 31), filtered shape: (1024, 1392, 24)\n",
      "Applied cutoff for excitation 340.0nm\n",
      "Removed wavelengths between 650.0nm and 710.0nm\n",
      "Original data shape: (1024, 1392, 31), filtered shape: (1024, 1392, 24)\n",
      "Applied cutoff for excitation 350.0nm\n",
      "Removed wavelengths between 670.0nm and 730.0nm\n",
      "Original data shape: (1024, 1392, 31), filtered shape: (1024, 1392, 25)\n",
      "Applied cutoff for excitation 360.0nm\n",
      "Removed wavelengths between 690.0nm and 750.0nm\n",
      "Original data shape: (1024, 1392, 31), filtered shape: (1024, 1392, 27)\n",
      "Applied cutoff for excitation 370.0nm\n",
      "Removed wavelengths between 710.0nm and 770.0nm\n",
      "Original data shape: (1024, 1392, 31), filtered shape: (1024, 1392, 29)\n",
      "Applied cutoff for excitation 380.0nm\n",
      "Removed wavelengths between 730.0nm and 790.0nm\n",
      "Original data shape: (1024, 1392, 31), filtered shape: (1024, 1392, 31)\n",
      "Applied cutoff for excitation 390.0nm\n",
      "Removed wavelengths between 750.0nm and 810.0nm\n",
      "Original data shape: (1024, 1392, 31), filtered shape: (1024, 1392, 31)\n",
      "Applied cutoff for excitation 400.0nm\n",
      "Removed wavelengths between 770.0nm and 830.0nm\n",
      "Original data shape: (1024, 1392, 31), filtered shape: (1024, 1392, 31)\n",
      "Applied cutoff for excitation 410.0nm\n",
      "Removed wavelengths between 790.0nm and 850.0nm\n",
      "Original data shape: (1024, 1392, 30), filtered shape: (1024, 1392, 30)\n",
      "Applied cutoff for excitation 420.0nm\n",
      "Removed wavelengths between 810.0nm and 870.0nm\n",
      "Original data shape: (1024, 1392, 29), filtered shape: (1024, 1392, 29)\n",
      "Applied cutoff for excitation 430.0nm\n",
      "Removed wavelengths between 830.0nm and 890.0nm\n",
      "Original data shape: (1024, 1392, 28), filtered shape: (1024, 1392, 28)\n",
      "Applied cutoff for excitation 440.0nm\n",
      "Removed wavelengths between 850.0nm and 910.0nm\n",
      "Original data shape: (1024, 1392, 27), filtered shape: (1024, 1392, 27)\n",
      "Applied cutoff for excitation 450.0nm\n",
      "Removed wavelengths between 870.0nm and 930.0nm\n",
      "Original data shape: (1024, 1392, 26), filtered shape: (1024, 1392, 26)\n",
      "Applied cutoff for excitation 460.0nm\n",
      "Removed wavelengths between 890.0nm and 950.0nm\n",
      "Original data shape: (1024, 1392, 25), filtered shape: (1024, 1392, 25)\n",
      "Applied cutoff for excitation 470.0nm\n",
      "Removed wavelengths between 910.0nm and 970.0nm\n",
      "Original data shape: (1024, 1392, 24), filtered shape: (1024, 1392, 24)\n",
      "Applied cutoff for excitation 480.0nm\n",
      "Removed wavelengths between 930.0nm and 990.0nm\n",
      "Original data shape: (1024, 1392, 23), filtered shape: (1024, 1392, 23)\n",
      "Applied cutoff for excitation 490.0nm\n",
      "Removed wavelengths between 950.0nm and 1010.0nm\n",
      "Original data shape: (1024, 1392, 22), filtered shape: (1024, 1392, 22)\n",
      "Applied cutoff for excitation 500.0nm\n",
      "Removed wavelengths between 970.0nm and 1030.0nm\n",
      "Original data shape: (1024, 1392, 21), filtered shape: (1024, 1392, 21)\n",
      "\n",
      "Hyperspectral Data Summary:\n",
      "Number of excitation wavelengths: 21\n",
      "Excitation wavelengths: [300.0, 310.0, 320.0, 330.0, 340.0, 350.0, 360.0, 370.0, 380.0, 390.0, 400.0, 410.0, 420.0, 430.0, 440.0, 450.0, 460.0, 470.0, 480.0, 490.0, 500.0]\n",
      "Processed date: 2025-04-17 17:39:17\n",
      "Cutoff offset (for 2nd order scattering): 30 nm\n",
      "\n",
      "Excitation Details:\n",
      "\n",
      "  Excitation 300.0 nm:\n",
      "    Cube shape: (1024, 1392, 24)\n",
      "    Emission range: (420.0, 720.0) nm\n",
      "    Number of emission bands: 24\n",
      "\n",
      "  Excitation 310.0 nm:\n",
      "    Cube shape: (1024, 1392, 24)\n",
      "    Emission range: (420.0, 720.0) nm\n",
      "    Number of emission bands: 24\n",
      "\n",
      "  Excitation 320.0 nm:\n",
      "    Cube shape: (1024, 1392, 24)\n",
      "    Emission range: (420.0, 720.0) nm\n",
      "    Number of emission bands: 24\n",
      "\n",
      "  Excitation 330.0 nm:\n",
      "    Cube shape: (1024, 1392, 24)\n",
      "    Emission range: (420.0, 720.0) nm\n",
      "    Number of emission bands: 24\n",
      "\n",
      "  Excitation 340.0 nm:\n",
      "    Cube shape: (1024, 1392, 24)\n",
      "    Emission range: (420.0, 720.0) nm\n",
      "    Number of emission bands: 24\n",
      "\n",
      "  Excitation 350.0 nm:\n",
      "    Cube shape: (1024, 1392, 25)\n",
      "    Emission range: (420.0, 660.0) nm\n",
      "    Number of emission bands: 25\n",
      "\n",
      "  Excitation 360.0 nm:\n",
      "    Cube shape: (1024, 1392, 27)\n",
      "    Emission range: (420.0, 680.0) nm\n",
      "    Number of emission bands: 27\n",
      "\n",
      "  Excitation 370.0 nm:\n",
      "    Cube shape: (1024, 1392, 29)\n",
      "    Emission range: (420.0, 700.0) nm\n",
      "    Number of emission bands: 29\n",
      "\n",
      "  Excitation 380.0 nm:\n",
      "    Cube shape: (1024, 1392, 31)\n",
      "    Emission range: (420.0, 720.0) nm\n",
      "    Number of emission bands: 31\n",
      "\n",
      "  Excitation 390.0 nm:\n",
      "    Cube shape: (1024, 1392, 31)\n",
      "    Emission range: (420.0, 720.0) nm\n",
      "    Number of emission bands: 31\n",
      "\n",
      "  Excitation 400.0 nm:\n",
      "    Cube shape: (1024, 1392, 31)\n",
      "    Emission range: (420.0, 720.0) nm\n",
      "    Number of emission bands: 31\n",
      "\n",
      "  Excitation 410.0 nm:\n",
      "    Cube shape: (1024, 1392, 30)\n",
      "    Emission range: (430.0, 720.0) nm\n",
      "    Number of emission bands: 30\n",
      "\n",
      "  Excitation 420.0 nm:\n",
      "    Cube shape: (1024, 1392, 29)\n",
      "    Emission range: (440.0, 720.0) nm\n",
      "    Number of emission bands: 29\n",
      "\n",
      "  Excitation 430.0 nm:\n",
      "    Cube shape: (1024, 1392, 28)\n",
      "    Emission range: (450.0, 720.0) nm\n",
      "    Number of emission bands: 28\n",
      "\n",
      "  Excitation 440.0 nm:\n",
      "    Cube shape: (1024, 1392, 27)\n",
      "    Emission range: (460.0, 720.0) nm\n",
      "    Number of emission bands: 27\n",
      "\n",
      "  Excitation 450.0 nm:\n",
      "    Cube shape: (1024, 1392, 26)\n",
      "    Emission range: (470.0, 720.0) nm\n",
      "    Number of emission bands: 26\n",
      "\n",
      "  Excitation 460.0 nm:\n",
      "    Cube shape: (1024, 1392, 25)\n",
      "    Emission range: (480.0, 720.0) nm\n",
      "    Number of emission bands: 25\n",
      "\n",
      "  Excitation 470.0 nm:\n",
      "    Cube shape: (1024, 1392, 24)\n",
      "    Emission range: (490.0, 720.0) nm\n",
      "    Number of emission bands: 24\n",
      "\n",
      "  Excitation 480.0 nm:\n",
      "    Cube shape: (1024, 1392, 23)\n",
      "    Emission range: (500.0, 720.0) nm\n",
      "    Number of emission bands: 23\n",
      "\n",
      "  Excitation 490.0 nm:\n",
      "    Cube shape: (1024, 1392, 22)\n",
      "    Emission range: (510.0, 720.0) nm\n",
      "    Number of emission bands: 22\n",
      "\n",
      "  Excitation 500.0 nm:\n",
      "    Cube shape: (1024, 1392, 21)\n",
      "    Emission range: (520.0, 720.0) nm\n",
      "    Number of emission bands: 21\n",
      "Data saved to kiwi_processed.pkl\n"
     ]
    }
   ],
   "execution_count": 2
  },
  {
   "metadata": {
    "ExecuteTime": {
     "end_time": "2025-04-17T13:46:58.317708Z",
     "start_time": "2025-04-17T13:46:58.312181Z"
    }
   },
   "cell_type": "code",
   "source": [
    "ex = loader.excitation_wavelengths[10]\n",
    "cube, wavelengths = loader.get_cube(ex)\n",
    "print(f\"Data shape for {ex}nm: {cube.shape}\")\n",
    "print(f\"Emission wavelengths: {wavelengths}\")"
   ],
   "id": "ec40086117dc2e18",
   "outputs": [
    {
     "name": "stdout",
     "output_type": "stream",
     "text": [
      "Data shape for 400.0nm: (1024, 1392, 31)\n",
      "Emission wavelengths: [420.0, 430.0, 440.0, 450.0, 460.0, 470.0, 480.0, 490.0, 500.0, 510.0, 520.0, 530.0, 540.0, 550.0, 560.0, 570.0, 580.0, 590.0, 600.0, 610.0, 620.0, 630.0, 640.0, 650.0, 660.0, 670.0, 680.0, 690.0, 700.0, 710.0, 720.0]\n"
     ]
    }
   ],
   "execution_count": 5
  },
  {
   "metadata": {
    "ExecuteTime": {
     "end_time": "2025-04-17T13:46:59.866363Z",
     "start_time": "2025-04-17T13:46:59.728284Z"
    }
   },
   "cell_type": "code",
   "source": [
    "height, width = cube.shape[0], cube.shape[1]\n",
    "row, col = height // 2, width // 2  # Center pixel\n",
    "spectrum, wavelengths = loader.get_emission_spectrum(ex, row, col)\n",
    "plt.figure(figsize=(10, 6))\n",
    "plt.plot(wavelengths, spectrum)\n",
    "plt.title(f'Emission Spectrum at pixel ({row}, {col}) for Ex={ex}nm')\n",
    "plt.xlabel('Emission Wavelength (nm)')\n",
    "plt.ylabel('Intensity')\n",
    "plt.grid(True, alpha=0.3)\n",
    "plt.savefig('emission_spectrum.png')\n",
    "plt.close()"
   ],
   "id": "44d721df283ef022",
   "outputs": [],
   "execution_count": 6
  },
  {
   "metadata": {
    "ExecuteTime": {
     "end_time": "2025-04-17T13:47:10.839350Z",
     "start_time": "2025-04-17T13:47:10.034630Z"
    }
   },
   "cell_type": "code",
   "source": [
    "loader.visualize_image(ex, emission_wavelength=wavelengths[len(wavelengths)//2])\n",
    "plt.savefig('single_band_image.png')\n",
    "plt.close()"
   ],
   "id": "9db77c24d82b7eb2",
   "outputs": [],
   "execution_count": 7
  },
  {
   "metadata": {
    "ExecuteTime": {
     "end_time": "2025-04-17T13:47:35.509588Z",
     "start_time": "2025-04-17T13:47:33.434437Z"
    }
   },
   "cell_type": "code",
   "source": [
    "# 4. Create a false color RGB image\n",
    "loader.visualize_false_color(ex, method='rgb')\n",
    "plt.savefig('rgb_false_color.png')\n",
    "plt.close()\n",
    "\n",
    "# 5. Try PCA visualization\n",
    "loader.visualize_false_color(ex, method='pca')\n",
    "plt.savefig('pca_false_color.png')\n",
    "plt.close()\n",
    "\n",
    "# # 6. Visualize the cutoff effect (showing second-order scattering removal)\n",
    "# loader.visualize_cutoff(ex)\n",
    "# plt.savefig('second_order_cutoff.png')\n",
    "# plt.close()\n",
    "\n",
    "print(\"Analysis complete!\")"
   ],
   "id": "f6fbef3d666bfdf4",
   "outputs": [
    {
     "name": "stdout",
     "output_type": "stream",
     "text": [
      "Analysis complete!\n"
     ]
    }
   ],
   "execution_count": 9
  },
  {
   "metadata": {},
   "cell_type": "code",
   "outputs": [],
   "execution_count": null,
   "source": "",
   "id": "4f604c32d9249761"
  }
 ],
 "metadata": {
  "kernelspec": {
   "display_name": "Python 3",
   "language": "python",
   "name": "python3"
  },
  "language_info": {
   "codemirror_mode": {
    "name": "ipython",
    "version": 2
   },
   "file_extension": ".py",
   "mimetype": "text/x-python",
   "name": "python",
   "nbconvert_exporter": "python",
   "pygments_lexer": "ipython2",
   "version": "2.7.6"
  }
 },
 "nbformat": 4,
 "nbformat_minor": 5
}
